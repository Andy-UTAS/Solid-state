{
 "cells": [
  {
   "cell_type": "markdown",
   "metadata": {},
   "source": [
    "# Vibrations in a 1D solid\n",
    "\n",
    "This notebook is to accompany the _Vibrations_ content.\n",
    "\n",
    "Version 1.0, updated 26/08/2021 by AJM"
   ]
  },
  {
   "cell_type": "markdown",
   "metadata": {},
   "source": [
    "## Import packages\n",
    "\n",
    "To streamline operations in Python, packages can be imported to perform a host of various tasks. To make this process as simple as possible, all the required packages are included in the file _[SSP.py](https://github.com/Andy-UTAS/Solid-state/blob/master/SSP.py)_ and thus we can import all of the content: "
   ]
  },
  {
   "cell_type": "code",
   "execution_count": null,
   "metadata": {},
   "outputs": [],
   "source": [
    "from SSP import *"
   ]
  },
  {
   "cell_type": "markdown",
   "metadata": {},
   "source": [
    "## Inter-particle potential\n",
    "\n",
    "Let's plot out the potential, although we need to include a realistic potential, so we are going to use the [Lennard-Jones potential](https://en.wikipedia.org/wiki/Lennard-Jones_potential), but the model is not super critical given we are going to approximate it!"
   ]
  },
  {
   "cell_type": "code",
   "execution_count": null,
   "metadata": {},
   "outputs": [],
   "source": [
    "# Lennard-Jones potential\n",
    "def potential(x):\n",
    "    return 4 * (x ** -12 - x ** -6)\n",
    "\n",
    "# Set min and max x parameters\n",
    "x_min, x_max = [.75, 2]\n",
    "\n",
    "# Create equally spaced points between x_min and x_max\n",
    "deltax = np.linspace(x_min, x_max, 1000)\n",
    "\n",
    "# Make the plot\n",
    "fig, ax = plt.subplots()\n",
    "ax.hlines(0, 0, 3, label = '$E = 0$', linestyle = '--', color = 'C0') # E = 0\n",
    "ax.plot(deltax, potential(deltax), label='Potential', color = 'C1') # Potential\n",
    "ax.set_xlabel('$\\Delta x$')\n",
    "ax.set_ylabel('Energy')\n",
    "ax.set_xlim(x_min, x_max)\n",
    "ax.set_ylim(-1.5,1.5)\n",
    "ax.legend()\n",
    "\n",
    "ax.set_title('Inter-particle potential');\n",
    "\n",
    "plt.savefig('3-1-potential.svg', facecolor='white', transparent=False)\n",
    "\n",
    "plt.show()"
   ]
  },
  {
   "cell_type": "markdown",
   "metadata": {},
   "source": [
    "Now let's see how well we can approximate the low-energy well with a parabola"
   ]
  },
  {
   "cell_type": "code",
   "execution_count": null,
   "metadata": {},
   "outputs": [],
   "source": [
    "energy = 0.25 # Offset from the bottom of the well\n",
    "height = (-1+energy) # Well height\n",
    "\n",
    "# Select the appropriate values to fit\n",
    "deep = potential(deltax) < height # Select values of the potential less than the height, returns boolean array\n",
    "well_x = deltax[deep] # map the x values using the boolean array\n",
    "well_V = potential(deltax)[deep]  # map the potential values using the boolean array\n",
    "\n",
    "# Define the function to fit (a cubic)\n",
    "def parabola(x, a, b, c):\n",
    "    return a * x**2 + b * x + c\n",
    "\n",
    "fit = curve_fit(parabola, well_x, well_V) # perform the fit\n",
    "params = fit[0] # extract the fit parameter. Note, if you haven't seen multiparameter fitting, observe that params is an array, not a value\n",
    "\n",
    "# Make the plot\n",
    "fig, ax = plt.subplots()\n",
    "ax.hlines(height,0,3, label = '$E = E_{\\mathrm{min}} + k_{\\mathrm{B}}T$', linestyle = '--', color = 'C0')\n",
    "ax.hlines(-1 ,0,3, label = '$E = E_{\\mathrm{min}}$', color = 'C0')\n",
    "ax.plot(deltax, potential(deltax), label='Potential', color = 'C1')\n",
    "ax.plot(well_x, well_V, label='Lowest energy well', color = 'C2')\n",
    "\n",
    "# NOTE: to get the list of fitting parameters into the model, we need to tell python to interpret the array as the list of function inputs, hence the *\n",
    "ax.plot(deltax, parabola(deltax, *params), label=f'Fit', color = 'C3', linestyle = '--') \n",
    "\n",
    "ax.set_xlabel('$\\Delta x$')\n",
    "ax.set_ylabel('Energy')\n",
    "ax.set_xlim(.75,2)\n",
    "ax.set_ylim(-1.1,.1)\n",
    "ax.legend(loc = 7)\n",
    "\n",
    "# Put in the k_B T\n",
    "ax.text(.85, 1.025 * (height - 1)/2 , r'$k_{\\mathrm{B}}T$',\n",
    "         horizontalalignment='center', fontsize=16)\n",
    "\n",
    "ax.annotate(\"\", xy=(.8, -1),\n",
    "            xytext=(.8, height),\n",
    "            arrowprops=dict(arrowstyle=\"<->\"))\n",
    "\n",
    "plt.savefig('3-1-potentialwithapprox.svg', facecolor='white', transparent=False)\n",
    "\n",
    "plt.show()"
   ]
  },
  {
   "cell_type": "markdown",
   "metadata": {},
   "source": [
    "## Dispersion relation"
   ]
  },
  {
   "cell_type": "code",
   "execution_count": null,
   "metadata": {},
   "outputs": [],
   "source": [
    "kappa = 1\n",
    "m = 1\n",
    "a = 1\n",
    "\n",
    "def dispersion(k):\n",
    "    return 2 * np.sqrt(kappa/m) * abs(np.sin(k * a / 2))\n",
    "\n",
    "scale = 3\n",
    "\n",
    "brillouin = np.linspace(-np.pi/a, np.pi/a, 500)\n",
    "ks = brillouin * scale\n",
    "\n",
    "fig, ax = plt.subplots()\n",
    "ax.plot(ks, dispersion(ks), label='Dispersion', linestyle = '--', color = 'C0')\n",
    "ax.plot(brillouin, dispersion(brillouin), label='Brillouin Zone', color = 'C0')\n",
    "\n",
    "ax.set_xlabel('$k$')\n",
    "ax.set_ylabel('$\\omega$')\n",
    "ax.set_xlim(min(ks),max(ks))\n",
    "ax.set_title('Dispersion relation');\n",
    "ax.set_aspect(3) # if adjusting the aspect ratio, make sure to use bbox_inches='tight' when saving!\n",
    "\n",
    "plt.savefig('3-1-dispersion.svg', facecolor='white', transparent=False, bbox_inches='tight')\n",
    "\n",
    "plt.show()"
   ]
  },
  {
   "cell_type": "markdown",
   "metadata": {},
   "source": [
    "Plot only the Brillouin zone"
   ]
  },
  {
   "cell_type": "code",
   "execution_count": null,
   "metadata": {},
   "outputs": [],
   "source": [
    "fig, ax = plt.subplots()\n",
    "ax.plot(brillouin, dispersion(brillouin), label='Brillouin Zone', color = 'C0')\n",
    "\n",
    "xvals = [-np.pi/a, np.pi/a]\n",
    "for v in xvals:\n",
    "    ax.axvline(x=v, linestyle = '--')\n",
    "    \n",
    "    offset = 0.75\n",
    "    if v < 0:\n",
    "        sign = '-'\n",
    "    elif v > 0:\n",
    "        sign = '+'\n",
    "        offset = -offset\n",
    "        \n",
    "    # Label the Brillouin range\n",
    "    ax.text(v + offset, .1 , f'$k ={sign}\\pi/a$',\n",
    "             horizontalalignment='center', fontsize=16)\n",
    "\n",
    "ax.set_xlabel('$k$')\n",
    "ax.set_ylabel('$\\omega$')\n",
    "\n",
    "ax.hlines(2*np.sqrt(kappa/m), *xvals, label = '$E = E_{\\mathrm{min}}$', color = 'C0', linestyle = '--')\n",
    "# Put in the k_B T\n",
    "ax.text(1*offset, 1.8*np.sqrt(kappa/m) , f'$\\omega =2'+r'\\sqrt{\\frac{\\pi}{a}}$',\n",
    "         horizontalalignment='center', fontsize=16)\n",
    "\n",
    "ax.set_aspect(2) # if adjusting the aspect ratio, make sure to use bbox_inches='tight' when saving!\n",
    "\n",
    "draw_classic_axes(ax)\n",
    "plt.savefig('3-1-brillouin.svg', facecolor='white', transparent=False, bbox_inches='tight')\n",
    "\n",
    "plt.show()"
   ]
  },
  {
   "cell_type": "markdown",
   "metadata": {},
   "source": [
    "## Aliasing "
   ]
  },
  {
   "cell_type": "code",
   "execution_count": null,
   "metadata": {},
   "outputs": [],
   "source": [
    "x = np.linspace(-.2, 5*a, 500)\n",
    "x_max = x.max()\n",
    "fig, ax = plt.subplots()\n",
    "\n",
    "k = np.pi/ (a-a/8.624)\n",
    "\n",
    "ax.plot(x, np.cos(k*x), label=f'$k=k_0$')\n",
    "ax.plot(x, np.cos((k+2*np.pi/a)*x), label=f'$k=k_0 + 2\\pi/a$')\n",
    "\n",
    "sites = np.linspace(0,x_max,6)\n",
    "ax.scatter(sites, np.cos(k*sites), c='k', s=250, zorder=5)\n",
    "\n",
    "ax.set_xlabel('$x$')\n",
    "ax.set_ylabel('$\\delta x_n$')\n",
    "ax.set_xlim((-.1, x_max))\n",
    "ax.set_ylim((-1.3, 1.3))\n",
    "ax.legend(loc='lower right')\n",
    "draw_classic_axes(ax)\n",
    "ax.annotate(text='', xy=(0, -1.1), xytext=(a, -1.1),\n",
    "            arrowprops=dict(arrowstyle='<->', shrinkA=0, shrinkB=0))\n",
    "ax.text(.5, -1.25, '$a$', ha='center');\n",
    "\n",
    "plt.savefig('3-1-aliasing.svg', facecolor='white', transparent=False)\n",
    "\n",
    "plt.show()"
   ]
  }
 ],
 "metadata": {
  "kernelspec": {
   "display_name": "Python 3",
   "language": "python",
   "name": "python3"
  },
  "language_info": {
   "codemirror_mode": {
    "name": "ipython",
    "version": 3
   },
   "file_extension": ".py",
   "mimetype": "text/x-python",
   "name": "python",
   "nbconvert_exporter": "python",
   "pygments_lexer": "ipython3",
   "version": "3.8.5"
  }
 },
 "nbformat": 4,
 "nbformat_minor": 4
}
