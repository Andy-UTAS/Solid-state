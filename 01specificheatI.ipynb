{
 "cells": [
  {
   "cell_type": "code",
   "execution_count": 194,
   "metadata": {},
   "outputs": [],
   "source": [
    "import pandas as pd\n",
    "import numpy as np\n",
    "import matplotlib.pyplot as plt\n",
    "import scipy.constants as const\n",
    "from scipy.optimize import curve_fit"
   ]
  },
  {
   "cell_type": "code",
   "execution_count": 86,
   "metadata": {},
   "outputs": [],
   "source": [
    "import matplotlib\n",
    "\n",
    "def setplotstyle():\n",
    "    matplotlib.rcParams['text.usetex'] = False\n",
    "    matplotlib.rcParams['figure.figsize'] = (10, 7)\n",
    "    matplotlib.rcParams['font.size'] = 16\n",
    "    matplotlib.rcParams['axes.linewidth'] = 2.5\n",
    "    for p in ['xtick', 'ytick']:\n",
    "        matplotlib.rcParams[p+'.major.size'] = 10\n",
    "        matplotlib.rcParams[p+'.minor.size'] = 2.5\n",
    "        matplotlib.rcParams[p+'.major.width'] = 2.5\n",
    "        matplotlib.rcParams[p+'.major.width'] = 1.5\n",
    "        \n",
    "R = const.R\n",
    "hbar = const.hbar\n",
    "kb = const.k\n",
    "\n",
    "setplotstyle()"
   ]
  },
  {
   "cell_type": "code",
   "execution_count": 5,
   "metadata": {
    "collapsed": true,
    "jupyter": {
     "outputs_hidden": true
    }
   },
   "outputs": [
    {
     "name": "stderr",
     "output_type": "stream",
     "text": [
      "Heat capacities of the elements (data page)[0][0]: missing field for column [J/(mol·K)]\n",
      "Heat capacities of the elements (data page)[0][0]: missing field for column [J/(g·K)]\n",
      "Heat capacities of the elements (data page)[0][3]: missing field for column [J/(g·K)]\n",
      "Heat capacities of the elements (data page)[0][4]: missing field for column [J/(g·K)]\n",
      "Heat capacities of the elements (data page)[0][5]: missing field for column [J/(mol·K)]\n",
      "Heat capacities of the elements (data page)[0][5]: missing field for column [J/(g·K)]\n",
      "Heat capacities of the elements (data page)[0][8]: missing field for column [J/(g·K)]\n",
      "Heat capacities of the elements (data page)[0][9]: missing field for column [J/(g·K)]\n",
      "Heat capacities of the elements (data page)[0][10]: missing field for column [J/(mol·K)]\n",
      "Heat capacities of the elements (data page)[0][10]: missing field for column [J/(g·K)]\n",
      "Heat capacities of the elements (data page)[0][13]: missing field for column [J/(g·K)]\n",
      "Heat capacities of the elements (data page)[0][14]: missing field for column [J/(g·K)]\n",
      "Heat capacities of the elements (data page)[0][15]: missing field for column [J/(mol·K)]\n",
      "Heat capacities of the elements (data page)[0][15]: missing field for column [J/(g·K)]\n",
      "Heat capacities of the elements (data page)[0][18]: missing field for column [J/(g·K)]\n",
      "Heat capacities of the elements (data page)[0][19]: missing field for column [J/(g·K)]\n",
      "Heat capacities of the elements (data page)[0][20]: missing field for column [J/(mol·K)]\n",
      "Heat capacities of the elements (data page)[0][20]: missing field for column [J/(g·K)]\n",
      "Heat capacities of the elements (data page)[0][23]: missing field for column [J/(g·K)]\n",
      "Heat capacities of the elements (data page)[0][24]: missing field for column [J/(g·K)]\n",
      "Heat capacities of the elements (data page)[0][25]: missing field for column [J/(mol·K)]\n",
      "Heat capacities of the elements (data page)[0][25]: missing field for column [J/(g·K)]\n",
      "Heat capacities of the elements (data page)[0][28]: missing field for column [J/(g·K)]\n",
      "Heat capacities of the elements (data page)[0][29]: missing field for column [J/(g·K)]\n",
      "Heat capacities of the elements (data page)[0][30]: missing field for column [J/(mol·K)]\n",
      "Heat capacities of the elements (data page)[0][30]: missing field for column [J/(g·K)]\n",
      "Heat capacities of the elements (data page)[0][32]: missing field for column [J/(g·K)]\n",
      "Heat capacities of the elements (data page)[0][33]: missing field for column [J/(g·K)]\n",
      "Heat capacities of the elements (data page)[0][34]: missing field for column [J/(mol·K)]\n",
      "Heat capacities of the elements (data page)[0][34]: missing field for column [J/(g·K)]\n",
      "Heat capacities of the elements (data page)[0][37]: missing field for column [J/(g·K)]\n",
      "Heat capacities of the elements (data page)[0][38]: missing field for column [J/(g·K)]\n",
      "Heat capacities of the elements (data page)[0][39]: missing field for column [J/(mol·K)]\n",
      "Heat capacities of the elements (data page)[0][39]: missing field for column [J/(g·K)]\n",
      "Heat capacities of the elements (data page)[0][42]: missing field for column [J/(g·K)]\n",
      "Heat capacities of the elements (data page)[0][43]: missing field for column [J/(g·K)]\n",
      "Heat capacities of the elements (data page)[0][44]: missing field for column [J/(mol·K)]\n",
      "Heat capacities of the elements (data page)[0][44]: missing field for column [J/(g·K)]\n",
      "Heat capacities of the elements (data page)[0][47]: missing field for column [J/(g·K)]\n",
      "Heat capacities of the elements (data page)[0][48]: missing field for column [J/(g·K)]\n",
      "Heat capacities of the elements (data page)[0][49]: missing field for column [J/(mol·K)]\n",
      "Heat capacities of the elements (data page)[0][49]: missing field for column [J/(g·K)]\n",
      "Heat capacities of the elements (data page)[0][52]: missing field for column [J/(g·K)]\n",
      "Heat capacities of the elements (data page)[0][53]: missing field for column [J/(g·K)]\n",
      "Heat capacities of the elements (data page)[0][54]: missing field for column [J/(mol·K)]\n",
      "Heat capacities of the elements (data page)[0][54]: missing field for column [J/(g·K)]\n",
      "Heat capacities of the elements (data page)[0][57]: missing field for column [J/(g·K)]\n",
      "Heat capacities of the elements (data page)[0][58]: missing field for column [J/(g·K)]\n",
      "Heat capacities of the elements (data page)[0][59]: missing field for column [J/(mol·K)]\n",
      "Heat capacities of the elements (data page)[0][59]: missing field for column [J/(g·K)]\n",
      "Heat capacities of the elements (data page)[0][62]: missing field for column [J/(g·K)]\n",
      "Heat capacities of the elements (data page)[0][63]: missing field for column [J/(g·K)]\n",
      "Heat capacities of the elements (data page)[0][64]: missing field for column [J/(mol·K)]\n",
      "Heat capacities of the elements (data page)[0][64]: missing field for column [J/(g·K)]\n",
      "Heat capacities of the elements (data page)[0][67]: missing field for column [J/(g·K)]\n",
      "Heat capacities of the elements (data page)[0][68]: missing field for column [J/(g·K)]\n",
      "Heat capacities of the elements (data page)[0][69]: missing field for column [J/(mol·K)]\n",
      "Heat capacities of the elements (data page)[0][69]: missing field for column [J/(g·K)]\n",
      "Heat capacities of the elements (data page)[0][72]: missing field for column [J/(g·K)]\n",
      "Heat capacities of the elements (data page)[0][73]: missing field for column [J/(g·K)]\n",
      "Heat capacities of the elements (data page)[0][74]: missing field for column [J/(mol·K)]\n",
      "Heat capacities of the elements (data page)[0][74]: missing field for column [J/(g·K)]\n",
      "Heat capacities of the elements (data page)[0][77]: missing field for column [J/(g·K)]\n",
      "Heat capacities of the elements (data page)[0][78]: missing field for column [J/(g·K)]\n",
      "Heat capacities of the elements (data page)[0][79]: missing field for column [J/(mol·K)]\n",
      "Heat capacities of the elements (data page)[0][79]: missing field for column [J/(g·K)]\n",
      "Heat capacities of the elements (data page)[0][81]: missing field for column [J/(g·K)]\n",
      "Heat capacities of the elements (data page)[0][82]: missing field for column [J/(g·K)]\n",
      "Heat capacities of the elements (data page)[0][83]: missing field for column [J/(mol·K)]\n",
      "Heat capacities of the elements (data page)[0][83]: missing field for column [J/(g·K)]\n",
      "Heat capacities of the elements (data page)[0][86]: missing field for column [J/(g·K)]\n",
      "Heat capacities of the elements (data page)[0][87]: missing field for column [J/(g·K)]\n",
      "Heat capacities of the elements (data page)[0][88]: missing field for column [J/(mol·K)]\n",
      "Heat capacities of the elements (data page)[0][88]: missing field for column [J/(g·K)]\n",
      "Heat capacities of the elements (data page)[0][90]: missing field for column [J/(g·K)]\n",
      "Heat capacities of the elements (data page)[0][91]: missing field for column [J/(mol·K)]\n",
      "Heat capacities of the elements (data page)[0][91]: missing field for column [J/(g·K)]\n",
      "Heat capacities of the elements (data page)[0][94]: missing field for column [J/(g·K)]\n",
      "Heat capacities of the elements (data page)[0][95]: missing field for column [J/(g·K)]\n",
      "Heat capacities of the elements (data page)[0][96]: missing field for column [J/(mol·K)]\n",
      "Heat capacities of the elements (data page)[0][96]: missing field for column [J/(g·K)]\n",
      "Heat capacities of the elements (data page)[0][99]: missing field for column [J/(g·K)]\n",
      "Heat capacities of the elements (data page)[0][100]: missing field for column [J/(g·K)]\n",
      "Heat capacities of the elements (data page)[0][101]: missing field for column [J/(mol·K)]\n",
      "Heat capacities of the elements (data page)[0][101]: missing field for column [J/(g·K)]\n",
      "Heat capacities of the elements (data page)[0][104]: missing field for column [J/(g·K)]\n",
      "Heat capacities of the elements (data page)[0][105]: missing field for column [J/(g·K)]\n",
      "Heat capacities of the elements (data page)[0][106]: missing field for column [J/(mol·K)]\n",
      "Heat capacities of the elements (data page)[0][106]: missing field for column [J/(g·K)]\n",
      "Heat capacities of the elements (data page)[0][109]: missing field for column [J/(g·K)]\n",
      "Heat capacities of the elements (data page)[0][110]: missing field for column [J/(g·K)]\n",
      "Heat capacities of the elements (data page)[0][111]: missing field for column [J/(mol·K)]\n",
      "Heat capacities of the elements (data page)[0][111]: missing field for column [J/(g·K)]\n",
      "Heat capacities of the elements (data page)[0][114]: missing field for column [J/(g·K)]\n",
      "Heat capacities of the elements (data page)[0][115]: missing field for column [J/(g·K)]\n",
      "Heat capacities of the elements (data page)[0][116]: missing field for column [J/(mol·K)]\n",
      "Heat capacities of the elements (data page)[0][116]: missing field for column [J/(g·K)]\n",
      "Heat capacities of the elements (data page)[0][119]: missing field for column [J/(g·K)]\n",
      "Heat capacities of the elements (data page)[0][120]: missing field for column [J/(g·K)]\n",
      "Heat capacities of the elements (data page)[0][121]: missing field for column [J/(mol·K)]\n",
      "Heat capacities of the elements (data page)[0][121]: missing field for column [J/(g·K)]\n",
      "Heat capacities of the elements (data page)[0][124]: missing field for column [J/(g·K)]\n",
      "Heat capacities of the elements (data page)[0][125]: missing field for column [J/(g·K)]\n",
      "Heat capacities of the elements (data page)[0][126]: missing field for column [J/(mol·K)]\n",
      "Heat capacities of the elements (data page)[0][126]: missing field for column [J/(g·K)]\n",
      "Heat capacities of the elements (data page)[0][129]: missing field for column [J/(g·K)]\n",
      "Heat capacities of the elements (data page)[0][130]: missing field for column [J/(g·K)]\n",
      "Heat capacities of the elements (data page)[0][131]: missing field for column [J/(mol·K)]\n",
      "Heat capacities of the elements (data page)[0][131]: missing field for column [J/(g·K)]\n",
      "Heat capacities of the elements (data page)[0][134]: missing field for column [J/(g·K)]\n",
      "Heat capacities of the elements (data page)[0][135]: missing field for column [J/(g·K)]\n",
      "Heat capacities of the elements (data page)[0][136]: missing field for column [J/(mol·K)]\n",
      "Heat capacities of the elements (data page)[0][136]: missing field for column [J/(g·K)]\n",
      "Heat capacities of the elements (data page)[0][139]: missing field for column [J/(g·K)]\n",
      "Heat capacities of the elements (data page)[0][140]: missing field for column [J/(g·K)]\n",
      "Heat capacities of the elements (data page)[0][141]: missing field for column [J/(mol·K)]\n",
      "Heat capacities of the elements (data page)[0][141]: missing field for column [J/(g·K)]\n",
      "Heat capacities of the elements (data page)[0][144]: missing field for column [J/(g·K)]\n",
      "Heat capacities of the elements (data page)[0][145]: missing field for column [J/(g·K)]\n",
      "Heat capacities of the elements (data page)[0][146]: missing field for column [J/(mol·K)]\n",
      "Heat capacities of the elements (data page)[0][146]: missing field for column [J/(g·K)]\n",
      "Heat capacities of the elements (data page)[0][149]: missing field for column [J/(g·K)]\n",
      "Heat capacities of the elements (data page)[0][150]: missing field for column [J/(g·K)]\n",
      "Heat capacities of the elements (data page)[0][151]: missing field for column [J/(mol·K)]\n",
      "Heat capacities of the elements (data page)[0][151]: missing field for column [J/(g·K)]\n",
      "Heat capacities of the elements (data page)[0][154]: missing field for column [J/(g·K)]\n",
      "Heat capacities of the elements (data page)[0][155]: missing field for column [J/(g·K)]\n",
      "Heat capacities of the elements (data page)[0][156]: missing field for column [J/(mol·K)]\n",
      "Heat capacities of the elements (data page)[0][156]: missing field for column [J/(g·K)]\n",
      "Heat capacities of the elements (data page)[0][159]: missing field for column [J/(g·K)]\n",
      "Heat capacities of the elements (data page)[0][160]: missing field for column [J/(g·K)]\n",
      "Heat capacities of the elements (data page)[0][161]: missing field for column [J/(mol·K)]\n",
      "Heat capacities of the elements (data page)[0][161]: missing field for column [J/(g·K)]\n",
      "Heat capacities of the elements (data page)[0][164]: missing field for column [J/(g·K)]\n",
      "Heat capacities of the elements (data page)[0][165]: missing field for column [J/(g·K)]\n",
      "Heat capacities of the elements (data page)[0][166]: missing field for column [J/(mol·K)]\n",
      "Heat capacities of the elements (data page)[0][166]: missing field for column [J/(g·K)]\n",
      "Heat capacities of the elements (data page)[0][169]: missing field for column [J/(g·K)]\n",
      "Heat capacities of the elements (data page)[0][170]: missing field for column [J/(g·K)]\n",
      "Heat capacities of the elements (data page)[0][171]: missing field for column [J/(mol·K)]\n",
      "Heat capacities of the elements (data page)[0][171]: missing field for column [J/(g·K)]\n",
      "Heat capacities of the elements (data page)[0][174]: missing field for column [J/(g·K)]\n",
      "Heat capacities of the elements (data page)[0][175]: missing field for column [J/(g·K)]\n",
      "Heat capacities of the elements (data page)[0][176]: missing field for column [J/(mol·K)]\n",
      "Heat capacities of the elements (data page)[0][176]: missing field for column [J/(g·K)]\n",
      "Heat capacities of the elements (data page)[0][179]: missing field for column [J/(g·K)]\n",
      "Heat capacities of the elements (data page)[0][180]: missing field for column [J/(g·K)]\n",
      "Heat capacities of the elements (data page)[0][181]: missing field for column [J/(mol·K)]\n",
      "Heat capacities of the elements (data page)[0][181]: missing field for column [J/(g·K)]\n",
      "Heat capacities of the elements (data page)[0][184]: missing field for column [J/(g·K)]\n",
      "Heat capacities of the elements (data page)[0][185]: missing field for column [J/(g·K)]\n",
      "Heat capacities of the elements (data page)[0][186]: missing field for column [J/(g·K)]\n",
      "Heat capacities of the elements (data page)[0][187]: missing field for column [J/(mol·K)]\n",
      "Heat capacities of the elements (data page)[0][187]: missing field for column [J/(g·K)]\n",
      "Heat capacities of the elements (data page)[0][190]: missing field for column [J/(g·K)]\n",
      "Heat capacities of the elements (data page)[0][191]: missing field for column [J/(g·K)]\n",
      "Heat capacities of the elements (data page)[0][192]: missing field for column [J/(mol·K)]\n",
      "Heat capacities of the elements (data page)[0][192]: missing field for column [J/(g·K)]\n",
      "Heat capacities of the elements (data page)[0][195]: missing field for column [J/(g·K)]\n",
      "Heat capacities of the elements (data page)[0][196]: missing field for column [J/(g·K)]\n",
      "Heat capacities of the elements (data page)[0][197]: missing field for column [J/(mol·K)]\n",
      "Heat capacities of the elements (data page)[0][197]: missing field for column [J/(g·K)]\n",
      "Heat capacities of the elements (data page)[0][200]: missing field for column [J/(g·K)]\n",
      "Heat capacities of the elements (data page)[0][201]: missing field for column [J/(g·K)]\n",
      "Heat capacities of the elements (data page)[0][202]: missing field for column [J/(mol·K)]\n",
      "Heat capacities of the elements (data page)[0][202]: missing field for column [J/(g·K)]\n",
      "Heat capacities of the elements (data page)[0][205]: missing field for column [J/(g·K)]\n",
      "Heat capacities of the elements (data page)[0][206]: missing field for column [J/(g·K)]\n",
      "Heat capacities of the elements (data page)[0][207]: missing field for column [J/(mol·K)]\n",
      "Heat capacities of the elements (data page)[0][207]: missing field for column [J/(g·K)]\n",
      "Heat capacities of the elements (data page)[0][210]: missing field for column [J/(g·K)]\n",
      "Heat capacities of the elements (data page)[0][211]: missing field for column [J/(g·K)]\n",
      "Heat capacities of the elements (data page)[0][212]: missing field for column [J/(mol·K)]\n",
      "Heat capacities of the elements (data page)[0][212]: missing field for column [J/(g·K)]\n",
      "Heat capacities of the elements (data page)[0][215]: missing field for column [J/(g·K)]\n",
      "Heat capacities of the elements (data page)[0][216]: missing field for column [J/(g·K)]\n",
      "Heat capacities of the elements (data page)[0][217]: missing field for column [J/(mol·K)]\n",
      "Heat capacities of the elements (data page)[0][217]: missing field for column [J/(g·K)]\n",
      "Heat capacities of the elements (data page)[0][220]: missing field for column [J/(g·K)]\n",
      "Heat capacities of the elements (data page)[0][221]: missing field for column [J/(g·K)]\n",
      "Heat capacities of the elements (data page)[0][222]: missing field for column [J/(mol·K)]\n",
      "Heat capacities of the elements (data page)[0][222]: missing field for column [J/(g·K)]\n",
      "Heat capacities of the elements (data page)[0][224]: missing field for column [J/(g·K)]\n",
      "Heat capacities of the elements (data page)[0][225]: missing field for column [J/(mol·K)]\n",
      "Heat capacities of the elements (data page)[0][225]: missing field for column [J/(g·K)]\n",
      "Heat capacities of the elements (data page)[0][228]: missing field for column [J/(g·K)]\n",
      "Heat capacities of the elements (data page)[0][229]: missing field for column [J/(g·K)]\n",
      "Heat capacities of the elements (data page)[0][230]: missing field for column [J/(mol·K)]\n",
      "Heat capacities of the elements (data page)[0][230]: missing field for column [J/(g·K)]\n",
      "Heat capacities of the elements (data page)[0][233]: missing field for column [J/(g·K)]\n",
      "Heat capacities of the elements (data page)[0][234]: missing field for column [J/(g·K)]\n",
      "Heat capacities of the elements (data page)[0][235]: missing field for column [J/(mol·K)]\n",
      "Heat capacities of the elements (data page)[0][235]: missing field for column [J/(g·K)]\n",
      "Heat capacities of the elements (data page)[0][238]: missing field for column [J/(g·K)]\n",
      "Heat capacities of the elements (data page)[0][239]: missing field for column [J/(g·K)]\n",
      "Heat capacities of the elements (data page)[0][240]: missing field for column [J/(mol·K)]\n",
      "Heat capacities of the elements (data page)[0][240]: missing field for column [J/(g·K)]\n",
      "Heat capacities of the elements (data page)[0][243]: missing field for column [J/(g·K)]\n",
      "Heat capacities of the elements (data page)[0][244]: missing field for column [J/(g·K)]\n",
      "Heat capacities of the elements (data page)[0][245]: missing field for column [J/(mol·K)]\n",
      "Heat capacities of the elements (data page)[0][245]: missing field for column [J/(g·K)]\n",
      "Heat capacities of the elements (data page)[0][248]: missing field for column [J/(g·K)]\n",
      "Heat capacities of the elements (data page)[0][249]: missing field for column [J/(g·K)]\n",
      "Heat capacities of the elements (data page)[0][250]: missing field for column [J/(mol·K)]\n",
      "Heat capacities of the elements (data page)[0][250]: missing field for column [J/(g·K)]\n",
      "Heat capacities of the elements (data page)[0][253]: missing field for column [J/(g·K)]\n",
      "Heat capacities of the elements (data page)[0][254]: missing field for column [J/(g·K)]\n",
      "Heat capacities of the elements (data page)[0][255]: missing field for column [J/(mol·K)]\n",
      "Heat capacities of the elements (data page)[0][255]: missing field for column [J/(g·K)]\n",
      "Heat capacities of the elements (data page)[0][258]: missing field for column [J/(g·K)]\n",
      "Heat capacities of the elements (data page)[0][259]: missing field for column [J/(g·K)]\n",
      "Heat capacities of the elements (data page)[0][260]: missing field for column [J/(mol·K)]\n",
      "Heat capacities of the elements (data page)[0][260]: missing field for column [J/(g·K)]\n",
      "Heat capacities of the elements (data page)[0][262]: missing field for column [J/(g·K)]\n",
      "Heat capacities of the elements (data page)[0][263]: missing field for column [J/(g·K)]\n",
      "Heat capacities of the elements (data page)[0][264]: missing field for column [J/(mol·K)]\n",
      "Heat capacities of the elements (data page)[0][264]: missing field for column [J/(g·K)]\n",
      "Heat capacities of the elements (data page)[0][267]: missing field for column [J/(g·K)]\n",
      "Heat capacities of the elements (data page)[0][268]: missing field for column [J/(g·K)]\n",
      "Heat capacities of the elements (data page)[0][269]: missing field for column [J/(mol·K)]\n",
      "Heat capacities of the elements (data page)[0][269]: missing field for column [J/(g·K)]\n",
      "Heat capacities of the elements (data page)[0][272]: missing field for column [J/(g·K)]\n",
      "Heat capacities of the elements (data page)[0][273]: missing field for column [J/(g·K)]\n",
      "Heat capacities of the elements (data page)[0][274]: missing field for column [J/(mol·K)]\n",
      "Heat capacities of the elements (data page)[0][274]: missing field for column [J/(g·K)]\n",
      "Heat capacities of the elements (data page)[0][277]: missing field for column [J/(g·K)]\n",
      "Heat capacities of the elements (data page)[0][278]: missing field for column [J/(g·K)]\n",
      "Heat capacities of the elements (data page)[0][279]: missing field for column [J/(g·K)]\n",
      "Heat capacities of the elements (data page)[0][280]: missing field for column [J/(g·K)]\n",
      "Heat capacities of the elements (data page)[0][281]: missing field for column [J/(mol·K)]\n",
      "Heat capacities of the elements (data page)[0][281]: missing field for column [J/(g·K)]\n",
      "Heat capacities of the elements (data page)[0][284]: missing field for column [J/(g·K)]\n",
      "Heat capacities of the elements (data page)[0][285]: missing field for column [J/(g·K)]\n",
      "Heat capacities of the elements (data page)[0][286]: missing field for column [J/(mol·K)]\n",
      "Heat capacities of the elements (data page)[0][286]: missing field for column [J/(g·K)]\n",
      "Heat capacities of the elements (data page)[0][289]: missing field for column [J/(g·K)]\n",
      "Heat capacities of the elements (data page)[0][290]: missing field for column [J/(g·K)]\n",
      "Heat capacities of the elements (data page)[0][291]: missing field for column [J/(mol·K)]\n",
      "Heat capacities of the elements (data page)[0][291]: missing field for column [J/(g·K)]\n",
      "Heat capacities of the elements (data page)[0][294]: missing field for column [J/(g·K)]\n",
      "Heat capacities of the elements (data page)[0][295]: missing field for column [J/(g·K)]\n",
      "Heat capacities of the elements (data page)[0][296]: missing field for column [J/(mol·K)]\n",
      "Heat capacities of the elements (data page)[0][296]: missing field for column [J/(g·K)]\n",
      "Heat capacities of the elements (data page)[0][299]: missing field for column [J/(g·K)]\n",
      "Heat capacities of the elements (data page)[0][300]: missing field for column [J/(g·K)]\n",
      "Heat capacities of the elements (data page)[0][301]: missing field for column [J/(mol·K)]\n",
      "Heat capacities of the elements (data page)[0][301]: missing field for column [J/(g·K)]\n",
      "Heat capacities of the elements (data page)[0][304]: missing field for column [J/(g·K)]\n",
      "Heat capacities of the elements (data page)[0][305]: missing field for column [J/(g·K)]\n",
      "Heat capacities of the elements (data page)[0][306]: missing field for column [J/(mol·K)]\n",
      "Heat capacities of the elements (data page)[0][306]: missing field for column [J/(g·K)]\n",
      "Heat capacities of the elements (data page)[0][309]: missing field for column [J/(g·K)]\n",
      "Heat capacities of the elements (data page)[0][310]: missing field for column [J/(g·K)]\n",
      "Heat capacities of the elements (data page)[0][311]: missing field for column [J/(mol·K)]\n",
      "Heat capacities of the elements (data page)[0][311]: missing field for column [J/(g·K)]\n",
      "Heat capacities of the elements (data page)[0][314]: missing field for column [J/(g·K)]\n",
      "Heat capacities of the elements (data page)[0][315]: missing field for column [J/(g·K)]\n",
      "Heat capacities of the elements (data page)[0][316]: missing field for column [J/(mol·K)]\n",
      "Heat capacities of the elements (data page)[0][316]: missing field for column [J/(g·K)]\n",
      "Heat capacities of the elements (data page)[0][319]: missing field for column [J/(g·K)]\n",
      "Heat capacities of the elements (data page)[0][320]: missing field for column [J/(g·K)]\n",
      "Heat capacities of the elements (data page)[0][321]: missing field for column [J/(mol·K)]\n",
      "Heat capacities of the elements (data page)[0][321]: missing field for column [J/(g·K)]\n",
      "Heat capacities of the elements (data page)[0][324]: missing field for column [J/(g·K)]\n",
      "Heat capacities of the elements (data page)[0][325]: missing field for column [J/(g·K)]\n",
      "Heat capacities of the elements (data page)[0][326]: missing field for column [J/(mol·K)]\n",
      "Heat capacities of the elements (data page)[0][326]: missing field for column [J/(g·K)]\n",
      "Heat capacities of the elements (data page)[0][329]: missing field for column [J/(g·K)]\n",
      "Heat capacities of the elements (data page)[0][330]: missing field for column [J/(g·K)]\n",
      "Heat capacities of the elements (data page)[0][331]: missing field for column [J/(mol·K)]\n",
      "Heat capacities of the elements (data page)[0][331]: missing field for column [J/(g·K)]\n",
      "Heat capacities of the elements (data page)[0][334]: missing field for column [J/(g·K)]\n",
      "Heat capacities of the elements (data page)[0][335]: missing field for column [J/(g·K)]\n",
      "Heat capacities of the elements (data page)[0][336]: missing field for column [J/(mol·K)]\n",
      "Heat capacities of the elements (data page)[0][336]: missing field for column [J/(g·K)]\n",
      "Heat capacities of the elements (data page)[0][339]: missing field for column [J/(g·K)]\n",
      "Heat capacities of the elements (data page)[0][340]: missing field for column [J/(g·K)]\n",
      "Heat capacities of the elements (data page)[0][341]: missing field for column [J/(mol·K)]\n",
      "Heat capacities of the elements (data page)[0][341]: missing field for column [J/(g·K)]\n",
      "Heat capacities of the elements (data page)[0][344]: missing field for column [J/(g·K)]\n",
      "Heat capacities of the elements (data page)[0][345]: missing field for column [J/(g·K)]\n",
      "Heat capacities of the elements (data page)[0][346]: missing field for column [J/(mol·K)]\n",
      "Heat capacities of the elements (data page)[0][346]: missing field for column [J/(g·K)]\n",
      "Heat capacities of the elements (data page)[0][349]: missing field for column [J/(g·K)]\n",
      "Heat capacities of the elements (data page)[0][350]: missing field for column [J/(g·K)]\n",
      "Heat capacities of the elements (data page)[0][351]: missing field for column [J/(mol·K)]\n",
      "Heat capacities of the elements (data page)[0][351]: missing field for column [J/(g·K)]\n",
      "Heat capacities of the elements (data page)[0][354]: missing field for column [J/(g·K)]\n",
      "Heat capacities of the elements (data page)[0][355]: missing field for column [J/(g·K)]\n",
      "Heat capacities of the elements (data page)[0][356]: missing field for column [J/(mol·K)]\n",
      "Heat capacities of the elements (data page)[0][356]: missing field for column [J/(g·K)]\n",
      "Heat capacities of the elements (data page)[0][359]: missing field for column [J/(g·K)]\n",
      "Heat capacities of the elements (data page)[0][360]: missing field for column [J/(g·K)]\n",
      "Heat capacities of the elements (data page)[0][361]: missing field for column [J/(mol·K)]\n",
      "Heat capacities of the elements (data page)[0][361]: missing field for column [J/(g·K)]\n",
      "Heat capacities of the elements (data page)[0][364]: missing field for column [J/(g·K)]\n",
      "Heat capacities of the elements (data page)[0][365]: missing field for column [J/(g·K)]\n",
      "Heat capacities of the elements (data page)[0][366]: missing field for column [J/(mol·K)]\n",
      "Heat capacities of the elements (data page)[0][366]: missing field for column [J/(g·K)]\n",
      "Heat capacities of the elements (data page)[0][369]: missing field for column [J/(g·K)]\n",
      "Heat capacities of the elements (data page)[0][370]: missing field for column [J/(g·K)]\n",
      "Heat capacities of the elements (data page)[0][371]: missing field for column [J/(mol·K)]\n",
      "Heat capacities of the elements (data page)[0][371]: missing field for column [J/(g·K)]\n",
      "Heat capacities of the elements (data page)[0][374]: missing field for column [J/(g·K)]\n",
      "Heat capacities of the elements (data page)[0][375]: missing field for column [J/(g·K)]\n",
      "Heat capacities of the elements (data page)[0][376]: missing field for column [J/(mol·K)]\n",
      "Heat capacities of the elements (data page)[0][376]: missing field for column [J/(g·K)]\n",
      "Heat capacities of the elements (data page)[0][379]: missing field for column [J/(g·K)]\n",
      "Heat capacities of the elements (data page)[0][380]: missing field for column [J/(g·K)]\n",
      "Heat capacities of the elements (data page)[0][381]: missing field for column [J/(mol·K)]\n",
      "Heat capacities of the elements (data page)[0][381]: missing field for column [J/(g·K)]\n",
      "Heat capacities of the elements (data page)[0][384]: missing field for column [J/(g·K)]\n",
      "Heat capacities of the elements (data page)[0][385]: missing field for column [J/(g·K)]\n",
      "Heat capacities of the elements (data page)[0][386]: missing field for column [J/(mol·K)]\n",
      "Heat capacities of the elements (data page)[0][386]: missing field for column [J/(g·K)]\n",
      "Heat capacities of the elements (data page)[0][389]: missing field for column [J/(g·K)]\n",
      "Heat capacities of the elements (data page)[0][390]: missing field for column [J/(g·K)]\n",
      "Heat capacities of the elements (data page)[0][391]: missing field for column [J/(mol·K)]\n",
      "Heat capacities of the elements (data page)[0][391]: missing field for column [J/(g·K)]\n",
      "Heat capacities of the elements (data page)[0][394]: missing field for column [J/(g·K)]\n",
      "Heat capacities of the elements (data page)[0][395]: missing field for column [J/(g·K)]\n",
      "Heat capacities of the elements (data page)[0][396]: missing field for column [J/(mol·K)]\n",
      "Heat capacities of the elements (data page)[0][396]: missing field for column [J/(g·K)]\n",
      "Heat capacities of the elements (data page)[0][399]: missing field for column [J/(g·K)]\n",
      "Heat capacities of the elements (data page)[0][400]: missing field for column [J/(mol·K)]\n",
      "Heat capacities of the elements (data page)[0][400]: missing field for column [J/(g·K)]\n",
      "Heat capacities of the elements (data page)[0][403]: missing field for column [J/(g·K)]\n",
      "Heat capacities of the elements (data page)[0][404]: missing field for column [J/(g·K)]\n",
      "Heat capacities of the elements (data page)[0][405]: missing field for column [J/(mol·K)]\n",
      "Heat capacities of the elements (data page)[0][405]: missing field for column [J/(g·K)]\n",
      "Heat capacities of the elements (data page)[0][408]: missing field for column [J/(g·K)]\n",
      "Heat capacities of the elements (data page)[0][409]: missing field for column [J/(g·K)]\n",
      "Heat capacities of the elements (data page)[0][410]: missing field for column [J/(mol·K)]\n",
      "Heat capacities of the elements (data page)[0][410]: missing field for column [J/(g·K)]\n",
      "Heat capacities of the elements (data page)[0][413]: missing field for column [J/(g·K)]\n",
      "Heat capacities of the elements (data page)[0][414]: missing field for column [J/(g·K)]\n",
      "Heat capacities of the elements (data page)[0][415]: missing field for column [J/(mol·K)]\n",
      "Heat capacities of the elements (data page)[0][415]: missing field for column [J/(g·K)]\n",
      "Heat capacities of the elements (data page)[0][418]: missing field for column [J/(g·K)]\n",
      "Heat capacities of the elements (data page)[0][419]: missing field for column [J/(g·K)]\n",
      "Heat capacities of the elements (data page)[0][420]: missing field for column [J/(mol·K)]\n",
      "Heat capacities of the elements (data page)[0][420]: missing field for column [J/(g·K)]\n",
      "Heat capacities of the elements (data page)[0][423]: missing field for column [J/(g·K)]\n",
      "Heat capacities of the elements (data page)[0][424]: missing field for column [J/(g·K)]\n",
      "Heat capacities of the elements (data page)[0][425]: missing field for column [J/(mol·K)]\n",
      "Heat capacities of the elements (data page)[0][425]: missing field for column [J/(g·K)]\n",
      "Heat capacities of the elements (data page)[0][427]: missing field for column [J/(g·K)]\n",
      "Heat capacities of the elements (data page)[0][428]: missing field for column [J/(mol·K)]\n",
      "Heat capacities of the elements (data page)[0][428]: missing field for column [J/(g·K)]\n",
      "Heat capacities of the elements (data page)[0][431]: missing field for column [J/(g·K)]\n",
      "Heat capacities of the elements (data page)[0][432]: missing field for column [J/(g·K)]\n",
      "Heat capacities of the elements (data page)[0][433]: missing field for column [J/(mol·K)]\n",
      "Heat capacities of the elements (data page)[0][433]: missing field for column [J/(g·K)]\n",
      "Heat capacities of the elements (data page)[0][435]: missing field for column [J/(g·K)]\n",
      "Heat capacities of the elements (data page)[0][436]: missing field for column [J/(mol·K)]\n",
      "Heat capacities of the elements (data page)[0][436]: missing field for column [J/(g·K)]\n",
      "Heat capacities of the elements (data page)[0][439]: missing field for column [J/(g·K)]\n",
      "Heat capacities of the elements (data page)[0][440]: missing field for column [J/(g·K)]\n",
      "Heat capacities of the elements (data page)[0][441]: missing field for column [J/(mol·K)]\n",
      "Heat capacities of the elements (data page)[0][441]: missing field for column [J/(g·K)]\n",
      "Heat capacities of the elements (data page)[0][444]: missing field for column [J/(g·K)]\n",
      "Heat capacities of the elements (data page)[0][445]: missing field for column [J/(g·K)]\n",
      "Heat capacities of the elements (data page)[0][446]: missing field for column [J/(mol·K)]\n",
      "Heat capacities of the elements (data page)[0][446]: missing field for column [J/(g·K)]\n",
      "Heat capacities of the elements (data page)[0][449]: missing field for column [J/(g·K)]\n",
      "Heat capacities of the elements (data page)[0][450]: missing field for column [J/(g·K)]\n",
      "Heat capacities of the elements (data page)[0][451]: missing field for column [J/(mol·K)]\n",
      "Heat capacities of the elements (data page)[0][451]: missing field for column [J/(g·K)]\n",
      "Heat capacities of the elements (data page)[0][453]: missing field for column [J/(g·K)]\n",
      "Heat capacities of the elements (data page)[0][454]: missing field for column [J/(mol·K)]\n",
      "Heat capacities of the elements (data page)[0][454]: missing field for column [J/(g·K)]\n",
      "Heat capacities of the elements (data page)[0][456]: missing field for column [J/(g·K)]\n",
      "Heat capacities of the elements (data page)[0][457]: missing field for column [J/(mol·K)]\n",
      "Heat capacities of the elements (data page)[0][457]: missing field for column [J/(g·K)]\n",
      "Heat capacities of the elements (data page)[0][459]: missing field for column [J/(g·K)]\n"
     ]
    }
   ],
   "source": [
    "import wikitables\n",
    "\n",
    "# https://en.wikipedia.org/wiki/Heat_capacities_of_the_elements_(data_page)\n",
    "wiki_data, = wikitables.import_tables('Heat capacities of the elements (data page)')"
   ]
  },
  {
   "cell_type": "code",
   "execution_count": 6,
   "metadata": {},
   "outputs": [],
   "source": [
    "data = []\n",
    "for n, r in enumerate(wiki_data.rows):\n",
    "    if r[''].value[0] == '<':\n",
    "        Z, symbol, element = r[''].value.split('> ')[1].split(' ')[:3]\n",
    "        \n",
    "        if wiki_data.rows[n+2][''].value == 'CRC':\n",
    "            try:\n",
    "                C = float(wiki_data.rows[n+2]['J/(mol·K)'].value)\n",
    "            except ValueError:\n",
    "                C = float(wiki_data.rows[n+2]['J/(mol·K)'].value.split(') ')[1])\n",
    "                \n",
    "            \n",
    "            to_write = {\n",
    "                'Atomic number' : int(Z),\n",
    "                'Atomic symbol' : symbol,\n",
    "                'Element' : element.capitalize(),\n",
    "                'Specific heat' : C\n",
    "            }\n",
    "            \n",
    "            data.append(to_write)    "
   ]
  },
  {
   "cell_type": "code",
   "execution_count": 7,
   "metadata": {},
   "outputs": [
    {
     "data": {
      "image/png": "[encoded data removed]",
      "text/plain": [
       "<Figure size 720x504 with 1 Axes>"
      ]
     },
     "metadata": {
      "needs_background": "light"
     },
     "output_type": "display_data"
    }
   ],
   "source": [
    "df = pd.DataFrame.from_dict(data)\n",
    "plt.scatter(x = df['Atomic number'], y = df['Specific heat']/R)\n",
    "plt.axhline(3, linestyle = '--', color = 'C1', linewidth = 2.5)\n",
    "\n",
    "plt.title('The Dulong–Petit law')\n",
    "plt.xlabel('Atomic number')\n",
    "plt.ylabel('Heat capacity/$R$')\n",
    "plt.savefig('01_Dulong-Petit.svg', facecolor='white', transparent=False)\n",
    "\n",
    "plt.show()"
   ]
  },
  {
   "cell_type": "code",
   "execution_count": 45,
   "metadata": {
    "collapsed": true,
    "jupyter": {
     "outputs_hidden": true,
     "source_hidden": true
    }
   },
   "outputs": [
    {
     "data": {
      "application/vnd.plotly.v1+json": {
       "config": {
        "linkText": "Export to plot.ly",
        "plotlyServerURL": "https://plot.ly",
        "showLink": false
       },
       "data": [
        {
         "hoverinfo": "text",
         "mode": "markers+text",
         "textposition": "top center",
         "type": "scatter",
         "x": [
          1,
          2,
          3,
          4,
          5,
          6,
          6,
          7,
          8,
          9,
          10,
          11,
          12,
          13,
          14,
          15,
          15,
          16,
          16,
          17,
          18,
          19,
          20,
          21,
          22,
          23,
          24,
          25,
          26,
          27,
          28,
          29,
          30,
          31,
          32,
          33,
          34,
          35,
          36,
          37,
          38,
          39,
          40,
          41,
          42,
          43,
          44,
          45,
          46,
          47,
          48,
          49,
          50,
          50,
          51,
          52,
          53,
          54,
          55,
          56,
          57,
          58,
          59,
          60,
          62,
          63,
          64,
          65,
          66,
          67,
          68,
          69,
          70,
          71,
          72,
          73,
          74,
          75,
          76,
          77,
          78,
          79,
          80,
          81,
          82,
          83,
          84,
          86,
          87,
          89,
          90,
          92,
          93,
          94,
          95
         ],
         "y": [
          3.468173630075968,
          2.4999811719641793,
          2.989970746417276,
          1.9776383340039934,
          1.33345960038328,
          1.024359647917777,
          0.7354654510998248,
          3.5028120683289115,
          3.5333612465103275,
          3.7650058023268866,
          2.4999811719641793,
          3.395288582918733,
          2.9910531976126804,
          2.910590992087614,
          2.380069633984372,
          2.8653685865907157,
          2.5485712034023362,
          2.7361960772724467,
          2.7939268076940196,
          4.08312618142076,
          2.4999811719641793,
          3.560061709330305,
          3.1185418939603196,
          3.069350500746938,
          3.0140252174262643,
          2.9935789170686244,
          2.808359490299413,
          3.1655683847828926,
          3.0188361116280626,
          2.9839571286650286,
          3.135500296021657,
          2.9394563572984,
          3.053715094591096,
          3.1102431014622187,
          2.79296462885366,
          2.9635108283073888,
          3.050467741004882,
          9.103414553351714,
          2.4999811719641793,
          3.7356593476959206,
          3.1751901731864876,
          3.1908255793423304,
          3.0501069239397474,
          2.9586999341055913,
          2.8937528623813216,
          2.9190100569407598,
          2.8937528623813216,
          3.0044034290226693,
          3.124675784067612,
          3.0489042003892983,
          3.1294866782694095,
          3.216082773901768,
          3.260824089978487,
          3.099418589508174,
          3.034471517783905,
          3.0946076953063764,
          6.547627008646681,
          2.4999811719641793,
          3.873972555997605,
          3.3760450061115423,
          3.260583545268397,
          3.2401372449107573,
          3.271408057222442,
          3.3014761459836777,
          3.552845368027608,
          3.326733340543116,
          4.453685307314229,
          3.4770737843492943,
          3.3315442347449133,
          3.2653944394701946,
          3.3820586238637893,
          3.2509617568648017,
          3.216082773901768,
          3.2305154565071614,
          3.0946076953063764,
          3.0501069239397474,
          2.9190100569407598,
          3.0645396065451407,
          2.970727169610085,
          3.0188361116280626,
          3.1102431014622187,
          3.057082720532354,
          3.3655813112226323,
          3.1655683847828926,
          3.2052582619477232,
          3.069350500746938,
          3.1751901731864876,
          2.4999811719641793,
          3.8246608904291786,
          3.271408057222442,
          3.1547438728288477,
          3.3273347023183404,
          3.5432235796240126,
          4.269668604095466,
          7.541076661317909
         ]
        }
       ],
       "layout": {
        "autosize": true,
        "hovermode": "closest",
        "template": {
         "data": {
          "bar": [
           {
            "error_x": {
             "color": "#2a3f5f"
            },
            "error_y": {
             "color": "#2a3f5f"
            },
            "marker": {
             "line": {
              "color": "#E5ECF6",
              "width": 0.5
             },
             "pattern": {
              "fillmode": "overlay",
              "size": 10,
              "solidity": 0.2
             }
            },
            "type": "bar"
           }
          ],
          "barpolar": [
           {
            "marker": {
             "line": {
              "color": "#E5ECF6",
              "width": 0.5
             },
             "pattern": {
              "fillmode": "overlay",
              "size": 10,
              "solidity": 0.2
             }
            },
            "type": "barpolar"
           }
          ],
          "carpet": [
           {
            "aaxis": {
             "endlinecolor": "#2a3f5f",
             "gridcolor": "white",
             "linecolor": "white",
             "minorgridcolor": "white",
             "startlinecolor": "#2a3f5f"
            },
            "baxis": {
             "endlinecolor": "#2a3f5f",
             "gridcolor": "white",
             "linecolor": "white",
             "minorgridcolor": "white",
             "startlinecolor": "#2a3f5f"
            },
            "type": "carpet"
           }
          ],
          "choropleth": [
           {
            "colorbar": {
             "outlinewidth": 0,
             "ticks": ""
            },
            "type": "choropleth"
           }
          ],
          "contour": [
           {
            "colorbar": {
             "outlinewidth": 0,
             "ticks": ""
            },
            "colorscale": [
             [
              0,
              "#0d0887"
             ],
             [
              0.1111111111111111,
              "#46039f"
             ],
             [
              0.2222222222222222,
              "#7201a8"
             ],
             [
              0.3333333333333333,
              "#9c179e"
             ],
             [
              0.4444444444444444,
              "#bd3786"
             ],
             [
              0.5555555555555556,
              "#d8576b"
             ],
             [
              0.6666666666666666,
              "#ed7953"
             ],
             [
              0.7777777777777778,
              "#fb9f3a"
             ],
             [
              0.8888888888888888,
              "#fdca26"
             ],
             [
              1,
              "#f0f921"
             ]
            ],
            "type": "contour"
           }
          ],
          "contourcarpet": [
           {
            "colorbar": {
             "outlinewidth": 0,
             "ticks": ""
            },
            "type": "contourcarpet"
           }
          ],
          "heatmap": [
           {
            "colorbar": {
             "outlinewidth": 0,
             "ticks": ""
            },
            "colorscale": [
             [
              0,
              "#0d0887"
             ],
             [
              0.1111111111111111,
              "#46039f"
             ],
             [
              0.2222222222222222,
              "#7201a8"
             ],
             [
              0.3333333333333333,
              "#9c179e"
             ],
             [
              0.4444444444444444,
              "#bd3786"
             ],
             [
              0.5555555555555556,
              "#d8576b"
             ],
             [
              0.6666666666666666,
              "#ed7953"
             ],
             [
              0.7777777777777778,
              "#fb9f3a"
             ],
             [
              0.8888888888888888,
              "#fdca26"
             ],
             [
              1,
              "#f0f921"
             ]
            ],
            "type": "heatmap"
           }
          ],
          "heatmapgl": [
           {
            "colorbar": {
             "outlinewidth": 0,
             "ticks": ""
            },
            "colorscale": [
             [
              0,
              "#0d0887"
             ],
             [
              0.1111111111111111,
              "#46039f"
             ],
             [
              0.2222222222222222,
              "#7201a8"
             ],
             [
              0.3333333333333333,
              "#9c179e"
             ],
             [
              0.4444444444444444,
              "#bd3786"
             ],
             [
              0.5555555555555556,
              "#d8576b"
             ],
             [
              0.6666666666666666,
              "#ed7953"
             ],
             [
              0.7777777777777778,
              "#fb9f3a"
             ],
             [
              0.8888888888888888,
              "#fdca26"
             ],
             [
              1,
              "#f0f921"
             ]
            ],
            "type": "heatmapgl"
           }
          ],
          "histogram": [
           {
            "marker": {
             "pattern": {
              "fillmode": "overlay",
              "size": 10,
              "solidity": 0.2
             }
            },
            "type": "histogram"
           }
          ],
          "histogram2d": [
           {
            "colorbar": {
             "outlinewidth": 0,
             "ticks": ""
            },
            "colorscale": [
             [
              0,
              "#0d0887"
             ],
             [
              0.1111111111111111,
              "#46039f"
             ],
             [
              0.2222222222222222,
              "#7201a8"
             ],
             [
              0.3333333333333333,
              "#9c179e"
             ],
             [
              0.4444444444444444,
              "#bd3786"
             ],
             [
              0.5555555555555556,
              "#d8576b"
             ],
             [
              0.6666666666666666,
              "#ed7953"
             ],
             [
              0.7777777777777778,
              "#fb9f3a"
             ],
             [
              0.8888888888888888,
              "#fdca26"
             ],
             [
              1,
              "#f0f921"
             ]
            ],
            "type": "histogram2d"
           }
          ],
          "histogram2dcontour": [
           {
            "colorbar": {
             "outlinewidth": 0,
             "ticks": ""
            },
            "colorscale": [
             [
              0,
              "#0d0887"
             ],
             [
              0.1111111111111111,
              "#46039f"
             ],
             [
              0.2222222222222222,
              "#7201a8"
             ],
             [
              0.3333333333333333,
              "#9c179e"
             ],
             [
              0.4444444444444444,
              "#bd3786"
             ],
             [
              0.5555555555555556,
              "#d8576b"
             ],
             [
              0.6666666666666666,
              "#ed7953"
             ],
             [
              0.7777777777777778,
              "#fb9f3a"
             ],
             [
              0.8888888888888888,
              "#fdca26"
             ],
             [
              1,
              "#f0f921"
             ]
            ],
            "type": "histogram2dcontour"
           }
          ],
          "mesh3d": [
           {
            "colorbar": {
             "outlinewidth": 0,
             "ticks": ""
            },
            "type": "mesh3d"
           }
          ],
          "parcoords": [
           {
            "line": {
             "colorbar": {
              "outlinewidth": 0,
              "ticks": ""
             }
            },
            "type": "parcoords"
           }
          ],
          "pie": [
           {
            "automargin": true,
            "type": "pie"
           }
          ],
          "scatter": [
           {
            "marker": {
             "colorbar": {
              "outlinewidth": 0,
              "ticks": ""
             }
            },
            "type": "scatter"
           }
          ],
          "scatter3d": [
           {
            "line": {
             "colorbar": {
              "outlinewidth": 0,
              "ticks": ""
             }
            },
            "marker": {
             "colorbar": {
              "outlinewidth": 0,
              "ticks": ""
             }
            },
            "type": "scatter3d"
           }
          ],
          "scattercarpet": [
           {
            "marker": {
             "colorbar": {
              "outlinewidth": 0,
              "ticks": ""
             }
            },
            "type": "scattercarpet"
           }
          ],
          "scattergeo": [
           {
            "marker": {
             "colorbar": {
              "outlinewidth": 0,
              "ticks": ""
             }
            },
            "type": "scattergeo"
           }
          ],
          "scattergl": [
           {
            "marker": {
             "colorbar": {
              "outlinewidth": 0,
              "ticks": ""
             }
            },
            "type": "scattergl"
           }
          ],
          "scattermapbox": [
           {
            "marker": {
             "colorbar": {
              "outlinewidth": 0,
              "ticks": ""
             }
            },
            "type": "scattermapbox"
           }
          ],
          "scatterpolar": [
           {
            "marker": {
             "colorbar": {
              "outlinewidth": 0,
              "ticks": ""
             }
            },
            "type": "scatterpolar"
           }
          ],
          "scatterpolargl": [
           {
            "marker": {
             "colorbar": {
              "outlinewidth": 0,
              "ticks": ""
             }
            },
            "type": "scatterpolargl"
           }
          ],
          "scatterternary": [
           {
            "marker": {
             "colorbar": {
              "outlinewidth": 0,
              "ticks": ""
             }
            },
            "type": "scatterternary"
           }
          ],
          "surface": [
           {
            "colorbar": {
             "outlinewidth": 0,
             "ticks": ""
            },
            "colorscale": [
             [
              0,
              "#0d0887"
             ],
             [
              0.1111111111111111,
              "#46039f"
             ],
             [
              0.2222222222222222,
              "#7201a8"
             ],
             [
              0.3333333333333333,
              "#9c179e"
             ],
             [
              0.4444444444444444,
              "#bd3786"
             ],
             [
              0.5555555555555556,
              "#d8576b"
             ],
             [
              0.6666666666666666,
              "#ed7953"
             ],
             [
              0.7777777777777778,
              "#fb9f3a"
             ],
             [
              0.8888888888888888,
              "#fdca26"
             ],
             [
              1,
              "#f0f921"
             ]
            ],
            "type": "surface"
           }
          ],
          "table": [
           {
            "cells": {
             "fill": {
              "color": "#EBF0F8"
             },
             "line": {
              "color": "white"
             }
            },
            "header": {
             "fill": {
              "color": "#C8D4E3"
             },
             "line": {
              "color": "white"
             }
            },
            "type": "table"
           }
          ]
         },
         "layout": {
          "annotationdefaults": {
           "arrowcolor": "#2a3f5f",
           "arrowhead": 0,
           "arrowwidth": 1
          },
          "autotypenumbers": "strict",
          "coloraxis": {
           "colorbar": {
            "outlinewidth": 0,
            "ticks": ""
           }
          },
          "colorscale": {
           "diverging": [
            [
             0,
             "#8e0152"
            ],
            [
             0.1,
             "#c51b7d"
            ],
            [
             0.2,
             "#de77ae"
            ],
            [
             0.3,
             "#f1b6da"
            ],
            [
             0.4,
             "#fde0ef"
            ],
            [
             0.5,
             "#f7f7f7"
            ],
            [
             0.6,
             "#e6f5d0"
            ],
            [
             0.7,
             "#b8e186"
            ],
            [
             0.8,
             "#7fbc41"
            ],
            [
             0.9,
             "#4d9221"
            ],
            [
             1,
             "#276419"
            ]
           ],
           "sequential": [
            [
             0,
             "#0d0887"
            ],
            [
             0.1111111111111111,
             "#46039f"
            ],
            [
             0.2222222222222222,
             "#7201a8"
            ],
            [
             0.3333333333333333,
             "#9c179e"
            ],
            [
             0.4444444444444444,
             "#bd3786"
            ],
            [
             0.5555555555555556,
             "#d8576b"
            ],
            [
             0.6666666666666666,
             "#ed7953"
            ],
            [
             0.7777777777777778,
             "#fb9f3a"
            ],
            [
             0.8888888888888888,
             "#fdca26"
            ],
            [
             1,
             "#f0f921"
            ]
           ],
           "sequentialminus": [
            [
             0,
             "#0d0887"
            ],
            [
             0.1111111111111111,
             "#46039f"
            ],
            [
             0.2222222222222222,
             "#7201a8"
            ],
            [
             0.3333333333333333,
             "#9c179e"
            ],
            [
             0.4444444444444444,
             "#bd3786"
            ],
            [
             0.5555555555555556,
             "#d8576b"
            ],
            [
             0.6666666666666666,
             "#ed7953"
            ],
            [
             0.7777777777777778,
             "#fb9f3a"
            ],
            [
             0.8888888888888888,
             "#fdca26"
            ],
            [
             1,
             "#f0f921"
            ]
           ]
          },
          "colorway": [
           "#636efa",
           "#EF553B",
           "#00cc96",
           "#ab63fa",
           "#FFA15A",
           "#19d3f3",
           "#FF6692",
           "#B6E880",
           "#FF97FF",
           "#FECB52"
          ],
          "font": {
           "color": "#2a3f5f"
          },
          "geo": {
           "bgcolor": "white",
           "lakecolor": "white",
           "landcolor": "#E5ECF6",
           "showlakes": true,
           "showland": true,
           "subunitcolor": "white"
          },
          "hoverlabel": {
           "align": "left"
          },
          "hovermode": "closest",
          "mapbox": {
           "style": "light"
          },
          "paper_bgcolor": "white",
          "plot_bgcolor": "#E5ECF6",
          "polar": {
           "angularaxis": {
            "gridcolor": "white",
            "linecolor": "white",
            "ticks": ""
           },
           "bgcolor": "#E5ECF6",
           "radialaxis": {
            "gridcolor": "white",
            "linecolor": "white",
            "ticks": ""
           }
          },
          "scene": {
           "xaxis": {
            "backgroundcolor": "#E5ECF6",
            "gridcolor": "white",
            "gridwidth": 2,
            "linecolor": "white",
            "showbackground": true,
            "ticks": "",
            "zerolinecolor": "white"
           },
           "yaxis": {
            "backgroundcolor": "#E5ECF6",
            "gridcolor": "white",
            "gridwidth": 2,
            "linecolor": "white",
            "showbackground": true,
            "ticks": "",
            "zerolinecolor": "white"
           },
           "zaxis": {
            "backgroundcolor": "#E5ECF6",
            "gridcolor": "white",
            "gridwidth": 2,
            "linecolor": "white",
            "showbackground": true,
            "ticks": "",
            "zerolinecolor": "white"
           }
          },
          "shapedefaults": {
           "line": {
            "color": "#2a3f5f"
           }
          },
          "ternary": {
           "aaxis": {
            "gridcolor": "white",
            "linecolor": "white",
            "ticks": ""
           },
           "baxis": {
            "gridcolor": "white",
            "linecolor": "white",
            "ticks": ""
           },
           "bgcolor": "#E5ECF6",
           "caxis": {
            "gridcolor": "white",
            "linecolor": "white",
            "ticks": ""
           }
          },
          "title": {
           "x": 0.05
          },
          "xaxis": {
           "automargin": true,
           "gridcolor": "white",
           "linecolor": "white",
           "ticks": "",
           "title": {
            "standoff": 15
           },
           "zerolinecolor": "white",
           "zerolinewidth": 2
          },
          "yaxis": {
           "automargin": true,
           "gridcolor": "white",
           "linecolor": "white",
           "ticks": "",
           "title": {
            "standoff": 15
           },
           "zerolinecolor": "white",
           "zerolinewidth": 2
          }
         }
        },
        "title": {
         "text": "Heat capacity of various chemical elements"
        },
        "xaxis": {
         "title": {
          "text": "Atomic number"
         }
        },
        "yaxis": {
         "dtick": 2,
         "tick0": 1,
         "title": {
          "text": "$C/k_B$"
         }
        }
       }
      },
      "text/html": [
       "<div>                            <div id=\"80f069a7-aa62-4902-81fb-ec83ad92d312\" class=\"plotly-graph-div\" style=\"height:525px; width:100%;\"></div>            <script type=\"text/javascript\">                require([\"plotly\"], function(Plotly) {                    window.PLOTLYENV=window.PLOTLYENV || {};                                    if (document.getElementById(\"80f069a7-aa62-4902-81fb-ec83ad92d312\")) {                    Plotly.newPlot(                        \"80f069a7-aa62-4902-81fb-ec83ad92d312\",                        [{\"hoverinfo\":\"text\",\"mode\":\"markers+text\",\"textposition\":\"top center\",\"type\":\"scatter\",\"x\":[1,2,3,4,5,6,6,7,8,9,10,11,12,13,14,15,15,16,16,17,18,19,20,21,22,23,24,25,26,27,28,29,30,31,32,33,34,35,36,37,38,39,40,41,42,43,44,45,46,47,48,49,50,50,51,52,53,54,55,56,57,58,59,60,62,63,64,65,66,67,68,69,70,71,72,73,74,75,76,77,78,79,80,81,82,83,84,86,87,89,90,92,93,94,95],\"y\":[3.468173630075968,2.4999811719641793,2.989970746417276,1.9776383340039934,1.33345960038328,1.024359647917777,0.7354654510998248,3.5028120683289115,3.5333612465103275,3.7650058023268866,2.4999811719641793,3.395288582918733,2.9910531976126804,2.910590992087614,2.380069633984372,2.8653685865907157,2.5485712034023362,2.7361960772724467,2.7939268076940196,4.08312618142076,2.4999811719641793,3.560061709330305,3.1185418939603196,3.069350500746938,3.0140252174262643,2.9935789170686244,2.808359490299413,3.1655683847828926,3.0188361116280626,2.9839571286650286,3.135500296021657,2.9394563572984,3.053715094591096,3.1102431014622187,2.79296462885366,2.9635108283073888,3.050467741004882,9.103414553351714,2.4999811719641793,3.7356593476959206,3.1751901731864876,3.1908255793423304,3.0501069239397474,2.9586999341055913,2.8937528623813216,2.9190100569407598,2.8937528623813216,3.0044034290226693,3.124675784067612,3.0489042003892983,3.1294866782694095,3.216082773901768,3.260824089978487,3.099418589508174,3.034471517783905,3.0946076953063764,6.547627008646681,2.4999811719641793,3.873972555997605,3.3760450061115423,3.260583545268397,3.2401372449107573,3.271408057222442,3.3014761459836777,3.552845368027608,3.326733340543116,4.453685307314229,3.4770737843492943,3.3315442347449133,3.2653944394701946,3.3820586238637893,3.2509617568648017,3.216082773901768,3.2305154565071614,3.0946076953063764,3.0501069239397474,2.9190100569407598,3.0645396065451407,2.970727169610085,3.0188361116280626,3.1102431014622187,3.057082720532354,3.3655813112226323,3.1655683847828926,3.2052582619477232,3.069350500746938,3.1751901731864876,2.4999811719641793,3.8246608904291786,3.271408057222442,3.1547438728288477,3.3273347023183404,3.5432235796240126,4.269668604095466,7.541076661317909]}],                        {\"autosize\":true,\"hovermode\":\"closest\",\"template\":{\"data\":{\"bar\":[{\"error_x\":{\"color\":\"#2a3f5f\"},\"error_y\":{\"color\":\"#2a3f5f\"},\"marker\":{\"line\":{\"color\":\"#E5ECF6\",\"width\":0.5},\"pattern\":{\"fillmode\":\"overlay\",\"size\":10,\"solidity\":0.2}},\"type\":\"bar\"}],\"barpolar\":[{\"marker\":{\"line\":{\"color\":\"#E5ECF6\",\"width\":0.5},\"pattern\":{\"fillmode\":\"overlay\",\"size\":10,\"solidity\":0.2}},\"type\":\"barpolar\"}],\"carpet\":[{\"aaxis\":{\"endlinecolor\":\"#2a3f5f\",\"gridcolor\":\"white\",\"linecolor\":\"white\",\"minorgridcolor\":\"white\",\"startlinecolor\":\"#2a3f5f\"},\"baxis\":{\"endlinecolor\":\"#2a3f5f\",\"gridcolor\":\"white\",\"linecolor\":\"white\",\"minorgridcolor\":\"white\",\"startlinecolor\":\"#2a3f5f\"},\"type\":\"carpet\"}],\"choropleth\":[{\"colorbar\":{\"outlinewidth\":0,\"ticks\":\"\"},\"type\":\"choropleth\"}],\"contour\":[{\"colorbar\":{\"outlinewidth\":0,\"ticks\":\"\"},\"colorscale\":[[0.0,\"#0d0887\"],[0.1111111111111111,\"#46039f\"],[0.2222222222222222,\"#7201a8\"],[0.3333333333333333,\"#9c179e\"],[0.4444444444444444,\"#bd3786\"],[0.5555555555555556,\"#d8576b\"],[0.6666666666666666,\"#ed7953\"],[0.7777777777777778,\"#fb9f3a\"],[0.8888888888888888,\"#fdca26\"],[1.0,\"#f0f921\"]],\"type\":\"contour\"}],\"contourcarpet\":[{\"colorbar\":{\"outlinewidth\":0,\"ticks\":\"\"},\"type\":\"contourcarpet\"}],\"heatmap\":[{\"colorbar\":{\"outlinewidth\":0,\"ticks\":\"\"},\"colorscale\":[[0.0,\"#0d0887\"],[0.1111111111111111,\"#46039f\"],[0.2222222222222222,\"#7201a8\"],[0.3333333333333333,\"#9c179e\"],[0.4444444444444444,\"#bd3786\"],[0.5555555555555556,\"#d8576b\"],[0.6666666666666666,\"#ed7953\"],[0.7777777777777778,\"#fb9f3a\"],[0.8888888888888888,\"#fdca26\"],[1.0,\"#f0f921\"]],\"type\":\"heatmap\"}],\"heatmapgl\":[{\"colorbar\":{\"outlinewidth\":0,\"ticks\":\"\"},\"colorscale\":[[0.0,\"#0d0887\"],[0.1111111111111111,\"#46039f\"],[0.2222222222222222,\"#7201a8\"],[0.3333333333333333,\"#9c179e\"],[0.4444444444444444,\"#bd3786\"],[0.5555555555555556,\"#d8576b\"],[0.6666666666666666,\"#ed7953\"],[0.7777777777777778,\"#fb9f3a\"],[0.8888888888888888,\"#fdca26\"],[1.0,\"#f0f921\"]],\"type\":\"heatmapgl\"}],\"histogram\":[{\"marker\":{\"pattern\":{\"fillmode\":\"overlay\",\"size\":10,\"solidity\":0.2}},\"type\":\"histogram\"}],\"histogram2d\":[{\"colorbar\":{\"outlinewidth\":0,\"ticks\":\"\"},\"colorscale\":[[0.0,\"#0d0887\"],[0.1111111111111111,\"#46039f\"],[0.2222222222222222,\"#7201a8\"],[0.3333333333333333,\"#9c179e\"],[0.4444444444444444,\"#bd3786\"],[0.5555555555555556,\"#d8576b\"],[0.6666666666666666,\"#ed7953\"],[0.7777777777777778,\"#fb9f3a\"],[0.8888888888888888,\"#fdca26\"],[1.0,\"#f0f921\"]],\"type\":\"histogram2d\"}],\"histogram2dcontour\":[{\"colorbar\":{\"outlinewidth\":0,\"ticks\":\"\"},\"colorscale\":[[0.0,\"#0d0887\"],[0.1111111111111111,\"#46039f\"],[0.2222222222222222,\"#7201a8\"],[0.3333333333333333,\"#9c179e\"],[0.4444444444444444,\"#bd3786\"],[0.5555555555555556,\"#d8576b\"],[0.6666666666666666,\"#ed7953\"],[0.7777777777777778,\"#fb9f3a\"],[0.8888888888888888,\"#fdca26\"],[1.0,\"#f0f921\"]],\"type\":\"histogram2dcontour\"}],\"mesh3d\":[{\"colorbar\":{\"outlinewidth\":0,\"ticks\":\"\"},\"type\":\"mesh3d\"}],\"parcoords\":[{\"line\":{\"colorbar\":{\"outlinewidth\":0,\"ticks\":\"\"}},\"type\":\"parcoords\"}],\"pie\":[{\"automargin\":true,\"type\":\"pie\"}],\"scatter\":[{\"marker\":{\"colorbar\":{\"outlinewidth\":0,\"ticks\":\"\"}},\"type\":\"scatter\"}],\"scatter3d\":[{\"line\":{\"colorbar\":{\"outlinewidth\":0,\"ticks\":\"\"}},\"marker\":{\"colorbar\":{\"outlinewidth\":0,\"ticks\":\"\"}},\"type\":\"scatter3d\"}],\"scattercarpet\":[{\"marker\":{\"colorbar\":{\"outlinewidth\":0,\"ticks\":\"\"}},\"type\":\"scattercarpet\"}],\"scattergeo\":[{\"marker\":{\"colorbar\":{\"outlinewidth\":0,\"ticks\":\"\"}},\"type\":\"scattergeo\"}],\"scattergl\":[{\"marker\":{\"colorbar\":{\"outlinewidth\":0,\"ticks\":\"\"}},\"type\":\"scattergl\"}],\"scattermapbox\":[{\"marker\":{\"colorbar\":{\"outlinewidth\":0,\"ticks\":\"\"}},\"type\":\"scattermapbox\"}],\"scatterpolar\":[{\"marker\":{\"colorbar\":{\"outlinewidth\":0,\"ticks\":\"\"}},\"type\":\"scatterpolar\"}],\"scatterpolargl\":[{\"marker\":{\"colorbar\":{\"outlinewidth\":0,\"ticks\":\"\"}},\"type\":\"scatterpolargl\"}],\"scatterternary\":[{\"marker\":{\"colorbar\":{\"outlinewidth\":0,\"ticks\":\"\"}},\"type\":\"scatterternary\"}],\"surface\":[{\"colorbar\":{\"outlinewidth\":0,\"ticks\":\"\"},\"colorscale\":[[0.0,\"#0d0887\"],[0.1111111111111111,\"#46039f\"],[0.2222222222222222,\"#7201a8\"],[0.3333333333333333,\"#9c179e\"],[0.4444444444444444,\"#bd3786\"],[0.5555555555555556,\"#d8576b\"],[0.6666666666666666,\"#ed7953\"],[0.7777777777777778,\"#fb9f3a\"],[0.8888888888888888,\"#fdca26\"],[1.0,\"#f0f921\"]],\"type\":\"surface\"}],\"table\":[{\"cells\":{\"fill\":{\"color\":\"#EBF0F8\"},\"line\":{\"color\":\"white\"}},\"header\":{\"fill\":{\"color\":\"#C8D4E3\"},\"line\":{\"color\":\"white\"}},\"type\":\"table\"}]},\"layout\":{\"annotationdefaults\":{\"arrowcolor\":\"#2a3f5f\",\"arrowhead\":0,\"arrowwidth\":1},\"autotypenumbers\":\"strict\",\"coloraxis\":{\"colorbar\":{\"outlinewidth\":0,\"ticks\":\"\"}},\"colorscale\":{\"diverging\":[[0,\"#8e0152\"],[0.1,\"#c51b7d\"],[0.2,\"#de77ae\"],[0.3,\"#f1b6da\"],[0.4,\"#fde0ef\"],[0.5,\"#f7f7f7\"],[0.6,\"#e6f5d0\"],[0.7,\"#b8e186\"],[0.8,\"#7fbc41\"],[0.9,\"#4d9221\"],[1,\"#276419\"]],\"sequential\":[[0.0,\"#0d0887\"],[0.1111111111111111,\"#46039f\"],[0.2222222222222222,\"#7201a8\"],[0.3333333333333333,\"#9c179e\"],[0.4444444444444444,\"#bd3786\"],[0.5555555555555556,\"#d8576b\"],[0.6666666666666666,\"#ed7953\"],[0.7777777777777778,\"#fb9f3a\"],[0.8888888888888888,\"#fdca26\"],[1.0,\"#f0f921\"]],\"sequentialminus\":[[0.0,\"#0d0887\"],[0.1111111111111111,\"#46039f\"],[0.2222222222222222,\"#7201a8\"],[0.3333333333333333,\"#9c179e\"],[0.4444444444444444,\"#bd3786\"],[0.5555555555555556,\"#d8576b\"],[0.6666666666666666,\"#ed7953\"],[0.7777777777777778,\"#fb9f3a\"],[0.8888888888888888,\"#fdca26\"],[1.0,\"#f0f921\"]]},\"colorway\":[\"#636efa\",\"#EF553B\",\"#00cc96\",\"#ab63fa\",\"#FFA15A\",\"#19d3f3\",\"#FF6692\",\"#B6E880\",\"#FF97FF\",\"#FECB52\"],\"font\":{\"color\":\"#2a3f5f\"},\"geo\":{\"bgcolor\":\"white\",\"lakecolor\":\"white\",\"landcolor\":\"#E5ECF6\",\"showlakes\":true,\"showland\":true,\"subunitcolor\":\"white\"},\"hoverlabel\":{\"align\":\"left\"},\"hovermode\":\"closest\",\"mapbox\":{\"style\":\"light\"},\"paper_bgcolor\":\"white\",\"plot_bgcolor\":\"#E5ECF6\",\"polar\":{\"angularaxis\":{\"gridcolor\":\"white\",\"linecolor\":\"white\",\"ticks\":\"\"},\"bgcolor\":\"#E5ECF6\",\"radialaxis\":{\"gridcolor\":\"white\",\"linecolor\":\"white\",\"ticks\":\"\"}},\"scene\":{\"xaxis\":{\"backgroundcolor\":\"#E5ECF6\",\"gridcolor\":\"white\",\"gridwidth\":2,\"linecolor\":\"white\",\"showbackground\":true,\"ticks\":\"\",\"zerolinecolor\":\"white\"},\"yaxis\":{\"backgroundcolor\":\"#E5ECF6\",\"gridcolor\":\"white\",\"gridwidth\":2,\"linecolor\":\"white\",\"showbackground\":true,\"ticks\":\"\",\"zerolinecolor\":\"white\"},\"zaxis\":{\"backgroundcolor\":\"#E5ECF6\",\"gridcolor\":\"white\",\"gridwidth\":2,\"linecolor\":\"white\",\"showbackground\":true,\"ticks\":\"\",\"zerolinecolor\":\"white\"}},\"shapedefaults\":{\"line\":{\"color\":\"#2a3f5f\"}},\"ternary\":{\"aaxis\":{\"gridcolor\":\"white\",\"linecolor\":\"white\",\"ticks\":\"\"},\"baxis\":{\"gridcolor\":\"white\",\"linecolor\":\"white\",\"ticks\":\"\"},\"bgcolor\":\"#E5ECF6\",\"caxis\":{\"gridcolor\":\"white\",\"linecolor\":\"white\",\"ticks\":\"\"}},\"title\":{\"x\":0.05},\"xaxis\":{\"automargin\":true,\"gridcolor\":\"white\",\"linecolor\":\"white\",\"ticks\":\"\",\"title\":{\"standoff\":15},\"zerolinecolor\":\"white\",\"zerolinewidth\":2},\"yaxis\":{\"automargin\":true,\"gridcolor\":\"white\",\"linecolor\":\"white\",\"ticks\":\"\",\"title\":{\"standoff\":15},\"zerolinecolor\":\"white\",\"zerolinewidth\":2}}},\"title\":{\"text\":\"Heat capacity of various chemical elements\"},\"xaxis\":{\"title\":{\"text\":\"Atomic number\"}},\"yaxis\":{\"dtick\":2,\"tick0\":1,\"title\":{\"text\":\"$C/k_B$\"}}},                        {\"responsive\": true}                    ).then(function(){\n",
       "                            \n",
       "var gd = document.getElementById('80f069a7-aa62-4902-81fb-ec83ad92d312');\n",
       "var x = new MutationObserver(function (mutations, observer) {{\n",
       "        var display = window.getComputedStyle(gd).display;\n",
       "        if (!display || display === 'none') {{\n",
       "            console.log([gd, 'removed!']);\n",
       "            Plotly.purge(gd);\n",
       "            observer.disconnect();\n",
       "        }}\n",
       "}});\n",
       "\n",
       "// Listen for the removal of the full notebook cells\n",
       "var notebookContainer = gd.closest('#notebook-container');\n",
       "if (notebookContainer) {{\n",
       "    x.observe(notebookContainer, {childList: true});\n",
       "}}\n",
       "\n",
       "// Listen for the clearing of the current output cell\n",
       "var outputEl = gd.closest('.output');\n",
       "if (outputEl) {{\n",
       "    x.observe(outputEl, {childList: true});\n",
       "}}\n",
       "\n",
       "                        })                };                });            </script>        </div>"
      ]
     },
     "metadata": {},
     "output_type": "display_data"
    }
   ],
   "source": [
    "# hovertext = df.T.apply(\n",
    "#     lambda s: f'<sup>{s['Atomic number']}</sup>{s.['Atomic symbol']} '\n",
    "#               f'[{s['Element']}]'\n",
    "# )\n",
    "\n",
    "\n",
    "\n",
    "# hovertext = df.apply(lambda x: f\"{x['Atomic symbol']}-{x['Atomic number']}\", axis = 1)\n",
    "hovertext = None\n",
    "\n",
    "fig = go.Figure(\n",
    "    data=[\n",
    "        go.Scatter(\n",
    "            x=df['Atomic number'],\n",
    "            y=df['Specific heat']/R,\n",
    "            mode='markers+text',\n",
    "            textposition='top center',\n",
    "            hovertext=hovertext,\n",
    "            hoverinfo='text'\n",
    "        ),\n",
    "    ],\n",
    "    layout=go.Layout(\n",
    "        title='Heat capacity of various chemical elements',\n",
    "        autosize=True,\n",
    "        yaxis=go.layout.YAxis(\n",
    "            title='$C/k_B$',\n",
    "            tick0=1,\n",
    "            dtick=2,\n",
    "        ),\n",
    "        xaxis=go.layout.XAxis(\n",
    "            title='Atomic number'\n",
    "        ),\n",
    "        hovermode='closest',\n",
    "    ),\n",
    ")\n",
    "\n",
    "py.iplot(fig, show_link=False)\n"
   ]
  },
  {
   "cell_type": "code",
   "execution_count": 11,
   "metadata": {
    "collapsed": true,
    "jupyter": {
     "outputs_hidden": true
    }
   },
   "outputs": [
    {
     "name": "stderr",
     "output_type": "stream",
     "text": [
      "Thermal expansion coefficients of the elements (data page)[0][0]: missing field for column [μm · m−1 · K−1]\n",
      "Thermal expansion coefficients of the elements (data page)[0][5]: missing field for column [μm · m−1 · K−1]\n",
      "Thermal expansion coefficients of the elements (data page)[0][10]: missing field for column [μm · m−1 · K−1]\n",
      "Thermal expansion coefficients of the elements (data page)[0][14]: missing field for column [μm · m−1 · K−1]\n",
      "Thermal expansion coefficients of the elements (data page)[0][17]: missing field for column [μm · m−1 · K−1]\n",
      "Thermal expansion coefficients of the elements (data page)[0][22]: missing field for column [μm · m−1 · K−1]\n",
      "Thermal expansion coefficients of the elements (data page)[0][27]: missing field for column [μm · m−1 · K−1]\n",
      "Thermal expansion coefficients of the elements (data page)[0][32]: missing field for column [μm · m−1 · K−1]\n",
      "Thermal expansion coefficients of the elements (data page)[0][35]: missing field for column [μm · m−1 · K−1]\n",
      "Thermal expansion coefficients of the elements (data page)[0][38]: missing field for column [μm · m−1 · K−1]\n",
      "Thermal expansion coefficients of the elements (data page)[0][43]: missing field for column [μm · m−1 · K−1]\n",
      "Thermal expansion coefficients of the elements (data page)[0][51]: missing field for column [μm · m−1 · K−1]\n",
      "Thermal expansion coefficients of the elements (data page)[0][56]: missing field for column [μm · m−1 · K−1]\n",
      "Thermal expansion coefficients of the elements (data page)[0][61]: missing field for column [μm · m−1 · K−1]\n",
      "Thermal expansion coefficients of the elements (data page)[0][66]: missing field for column [μm · m−1 · K−1]\n",
      "Thermal expansion coefficients of the elements (data page)[0][71]: missing field for column [μm · m−1 · K−1]\n",
      "Thermal expansion coefficients of the elements (data page)[0][76]: missing field for column [μm · m−1 · K−1]\n",
      "Thermal expansion coefficients of the elements (data page)[0][81]: missing field for column [μm · m−1 · K−1]\n",
      "Thermal expansion coefficients of the elements (data page)[0][86]: missing field for column [μm · m−1 · K−1]\n",
      "Thermal expansion coefficients of the elements (data page)[0][91]: missing field for column [μm · m−1 · K−1]\n",
      "Thermal expansion coefficients of the elements (data page)[0][96]: missing field for column [μm · m−1 · K−1]\n",
      "Thermal expansion coefficients of the elements (data page)[0][101]: missing field for column [μm · m−1 · K−1]\n",
      "Thermal expansion coefficients of the elements (data page)[0][105]: missing field for column [μm · m−1 · K−1]\n",
      "Thermal expansion coefficients of the elements (data page)[0][108]: missing field for column [μm · m−1 · K−1]\n",
      "Thermal expansion coefficients of the elements (data page)[0][113]: missing field for column [μm · m−1 · K−1]\n",
      "Thermal expansion coefficients of the elements (data page)[0][121]: missing field for column [μm · m−1 · K−1]\n",
      "Thermal expansion coefficients of the elements (data page)[0][126]: missing field for column [μm · m−1 · K−1]\n",
      "Thermal expansion coefficients of the elements (data page)[0][131]: missing field for column [μm · m−1 · K−1]\n",
      "Thermal expansion coefficients of the elements (data page)[0][136]: missing field for column [μm · m−1 · K−1]\n",
      "Thermal expansion coefficients of the elements (data page)[0][141]: missing field for column [μm · m−1 · K−1]\n",
      "Thermal expansion coefficients of the elements (data page)[0][146]: missing field for column [μm · m−1 · K−1]\n",
      "Thermal expansion coefficients of the elements (data page)[0][151]: missing field for column [μm · m−1 · K−1]\n",
      "Thermal expansion coefficients of the elements (data page)[0][156]: missing field for column [μm · m−1 · K−1]\n",
      "Thermal expansion coefficients of the elements (data page)[0][161]: missing field for column [μm · m−1 · K−1]\n",
      "Thermal expansion coefficients of the elements (data page)[0][166]: missing field for column [μm · m−1 · K−1]\n",
      "Thermal expansion coefficients of the elements (data page)[0][171]: missing field for column [μm · m−1 · K−1]\n",
      "Thermal expansion coefficients of the elements (data page)[0][176]: missing field for column [μm · m−1 · K−1]\n",
      "Thermal expansion coefficients of the elements (data page)[0][179]: missing field for column [μm · m−1 · K−1]\n",
      "Thermal expansion coefficients of the elements (data page)[0][184]: missing field for column [μm · m−1 · K−1]\n",
      "Thermal expansion coefficients of the elements (data page)[0][192]: missing field for column [μm · m−1 · K−1]\n",
      "Thermal expansion coefficients of the elements (data page)[0][199]: missing field for column [μm · m−1 · K−1]\n",
      "Thermal expansion coefficients of the elements (data page)[0][207]: missing field for column [μm · m−1 · K−1]\n",
      "Thermal expansion coefficients of the elements (data page)[0][215]: missing field for column [μm · m−1 · K−1]\n",
      "Thermal expansion coefficients of the elements (data page)[0][223]: missing field for column [μm · m−1 · K−1]\n",
      "Thermal expansion coefficients of the elements (data page)[0][231]: missing field for column [μm · m−1 · K−1]\n",
      "Thermal expansion coefficients of the elements (data page)[0][238]: missing field for column [μm · m−1 · K−1]\n",
      "Thermal expansion coefficients of the elements (data page)[0][246]: missing field for column [μm · m−1 · K−1]\n",
      "Thermal expansion coefficients of the elements (data page)[0][254]: missing field for column [μm · m−1 · K−1]\n",
      "Thermal expansion coefficients of the elements (data page)[0][262]: missing field for column [μm · m−1 · K−1]\n",
      "Thermal expansion coefficients of the elements (data page)[0][270]: missing field for column [μm · m−1 · K−1]\n",
      "Thermal expansion coefficients of the elements (data page)[0][278]: missing field for column [μm · m−1 · K−1]\n",
      "Thermal expansion coefficients of the elements (data page)[0][286]: missing field for column [μm · m−1 · K−1]\n",
      "Thermal expansion coefficients of the elements (data page)[0][293]: missing field for column [μm · m−1 · K−1]\n",
      "Thermal expansion coefficients of the elements (data page)[0][301]: missing field for column [μm · m−1 · K−1]\n",
      "Thermal expansion coefficients of the elements (data page)[0][306]: missing field for column [μm · m−1 · K−1]\n",
      "Thermal expansion coefficients of the elements (data page)[0][311]: missing field for column [μm · m−1 · K−1]\n",
      "Thermal expansion coefficients of the elements (data page)[0][316]: missing field for column [μm · m−1 · K−1]\n",
      "Thermal expansion coefficients of the elements (data page)[0][321]: missing field for column [μm · m−1 · K−1]\n",
      "Thermal expansion coefficients of the elements (data page)[0][326]: missing field for column [μm · m−1 · K−1]\n",
      "Thermal expansion coefficients of the elements (data page)[0][331]: missing field for column [μm · m−1 · K−1]\n",
      "Thermal expansion coefficients of the elements (data page)[0][336]: missing field for column [μm · m−1 · K−1]\n",
      "Thermal expansion coefficients of the elements (data page)[0][341]: missing field for column [μm · m−1 · K−1]\n",
      "Thermal expansion coefficients of the elements (data page)[0][344]: missing field for column [μm · m−1 · K−1]\n",
      "Thermal expansion coefficients of the elements (data page)[0][349]: missing field for column [μm · m−1 · K−1]\n",
      "Thermal expansion coefficients of the elements (data page)[0][354]: missing field for column [μm · m−1 · K−1]\n",
      "Thermal expansion coefficients of the elements (data page)[0][359]: missing field for column [μm · m−1 · K−1]\n",
      "Thermal expansion coefficients of the elements (data page)[0][362]: missing field for column [μm · m−1 · K−1]\n",
      "Thermal expansion coefficients of the elements (data page)[0][367]: missing field for column [μm · m−1 · K−1]\n",
      "Thermal expansion coefficients of the elements (data page)[0][372]: missing field for column [μm · m−1 · K−1]\n"
     ]
    },
    {
     "data": {
      "image/png": "[encoded data removed]",
      "text/plain": [
       "<Figure size 720x504 with 1 Axes>"
      ]
     },
     "metadata": {
      "needs_background": "light"
     },
     "output_type": "display_data"
    }
   ],
   "source": [
    "# https://en.wikipedia.org/wiki/Heat_capacities_of_the_elements_(data_page)\n",
    "wiki_data, = wikitables.import_tables('Thermal expansion coefficients of the elements (data page)')\n",
    "\n",
    "data = []\n",
    "for n, r in enumerate(wiki_data.rows):\n",
    "    if r[''].value[0] == '<':\n",
    "        Z, symbol, element = r[''].value.split('> ')[1].split(' ')[:3]\n",
    "\n",
    "        if wiki_data.rows[n+1][''].value == 'use':\n",
    "            try:\n",
    "                alpha = float(wiki_data.rows[n+1]['μm · m−1 · K−1'].value)\n",
    "                \n",
    "                to_write = {\n",
    "                    'Atomic number' : int(Z),\n",
    "                    'Atomic symbol' : symbol,\n",
    "                    'Element' : element.capitalize(),\n",
    "                    'Expansion' : alpha\n",
    "                }\n",
    "                \n",
    "            except ValueError:\n",
    "                pass\n",
    "                \n",
    "            data.append(to_write)    \n",
    "            \n",
    "df = pd.DataFrame.from_dict(data)\n",
    "plt.scatter(x = df['Atomic number'], y = df['Expansion'])\n",
    "\n",
    "plt.title('Thermal expansion coefficient')\n",
    "plt.xlabel('Atomic number')\n",
    "plt.ylabel(r'$\\alpha$ [$\\mu$m m$^{-1}$ K$^{-1}$]')\n",
    "plt.savefig('01_alpha.svg', facecolor='white', transparent=False)\n",
    "\n",
    "plt.show()"
   ]
  },
  {
   "cell_type": "markdown",
   "metadata": {},
   "source": [
    "### Plot from Einstein's paper"
   ]
  },
  {
   "cell_type": "code",
   "execution_count": 192,
   "metadata": {},
   "outputs": [
    {
     "data": {
      "image/png": "[encoded data removed]",
      "text/plain": [
       "<Figure size 720x504 with 1 Axes>"
      ]
     },
     "metadata": {
      "needs_background": "light"
     },
     "output_type": "display_data"
    },
    {
     "data": {
      "image/png": "[encoded data removed]",
      "text/plain": [
       "<Figure size 720x504 with 1 Axes>"
      ]
     },
     "metadata": {
      "needs_background": "light"
     },
     "output_type": "display_data"
    }
   ],
   "source": [
    "T_c = np.array([222.4, 262.4, 283.7, 306.4, 331.3, 358.5, 413.0, 479.2, 520.0, 879.7, 1079.7, 1258.0])\n",
    "c_c = np.array([0.384, 0.578, 0.683, 0.798, 0.928, 1.069, 1.343, 1.656, 1.833, 2.671, 2.720, 2.781])\n",
    "\n",
    "fig, ax = plt.subplots()\n",
    "ax.scatter(T_c, c_c)\n",
    "ax.set_xlabel('$T [K]$')\n",
    "ax.set_ylabel('$C/k_B$')\n",
    "ax.set_ylim((0, 3))\n",
    "ax.set_title('Heat capacity of diamond');\n",
    "\n",
    "plt.savefig('01_Einstein_diamond.svg', facecolor='white', transparent=False)\n",
    "\n",
    "plt.show()\n",
    "\n",
    "# Include low temperature data from https://www.tandfonline.com/doi/abs/10.1080/14786435808243223\n",
    "T_cprime = np.array([203.157, 162.867, 120.283, 80.868, 41.319, 12.833])\n",
    "c_cprime = np.array([0.5881, 0.3083, 0.1124, 0.02762, .00313, 0.000115])\n",
    "c_cprime *= 4.1858 * 3/24.945 #24.954 is 3Nk_B\n",
    "\n",
    "T_diamond = np.concatenate((T_cprime, T_c))\n",
    "c_diamond = np.concatenate((c_cprime, c_c))\n",
    "\n",
    "fig, ax = plt.subplots()\n",
    "ax.scatter(T_diamond, c_diamond)\n",
    "ax.set_xlabel('$T [K]$')\n",
    "ax.set_ylabel('$C/k_B$')\n",
    "ax.set_ylim((0, 3))\n",
    "ax.set_title('Heat capacity of diamond')\n",
    "\n",
    "plt.savefig('01_diamond_heat_capacity.svg', facecolor='white', transparent=False)\n",
    "\n",
    "plt.show()"
   ]
  },
  {
   "cell_type": "code",
   "execution_count": 193,
   "metadata": {},
   "outputs": [
    {
     "data": {
      "image/png": "[encoded data removed]",
      "text/plain": [
       "<Figure size 720x504 with 1 Axes>"
      ]
     },
     "metadata": {
      "needs_background": "light"
     },
     "output_type": "display_data"
    }
   ],
   "source": [
    "T_ag = np.array([1.35,2.,3.,4.,5.,6.,7.,8.,10.,12.,14.,16.,20.,28.56,36.16,47.09,55.88,65.19,74.56,83.91,103.14,124.2,144.38,166.78,190.17,205.3])\n",
    "c_ag = np.array([0.,0.,0.,0.,0.,0.,0.0719648,0.1075288,0.2100368,0.364008,0.573208,0.866088,1.648496,4.242576,7.07096,10.8784,13.47248,15.60632,17.27992,18.6188,20.33424,21.63128,22.46808,23.05384,23.47224,23.68144])\n",
    "c_ag *= 3/24.945 #24.954 is 3Nk_B\n",
    "\n",
    "fig, ax = plt.subplots()\n",
    "ax.scatter(T_diamond, c_diamond, label='Diamond', color = 'C0')\n",
    "ax.scatter(T_ag, c_ag, label='Silver', color = 'C1')\n",
    "ax.set_xlabel('$T [K]$')\n",
    "ax.set_ylabel('$C/k_B$')\n",
    "ax.set_ylim((0, 3))\n",
    "ax.set_xlim((0, 210))\n",
    "ax.set_title('Heat capacity of diamond versus silver');\n",
    "ax.legend()\n",
    "\n",
    "plt.savefig('02_heat_capacity_AgC.svg', facecolor='white', transparent=False)\n",
    "\n",
    "plt.show()"
   ]
  },
  {
   "cell_type": "code",
   "execution_count": 50,
   "metadata": {},
   "outputs": [
    {
     "data": {
      "image/png": "[encoded data removed]",
      "text/plain": [
       "<Figure size 864x720 with 1 Axes>"
      ]
     },
     "metadata": {
      "needs_background": "light"
     },
     "output_type": "display_data"
    }
   ],
   "source": [
    "# import math\n",
    "# from numpy.polynomial.hermite import Hermite\n",
    "\n",
    "def ho_evec(x, n, no_states):\n",
    "\n",
    "    \"\"\"\n",
    "    Calculate the wavefunction of states confined in the harmonic oscillator\n",
    "\n",
    "    Input:\n",
    "    ------\n",
    "    x: numpy array of x coordinates (in units of hbar.omega)\n",
    "    n: n^th bound state in the oscillator\n",
    "    no_states: no of states confined\n",
    "\n",
    "    Returns:\n",
    "    --------\n",
    "    Wavefunctions\n",
    "\n",
    "    \"\"\"\n",
    "\n",
    "    # calculate hermite polynomial\n",
    "    vec = [0] * no_states\n",
    "    vec[n] = 1/2\n",
    "    Hn = np.polynomial.hermite.Hermite(vec)\n",
    "\n",
    "    return ((1/np.sqrt(np.math.factorial(n)*2**n))*\n",
    "            pow(np.pi,-1/4)*\n",
    "            np.exp(-pow(x, 2)/2)*\n",
    "            Hn(x))\n",
    "\n",
    "def h0_ener(n):\n",
    "    \"\"\"\n",
    "    Calculate the energy of nth bound state\n",
    "    \"\"\"\n",
    "    return (n + 1/2)\n",
    "\n",
    "x = np.linspace(-4, 4, 100) #units of hbar.omega\n",
    "no_states = 3 #no of bound states confined in the quantum well\n",
    "\n",
    "omega = 1.0 #frequency of harmonic oscillator\n",
    "V = 0.5*(omega**2)*(x**2)\n",
    "\n",
    "fig, ax = plt.subplots(figsize=(12, 10))\n",
    "\n",
    "for i in range(no_states):\n",
    "\n",
    "    ax.hlines(h0_ener(i), x[0], x[len(x)-1], linestyles='dotted', colors='k')\n",
    "\n",
    "    ax.plot(x, ho_evec(x, i, no_states) + h0_ener(i)) #plot wavefunctions\n",
    "\n",
    "\n",
    "    # annotate plot\n",
    "    # label each wavefunction\n",
    "    ax.text(x[len(x)-1], h0_ener(i)+1/10, r'$\\psi_%2i (x)$' %(i),\n",
    "             horizontalalignment='center', fontsize=16)\n",
    "    \n",
    "    # label each energy\n",
    "    ax.text(1/4, h0_ener(i)+1/20, '$E_%2i$' %(i),\n",
    "             horizontalalignment='center', fontsize=16)\n",
    "    \n",
    "    # label energy spacing\n",
    "    # ground-state energy\n",
    "    if i==0:\n",
    "        ax.text(x[0]+1/5, 2*h0_ener(i)/5, r'$\\frac{\\hbar\\omega_0}{2}$',\n",
    "                 horizontalalignment='center', fontsize=16)\n",
    "\n",
    "        ax.annotate(\"\", xy=(x[0]+1/2, h0_ener(i)-1/2),\n",
    "                    xytext=(x[0]+1/2, h0_ener(i)),\n",
    "                    arrowprops=dict(arrowstyle=\"<->\"))\n",
    "        \n",
    "    # state-separation energy\n",
    "    elif i==1:\n",
    "        ax.text(x[0]+1/5, h0_ener(i-1)+2/5, r'$\\hbar\\omega_0$',\n",
    "                 horizontalalignment='center', fontsize=16)\n",
    "        \n",
    "        ax.annotate(\"\", xy=(x[0]+1/2, h0_ener(i)),\n",
    "                    xytext=(x[0]+1/2, h0_ener(i-1)),\n",
    "                    arrowprops=dict(arrowstyle=\"<->\"))\n",
    "\n",
    "    ax.fill_between(x, h0_ener(i), ho_evec(x, i, no_states) + h0_ener(i), alpha=0.5)\n",
    "\n",
    "ax.plot(x, V, 'k', linewidth=5) # plot harmonic potential\n",
    "\n",
    "# Move left y-axis and bottim x-axis to centre, passing through (0,0)\n",
    "ax.spines['left'].set_position('center')\n",
    "ax.spines['bottom'].set_position(('data', 0.0))\n",
    "\n",
    "# Eliminate upper and right axes\n",
    "ax.spines['right'].set_color('none')\n",
    "ax.spines['top'].set_color('none')\n",
    "\n",
    "# Eliminate x and y axes labels\n",
    "ax.set_yticklabels([])\n",
    "ax.set_xticklabels([])\n",
    "\n",
    "# Set x and y labels\n",
    "ax.set_xlabel('X '+ r'($\\sqrt{\\hbar/m\\omega_0}$)', fontsize=20)\n",
    "ax.set_ylabel('$E/\\hbar\\omega_0$', fontsize=20)\n",
    "ax.yaxis.set_label_coords(0.475,1)\n",
    "\n",
    "# Set the y limit\n",
    "ax.set_ylim((0,no_states))\n",
    "\n",
    "# Save the figure\n",
    "plt.savefig('01_harmonic.svg', facecolor='white', transparent=False)\n",
    "\n",
    "plt.show()"
   ]
  },
  {
   "cell_type": "code",
   "execution_count": 133,
   "metadata": {},
   "outputs": [
    {
     "data": {
      "image/png": "[encoded data removed]",
      "text/plain": [
       "<Figure size 720x504 with 1 Axes>"
      ]
     },
     "metadata": {
      "needs_background": "light"
     },
     "output_type": "display_data"
    }
   ],
   "source": [
    "# Define an equation to calculate the heat capacity\n",
    "def c_einstein(T, w):\n",
    "    \n",
    "    \"\"\"\n",
    "    Calculate the specific heat capacity according to the Einstein model of a solid\n",
    "    \n",
    "    Input:\n",
    "    ---\n",
    "    T: Temperature [K]\n",
    "    w: Einstein frequency \\omega [rad.s^-1]\n",
    "    \n",
    "    Returns:\n",
    "    ---\n",
    "    The heat capacity in units of k_B\n",
    "    \n",
    "    \"\"\"\n",
    "    \n",
    "    x = (hbar * w)/(T * kb) # scale the variable\n",
    "    return 3 * x**2 * np.exp(x) / (np.exp(x) - 1)**2 # compute the heat capacity\n",
    "\n",
    "# The range of temperatures over which the heat capity will be calculated\n",
    "# Note: overflow errors will occur is the x_min value is too small\n",
    "temp = np.linspace(10, 1000, 200)\n",
    "\n",
    "# The range of Einstein freqeuncies to be computed. For reference, diamond has \\omega \\approx 170\n",
    "w = np.linspace(20, 200, 5)\n",
    "\n",
    "# Create the plot instance\n",
    "fig, ax = plt.subplots()\n",
    "# Plot and label each frequency\n",
    "for f in w:\n",
    "    ax.plot(temp, c_einstein(temp, f*1e12), label=f'$\\omega={f:.0f}$ THz')\n",
    "    \n",
    "# Make the plot readable\n",
    "ax.set_xlabel('$T [K]$')\n",
    "ax.set_ylabel(r'$C/k_B$');\n",
    "ax.set_title(r'The Einstein model of heat capacity')\n",
    "ax.legend()\n",
    "\n",
    "# Save the figure\n",
    "plt.savefig('01_Einstein_c.svg', facecolor='white', transparent=False)\n",
    "\n",
    "plt.show() # Show the plot"
   ]
  },
  {
   "cell_type": "code",
   "execution_count": 207,
   "metadata": {},
   "outputs": [
    {
     "name": "stderr",
     "output_type": "stream",
     "text": [
      "<ipython-input-207-b80a84389679>:20: UserWarning: Matplotlib is currently using module://ipykernel.pylab.backend_inline, which is a non-GUI backend, so cannot show the figure.\n",
      "  fig.show();\n"
     ]
    },
    {
     "data": {
      "image/png": "[encoded data removed]",
      "text/plain": [
       "<Figure size 720x504 with 1 Axes>"
      ]
     },
     "metadata": {
      "needs_background": "light"
     },
     "output_type": "display_data"
    }
   ],
   "source": [
    "fig, ax = plt.subplots()\n",
    "\n",
    "omega = np.linspace(0.1, 3)\n",
    "T = [1,2]\n",
    "\n",
    "ax.plot(omega, 1/(np.exp(omega/T[0]) - 1), label = r'$T_1$')\n",
    "ax.plot(omega, 1/(np.exp(omega/T[1]) - 1), label = r'$T_2 = 2T_1$')\n",
    "ax.set_ylim([0,3])\n",
    "ax.set_xlim([0,3])\n",
    "ax.set_xlabel('$\\hbar \\omega$')\n",
    "ax.set_xticks([0])\n",
    "ax.set_xticklabels(['$0$'])\n",
    "ax.set_ylabel('$n_\\mathrm{B}$')\n",
    "ax.set_yticks([0,1, 2])\n",
    "ax.set_yticklabels(['$0$','$1$', '$2$'])\n",
    "ax.legend()\n",
    "\n",
    "plt.savefig('01_Ex_0_2.svg', facecolor='white', transparent=False)\n",
    "\n",
    "fig.show();"
   ]
  },
  {
   "cell_type": "code",
   "execution_count": null,
   "metadata": {},
   "outputs": [],
   "source": []
  }
 ],
 "metadata": {
  "kernelspec": {
   "display_name": "Python 3",
   "language": "python",
   "name": "python3"
  },
  "language_info": {
   "codemirror_mode": {
    "name": "ipython",
    "version": 3
   },
   "file_extension": ".py",
   "mimetype": "text/x-python",
   "name": "python",
   "nbconvert_exporter": "python",
   "pygments_lexer": "ipython3",
   "version": "3.8.5"
  }
 },
 "nbformat": 4,
 "nbformat_minor": 5
}
