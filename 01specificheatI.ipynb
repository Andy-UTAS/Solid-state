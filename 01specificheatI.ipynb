{
 "cells": [
  {
   "cell_type": "markdown",
   "metadata": {},
   "source": [
    "# The specific heat of solids I: The Einstein model\n",
    "\n",
    "This notebook is to accompany the _The specific heat of solids I_ content.\n",
    "\n",
    "Version 1.0, updated 16/08/2021 by AJM"
   ]
  },
  {
   "cell_type": "markdown",
   "metadata": {},
   "source": [
    "## Import packages\n",
    "\n",
    "To streamline operations in Python, packages can be imported to perform a host of various tasks. To make this process as simple as possible, all the required packages are included in the file _[SSP.py](https://github.com/Andy-UTAS/Solid-state/blob/master/SSP.py)_ and thus we can import all of the content: "
   ]
  },
  {
   "cell_type": "code",
   "execution_count": null,
   "metadata": {},
   "outputs": [],
   "source": [
    "from SSP import *"
   ]
  },
  {
   "cell_type": "markdown",
   "metadata": {},
   "source": [
    "## Dulong-Petit Law\n",
    "\n",
    "We can import data from the wikipedia page of [heat capacities](https://en.wikipedia.org/wiki/Heat_capacities_of_the_elements_(data_page)):\n",
    "\n",
    "_Note_: you will be spammed with errors during the parsing process!"
   ]
  },
  {
   "cell_type": "code",
   "execution_count": null,
   "metadata": {},
   "outputs": [],
   "source": [
    "wiki_data, = wikitables.import_tables('Heat capacities of the elements (data page)')"
   ]
  },
  {
   "cell_type": "markdown",
   "metadata": {},
   "source": [
    "We then need time manipulate the data into something more useful:"
   ]
  },
  {
   "cell_type": "code",
   "execution_count": null,
   "metadata": {},
   "outputs": [],
   "source": [
    "data = []\n",
    "for n, r in enumerate(wiki_data.rows):\n",
    "    if r[''].value[0] == '<':\n",
    "        Z, symbol, element = r[''].value.split('> ')[1].split(' ')[:3]\n",
    "        \n",
    "        if wiki_data.rows[n+2][''].value == 'CRC':\n",
    "            try:\n",
    "                C = float(wiki_data.rows[n+2]['J/(mol·K)'].value)\n",
    "            except ValueError:\n",
    "                C = float(wiki_data.rows[n+2]['J/(mol·K)'].value.split(') ')[1])\n",
    "                \n",
    "            \n",
    "            to_write = {\n",
    "                'Atomic number' : int(Z),\n",
    "                'Atomic symbol' : symbol,\n",
    "                'Element' : element.capitalize(),\n",
    "                'Specific heat' : C\n",
    "            }\n",
    "            \n",
    "            data.append(to_write)    "
   ]
  },
  {
   "cell_type": "markdown",
   "metadata": {},
   "source": [
    "With the data in a useful form, we can use _pandas_ and _mathplotlib_ to plot it as follows:"
   ]
  },
  {
   "cell_type": "code",
   "execution_count": null,
   "metadata": {},
   "outputs": [],
   "source": [
    "df = pd.DataFrame.from_dict(data)\n",
    "plt.scatter(x = df['Atomic number'], y = df['Specific heat']/R)\n",
    "plt.axhline(3, linestyle = '--', color = 'C1', linewidth = 2.5)\n",
    "\n",
    "plt.title('The Dulong–Petit law')\n",
    "plt.xlabel('Atomic number')\n",
    "plt.ylabel('Heat capacity/$R$')\n",
    "plt.savefig('01_Dulong-Petit.svg', facecolor='white', transparent=False)\n",
    "\n",
    "plt.show()"
   ]
  },
  {
   "cell_type": "markdown",
   "metadata": {},
   "source": [
    "It is also possible to create an interactive version of the plot using _plotly_ "
   ]
  },
  {
   "cell_type": "code",
   "execution_count": null,
   "metadata": {},
   "outputs": [],
   "source": [
    "hovertext = df.apply(lambda x: f\"{x['Atomic symbol']}-{x['Atomic number']}\", axis = 1)\n",
    "\n",
    "fig = go.Figure(\n",
    "    data=[\n",
    "        go.Scatter(\n",
    "            x=df['Atomic number'],\n",
    "            y=df['Specific heat']/R,\n",
    "            mode='markers+text',\n",
    "            textposition='top center',\n",
    "            hovertext=hovertext,\n",
    "            hoverinfo='text'\n",
    "        ),\n",
    "    ],\n",
    "    layout=go.Layout(\n",
    "        title='Heat capacity of various chemical elements',\n",
    "        autosize=True,\n",
    "        yaxis=go.layout.YAxis(\n",
    "            title='$C/k_B$',\n",
    "            tick0=1,\n",
    "            dtick=2,\n",
    "        ),\n",
    "        xaxis=go.layout.XAxis(\n",
    "            title='Atomic number'\n",
    "        ),\n",
    "        hovermode='closest',\n",
    "    ),\n",
    ")\n",
    "\n",
    "py.iplot(fig, show_link=False)"
   ]
  },
  {
   "cell_type": "code",
   "execution_count": null,
   "metadata": {},
   "outputs": [],
   "source": [
    "## Thermal expansion coefficients\n",
    "\n",
    "We can play the exact same game as above, but this time collecting [thermal expansion coefficients](https://en.wikipedia.org/wiki/Thermal_expansion_coefficients_of_the_elements_(data_page)):\n",
    "\n",
    "_Note_: you will be spammed with errors during the parsing process!"
   ]
  },
  {
   "cell_type": "markdown",
   "metadata": {},
   "source": [
    "# https://en.wikipedia.org/wiki/Heat_capacities_of_the_elements_(data_page)\n",
    "wiki_data, = wikitables.import_tables('Thermal expansion coefficients of the elements (data page)')\n",
    "\n",
    "data = []\n",
    "for n, r in enumerate(wiki_data.rows):\n",
    "    if r[''].value[0] == '<':\n",
    "        Z, symbol, element = r[''].value.split('> ')[1].split(' ')[:3]\n",
    "\n",
    "        if wiki_data.rows[n+1][''].value == 'use':\n",
    "            try:\n",
    "                alpha = float(wiki_data.rows[n+1]['μm · m−1 · K−1'].value)\n",
    "                \n",
    "                to_write = {\n",
    "                    'Atomic number' : int(Z),\n",
    "                    'Atomic symbol' : symbol,\n",
    "                    'Element' : element.capitalize(),\n",
    "                    'Expansion' : alpha\n",
    "                }\n",
    "                \n",
    "            except ValueError:\n",
    "                pass\n",
    "                \n",
    "            data.append(to_write)    \n",
    "            \n",
    "df = pd.DataFrame.from_dict(data)\n",
    "plt.scatter(x = df['Atomic number'], y = df['Expansion'])\n",
    "\n",
    "plt.title('Thermal expansion coefficient')\n",
    "plt.xlabel('Atomic number')\n",
    "plt.ylabel(r'$\\alpha$ [$\\mu$m m$^{-1}$ K$^{-1}$]')\n",
    "plt.savefig('01_alpha.svg', facecolor='white', transparent=False)\n",
    "\n",
    "plt.show()"
   ]
  },
  {
   "cell_type": "markdown",
   "metadata": {},
   "source": [
    "## Heat capacity of Diamond\n",
    "\n",
    "### Plot from Einstein's paper"
   ]
  },
  {
   "cell_type": "code",
   "execution_count": null,
   "metadata": {},
   "outputs": [],
   "source": [
    "T_c = np.array([222.4, 262.4, 283.7, 306.4, 331.3, 358.5, 413.0, 479.2, 520.0, 879.7, 1079.7, 1258.0])\n",
    "c_c = np.array([0.384, 0.578, 0.683, 0.798, 0.928, 1.069, 1.343, 1.656, 1.833, 2.671, 2.720, 2.781])\n",
    "\n",
    "fig, ax = plt.subplots()\n",
    "ax.scatter(T_c, c_c)\n",
    "ax.set_xlabel('$T [K]$')\n",
    "ax.set_ylabel('$C/k_B$')\n",
    "ax.set_ylim((0, 3))\n",
    "ax.set_title('Heat capacity of diamond');\n",
    "\n",
    "plt.savefig('01_Einstein_diamond.svg', facecolor='white', transparent=False)\n",
    "\n",
    "plt.show()"
   ]
  },
  {
   "cell_type": "markdown",
   "metadata": {},
   "source": [
    "Extend the plot to low temperature with data from [this paper](https://www.tandfonline.com/doi/abs/10.1080/14786435808243223)"
   ]
  },
  {
   "cell_type": "code",
   "execution_count": null,
   "metadata": {},
   "outputs": [],
   "source": [
    "T_cprime = np.array([203.157, 162.867, 120.283, 80.868, 41.319, 12.833])\n",
    "c_cprime = np.array([0.5881, 0.3083, 0.1124, 0.02762, .00313, 0.000115])\n",
    "c_cprime *= 4.1858 * 3/24.945 #24.954 is 3Nk_B\n",
    "\n",
    "T_diamond = np.concatenate((T_cprime, T_c))\n",
    "c_diamond = np.concatenate((c_cprime, c_c))\n",
    "\n",
    "fig, ax = plt.subplots()\n",
    "ax.scatter(T_diamond, c_diamond)\n",
    "ax.set_xlabel('$T [K]$')\n",
    "ax.set_ylabel('$C/k_B$')\n",
    "ax.set_ylim((0, 3))\n",
    "ax.set_title('Heat capacity of diamond')\n",
    "\n",
    "plt.savefig('01_diamond_heat_capacity.svg', facecolor='white', transparent=False)\n",
    "\n",
    "plt.show()"
   ]
  },
  {
   "cell_type": "markdown",
   "metadata": {},
   "source": [
    "## Heat capacity of Silver"
   ]
  },
  {
   "cell_type": "code",
   "execution_count": null,
   "metadata": {},
   "outputs": [],
   "source": [
    "T_ag = np.array([1.35,2.,3.,4.,5.,6.,7.,8.,10.,12.,14.,16.,20.,28.56,36.16,47.09,55.88,65.19,74.56,83.91,103.14,124.2,144.38,166.78,190.17,205.3])\n",
    "c_ag = np.array([0.,0.,0.,0.,0.,0.,0.0719648,0.1075288,0.2100368,0.364008,0.573208,0.866088,1.648496,4.242576,7.07096,10.8784,13.47248,15.60632,17.27992,18.6188,20.33424,21.63128,22.46808,23.05384,23.47224,23.68144])\n",
    "c_ag *= 3/24.945 #24.954 is 3Nk_B\n",
    "\n",
    "fig, ax = plt.subplots()\n",
    "ax.scatter(T_diamond, c_diamond, label='Diamond', color = 'C0')\n",
    "ax.scatter(T_ag, c_ag, label='Silver', color = 'C1')\n",
    "ax.set_xlabel('$T [K]$')\n",
    "ax.set_ylabel('$C/k_B$')\n",
    "ax.set_ylim((0, 3))\n",
    "ax.set_xlim((0, 210))\n",
    "ax.set_title('Heat capacity of diamond versus silver');\n",
    "ax.legend()\n",
    "\n",
    "plt.savefig('02_heat_capacity_AgC.svg', facecolor='white', transparent=False)\n",
    "\n",
    "plt.show()"
   ]
  },
  {
   "cell_type": "markdown",
   "metadata": {},
   "source": [
    "## The harmonic oscillator"
   ]
  },
  {
   "cell_type": "code",
   "execution_count": null,
   "metadata": {},
   "outputs": [],
   "source": [
    "def ho_evec(x, n, no_states):\n",
    "\n",
    "    \"\"\"\n",
    "    Calculate the wavefunction of states confined in the harmonic oscillator\n",
    "\n",
    "    Input:\n",
    "    ------\n",
    "    x: numpy array of x coordinates (in units of hbar.omega)\n",
    "    n: n^th bound state in the oscillator\n",
    "    no_states: no of states confined\n",
    "\n",
    "    Returns:\n",
    "    --------\n",
    "    Wavefunctions\n",
    "\n",
    "    \"\"\"\n",
    "\n",
    "    # calculate hermite polynomial\n",
    "    vec = [0] * no_states\n",
    "    vec[n] = 1/2\n",
    "    Hn = np.polynomial.hermite.Hermite(vec)\n",
    "\n",
    "    return ((1/np.sqrt(np.math.factorial(n)*2**n))*\n",
    "            pow(np.pi,-1/4)*\n",
    "            np.exp(-pow(x, 2)/2)*\n",
    "            Hn(x))\n",
    "\n",
    "def h0_ener(n):\n",
    "    \"\"\"\n",
    "    Calculate the energy of nth bound state\n",
    "    \"\"\"\n",
    "    return (n + 1/2)\n",
    "\n",
    "x = np.linspace(-4, 4, 100) #units of hbar.omega\n",
    "no_states = 3 #no of bound states confined in the quantum well\n",
    "\n",
    "omega = 1.0 #frequency of harmonic oscillator\n",
    "V = 0.5*(omega**2)*(x**2)\n",
    "\n",
    "fig, ax = plt.subplots(figsize=(12, 10))\n",
    "\n",
    "for i in range(no_states):\n",
    "\n",
    "    ax.hlines(h0_ener(i), x[0], x[len(x)-1], linestyles='dotted', colors='k')\n",
    "\n",
    "    ax.plot(x, ho_evec(x, i, no_states) + h0_ener(i)) #plot wavefunctions\n",
    "\n",
    "\n",
    "    # annotate plot\n",
    "    # label each wavefunction\n",
    "    ax.text(x[len(x)-1], h0_ener(i)+1/10, r'$\\psi_%2i (x)$' %(i),\n",
    "             horizontalalignment='center', fontsize=16)\n",
    "    \n",
    "    # label each energy\n",
    "    ax.text(1/4, h0_ener(i)+1/20, '$E_%2i$' %(i),\n",
    "             horizontalalignment='center', fontsize=16)\n",
    "    \n",
    "    # label energy spacing\n",
    "    # ground-state energy\n",
    "    if i==0:\n",
    "        ax.text(x[0]+1/5, 2*h0_ener(i)/5, r'$\\frac{\\hbar\\omega_0}{2}$',\n",
    "                 horizontalalignment='center', fontsize=16)\n",
    "\n",
    "        ax.annotate(\"\", xy=(x[0]+1/2, h0_ener(i)-1/2),\n",
    "                    xytext=(x[0]+1/2, h0_ener(i)),\n",
    "                    arrowprops=dict(arrowstyle=\"<->\"))\n",
    "        \n",
    "    # state-separation energy\n",
    "    elif i==1:\n",
    "        ax.text(x[0]+1/5, h0_ener(i-1)+2/5, r'$\\hbar\\omega_0$',\n",
    "                 horizontalalignment='center', fontsize=16)\n",
    "        \n",
    "        ax.annotate(\"\", xy=(x[0]+1/2, h0_ener(i)),\n",
    "                    xytext=(x[0]+1/2, h0_ener(i-1)),\n",
    "                    arrowprops=dict(arrowstyle=\"<->\"))\n",
    "\n",
    "    ax.fill_between(x, h0_ener(i), ho_evec(x, i, no_states) + h0_ener(i), alpha=0.5)\n",
    "\n",
    "ax.plot(x, V, 'k', linewidth=5) # plot harmonic potential\n",
    "\n",
    "# Move left y-axis and bottim x-axis to centre, passing through (0,0)\n",
    "ax.spines['left'].set_position('center')\n",
    "ax.spines['bottom'].set_position(('data', 0.0))\n",
    "\n",
    "# Eliminate upper and right axes\n",
    "ax.spines['right'].set_color('none')\n",
    "ax.spines['top'].set_color('none')\n",
    "\n",
    "# Eliminate x and y axes labels\n",
    "ax.set_yticklabels([])\n",
    "ax.set_xticklabels([])\n",
    "\n",
    "# Set x and y labels\n",
    "ax.set_xlabel('X '+ r'($\\sqrt{\\hbar/m\\omega_0}$)', fontsize=20)\n",
    "ax.set_ylabel('$E/\\hbar\\omega_0$', fontsize=20)\n",
    "ax.yaxis.set_label_coords(0.475,1)\n",
    "\n",
    "# Set the y limit\n",
    "ax.set_ylim((0,no_states))\n",
    "\n",
    "# Save the figure\n",
    "plt.savefig('01_harmonic.svg', facecolor='white', transparent=False)\n",
    "\n",
    "plt.show()"
   ]
  },
  {
   "cell_type": "markdown",
   "metadata": {},
   "source": [
    "### Heat capacity at different Einstein frequencies"
   ]
  },
  {
   "cell_type": "code",
   "execution_count": null,
   "metadata": {},
   "outputs": [],
   "source": [
    "# Define an equation to calculate the heat capacity\n",
    "def c_einstein(T, w):\n",
    "    \n",
    "    \"\"\"\n",
    "    Calculate the specific heat capacity according to the Einstein model of a solid\n",
    "    \n",
    "    Input:\n",
    "    ---\n",
    "    T: Temperature [K]\n",
    "    w: Einstein frequency \\omega [rad.s^-1]\n",
    "    \n",
    "    Returns:\n",
    "    ---\n",
    "    The heat capacity in units of k_B\n",
    "    \n",
    "    \"\"\"\n",
    "    \n",
    "    x = (hbar * w)/(T * kb) # scale the variable\n",
    "    return 3 * x**2 * np.exp(x) / (np.exp(x) - 1)**2 # compute the heat capacity\n",
    "\n",
    "# The range of temperatures over which the heat capity will be calculated\n",
    "# Note: overflow errors will occur is the x_min value is too small\n",
    "temp = np.linspace(10, 1000, 200)\n",
    "\n",
    "# The range of Einstein freqeuncies to be computed. For reference, diamond has \\omega \\approx 170\n",
    "w = np.linspace(20, 200, 5)\n",
    "\n",
    "# Create the plot instance\n",
    "fig, ax = plt.subplots()\n",
    "# Plot and label each frequency\n",
    "for f in w:\n",
    "    ax.plot(temp, c_einstein(temp, f*1e12), label=f'$\\omega={f:.0f}$ THz')\n",
    "    \n",
    "# Make the plot readable\n",
    "ax.set_xlabel('$T [K]$')\n",
    "ax.set_ylabel(r'$C/k_B$');\n",
    "ax.set_title(r'The Einstein model of heat capacity')\n",
    "ax.legend()\n",
    "\n",
    "# Save the figure\n",
    "plt.savefig('01_Einstein_c.svg', facecolor='white', transparent=False)\n",
    "\n",
    "plt.show() # Show the plot"
   ]
  },
  {
   "cell_type": "markdown",
   "metadata": {},
   "source": [
    "## Preliminary provocations, Ex. 2"
   ]
  },
  {
   "cell_type": "code",
   "execution_count": null,
   "metadata": {},
   "outputs": [],
   "source": [
    "fig, ax = plt.subplots()\n",
    "\n",
    "omega = np.linspace(0.1, 3)\n",
    "T = [1,2]\n",
    "\n",
    "ax.plot(omega, 1/(np.exp(omega/T[0]) - 1), label = r'$T_1$')\n",
    "ax.plot(omega, 1/(np.exp(omega/T[1]) - 1), label = r'$T_2 = 2T_1$')\n",
    "ax.set_ylim([0,3])\n",
    "ax.set_xlim([0,3])\n",
    "ax.set_xlabel('$\\hbar \\omega$')\n",
    "ax.set_xticks([0])\n",
    "ax.set_xticklabels(['$0$'])\n",
    "ax.set_ylabel('$n_\\mathrm{B}$')\n",
    "ax.set_yticks([0,1, 2])\n",
    "ax.set_yticklabels(['$0$','$1$', '$2$'])\n",
    "ax.legend()\n",
    "\n",
    "plt.savefig('01_Ex_0_2.svg', facecolor='white', transparent=False)\n",
    "\n",
    "fig.show();"
   ]
  }
 ],
 "metadata": {
  "kernelspec": {
   "display_name": "Python 3",
   "language": "python",
   "name": "python3"
  },
  "language_info": {
   "codemirror_mode": {
    "name": "ipython",
    "version": 3
   },
   "file_extension": ".py",
   "mimetype": "text/x-python",
   "name": "python",
   "nbconvert_exporter": "python",
   "pygments_lexer": "ipython3",
   "version": "3.8.5"
  }
 },
 "nbformat": 4,
 "nbformat_minor": 5
}
