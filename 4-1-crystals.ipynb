{
 "cells": [
  {
   "cell_type": "markdown",
   "metadata": {},
   "source": [
    "# Crystals\n",
    "\n",
    "This notebook is to accompany the _Crystals_ content. In case you are interested: despite this appearing to have the least content, it took BY FAR the longest amount of time to prepare.\n",
    "\n",
    "Version 1.0, updated 09/09/2021 by AJM"
   ]
  },
  {
   "cell_type": "markdown",
   "metadata": {},
   "source": [
    "## Import packages\n",
    "\n",
    "To streamline operations in Python, packages can be imported to perform a host of various tasks. To make this process as simple as possible, all the required packages are included in the file _[SSP.py](https://github.com/Andy-UTAS/Solid-state/blob/master/SSP.py)_ and thus we can import all of the content: "
   ]
  },
  {
   "cell_type": "code",
   "execution_count": null,
   "metadata": {},
   "outputs": [],
   "source": [
    "from SSP import *\n",
    "from crystal import *"
   ]
  },
  {
   "cell_type": "markdown",
   "metadata": {},
   "source": [
    "## Lattices\n",
    "### Making a lattice"
   ]
  },
  {
   "cell_type": "code",
   "execution_count": null,
   "metadata": {},
   "outputs": [],
   "source": [
    "# Produces the lattice to be fed into plotly\n",
    "def lattice_generation(a1,a2,N = 20):\n",
    "    grid = np.arange(-N//2,N//2,1)\n",
    "    xGrid, yGrid = np.meshgrid(grid,grid)\n",
    "    return np.reshape(np.kron(xGrid.flatten(),a1),(-1,2))+np.reshape(np.kron(yGrid.flatten(),a2),(-1,2))\n",
    "\n",
    "# Define the lattice vectors\n",
    "PLV1 = np.array([1,0])\n",
    "PLV2 = np.array([0,1])\n",
    "\n",
    "lattice = lattice_generation(PLV1, PLV2, 10).T\n",
    "\n",
    "fig, ax = plt.subplots(1, 1)\n",
    "\n",
    "ax.scatter(*lattice, color = 'black')\n",
    "ax.set_aspect(1)\n",
    "plt.axis('off')\n",
    "\n",
    "if False:\n",
    "    plt.savefig('4-1-simplelattice.svg', facecolor='white', transparent=False, bbox_inches='tight')"
   ]
  },
  {
   "cell_type": "markdown",
   "metadata": {},
   "source": [
    "The below functions are defined in the file _crystal.py_ as they are fairly horrible and there is little value to be found unless you are looking to make similar plots. So we can just run the functions, noting that if you pass the boolean **True** as an input, an .html file will be produced "
   ]
  },
  {
   "cell_type": "code",
   "execution_count": null,
   "metadata": {},
   "outputs": [],
   "source": [
    "simple_lattice()"
   ]
  },
  {
   "cell_type": "code",
   "execution_count": null,
   "metadata": {},
   "outputs": [],
   "source": [
    "graphene_single()"
   ]
  },
  {
   "cell_type": "code",
   "execution_count": null,
   "metadata": {},
   "outputs": [],
   "source": [
    "periodic()"
   ]
  },
  {
   "cell_type": "code",
   "execution_count": null,
   "metadata": {},
   "outputs": [],
   "source": [
    "graphene()"
   ]
  },
  {
   "cell_type": "code",
   "execution_count": null,
   "metadata": {},
   "outputs": [],
   "source": [
    "FCC()"
   ]
  },
  {
   "cell_type": "code",
   "execution_count": null,
   "metadata": {},
   "outputs": [],
   "source": [
    "filling()"
   ]
  },
  {
   "cell_type": "markdown",
   "metadata": {},
   "source": [
    "## Exercises"
   ]
  },
  {
   "cell_type": "markdown",
   "metadata": {},
   "source": [
    "### Diatomic lattice\n",
    "#### 2D"
   ]
  },
  {
   "cell_type": "code",
   "execution_count": null,
   "metadata": {},
   "outputs": [],
   "source": [
    "y = np.repeat(np.arange(0,8,2),4)\n",
    "x = np.tile(np.arange(0,8,2),4)\n",
    "\n",
    "fig, ax = plt.subplots(1, 1)\n",
    "\n",
    "plt.axis('off')\n",
    "\n",
    "plt.plot(x,y,'ko', markersize=15)\n",
    "plt.plot(x+1,y+1, 'o', markerfacecolor='none', markeredgecolor='k', markersize=15);\n",
    "ax.set_aspect(1)\n",
    "\n",
    "if True:\n",
    "    plt.savefig('4-1-diatomiclattice.svg', facecolor='white', transparent=False, bbox_inches='tight')"
   ]
  },
  {
   "cell_type": "markdown",
   "metadata": {},
   "source": [
    "#### 3D"
   ]
  },
  {
   "cell_type": "code",
   "execution_count": null,
   "metadata": {},
   "outputs": [],
   "source": [
    "diatomic()"
   ]
  },
  {
   "cell_type": "markdown",
   "metadata": {},
   "source": [
    "### Diamond lattice"
   ]
  },
  {
   "cell_type": "code",
   "execution_count": null,
   "metadata": {},
   "outputs": [],
   "source": [
    "diamond()"
   ]
  }
 ],
 "metadata": {
  "kernelspec": {
   "display_name": "Python 3",
   "language": "python",
   "name": "python3"
  },
  "language_info": {
   "codemirror_mode": {
    "name": "ipython",
    "version": 3
   },
   "file_extension": ".py",
   "mimetype": "text/x-python",
   "name": "python",
   "nbconvert_exporter": "python",
   "pygments_lexer": "ipython3",
   "version": "3.8.5"
  }
 },
 "nbformat": 4,
 "nbformat_minor": 4
}
