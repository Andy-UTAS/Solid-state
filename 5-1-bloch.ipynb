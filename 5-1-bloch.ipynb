{
 "cells": [
  {
   "cell_type": "markdown",
   "metadata": {},
   "source": [
    "# The nearly-free electron model\n",
    "\n",
    "This notebook is to accompany the _nearly-free electron model_ content.\n",
    "\n",
    "Version 0.1, updated 29/09/2021 by AJM"
   ]
  },
  {
   "cell_type": "markdown",
   "metadata": {},
   "source": [
    "## Import packages\n",
    "\n",
    "To streamline operations in Python, packages can be imported to perform a host of various tasks. To make this process as simple as possible, all the required packages are included in the file _[SSP.py](https://github.com/Andy-UTAS/Solid-state/blob/master/SSP.py)_ and thus we can import all of the content: "
   ]
  },
  {
   "cell_type": "code",
   "execution_count": null,
   "metadata": {},
   "outputs": [],
   "source": [
    "from SSP import *"
   ]
  },
  {
   "cell_type": "code",
   "execution_count": null,
   "metadata": {},
   "outputs": [],
   "source": [
    "# Use colors from the default color cycle\n",
    "default_colors = plt.rcParams['axes.prop_cycle'].by_key()['color']\n",
    "blue, orange, *_ = default_colors\n",
    "\n",
    "def energy(k, V=1):\n",
    "    k = (k + np.pi) % (2*np.pi) - np.pi\n",
    "    k_vals = k + 2*np.pi * np.arange(-1, 2)\n",
    "    h = np.diag(k_vals**2) + V * (1 - np.identity(3))\n",
    "    return np.linalg.eigvalsh(h)\n",
    "\n",
    "energy = np.vectorize(energy, signature=\"(),()->(m)\")\n",
    "\n",
    "fig, ax = plt.subplots(1, 1)\n",
    "\n",
    "momenta = np.linspace(-3*np.pi, 3*np.pi, 400)\n",
    "energies = energy(momenta, 0)\n",
    "max_en = 60\n",
    "energies[energies > max_en] = np.nan\n",
    "ax.plot(momenta, energies, c=blue)\n",
    "energies = energy(momenta, 3)\n",
    "max_en = 60\n",
    "energies[energies > max_en] = np.nan\n",
    "ax.plot(momenta, energies, c=orange)\n",
    "\n",
    "ax.set_xlabel(\"$ka$\")\n",
    "ax.set_ylabel(\"$E$\")\n",
    "ax.set_ylim(-.5, max_en + 5)\n",
    "ax.set_xticks(np.pi * np.arange(-3, 4))\n",
    "ax.set_xticklabels(fr\"${i}\\pi$\".replace(\"1\", \"\") if i else \"$0$\" for i in range(-3, 4))\n",
    "\n",
    "draw_classic_axes(ax, xlabeloffset=4)\n",
    "\n",
    "if True:\n",
    "    plt.savefig('5-1-nearlyfree.svg', facecolor='white', transparent=False, bbox_inches='tight')\n",
    "    \n",
    "plt.show()"
   ]
  },
  {
   "cell_type": "code",
   "execution_count": null,
   "metadata": {},
   "outputs": [],
   "source": [
    "fig, ax = plt.subplots(1, 1)\n",
    "\n",
    "momenta = np.linspace(-np.pi, np.pi, 400)\n",
    "energies = energy(momenta, 0)\n",
    "max_en = 60\n",
    "energies[energies > max_en] = np.nan\n",
    "ax.plot(momenta, energies, c=blue)\n",
    "energies = energy(momenta, 3)\n",
    "max_en = 60\n",
    "energies[energies > max_en] = np.nan\n",
    "ax.plot(momenta, energies, c=orange)\n",
    "\n",
    "ax.set_xlabel(\"$ka$\")\n",
    "ax.set_ylabel(\"$E$\")\n",
    "ax.set_ylim(-.5, max_en + 5)\n",
    "ax.set_xticks(np.pi * np.arange(-1, 2))\n",
    "ax.set_xticklabels(r\"$-\\pi$ $0$ $\\pi$\".split())\n",
    "\n",
    "draw_classic_axes(ax, xlabeloffset=4)\n",
    "\n",
    "if True:\n",
    "    plt.savefig('5-1-reduced.svg', facecolor='white', transparent=False, bbox_inches='tight')\n",
    "    \n",
    "plt.show()"
   ]
  },
  {
   "cell_type": "code",
   "execution_count": null,
   "metadata": {},
   "outputs": [],
   "source": [
    "fig, ax = plt.subplots(1, 1)\n",
    "\n",
    "momenta = np.linspace(-3*np.pi, 3*np.pi, 400)\n",
    "energies = energy(momenta, 0)\n",
    "max_en = 60\n",
    "energies[energies > max_en] = np.nan\n",
    "energies[~((abs(momenta) // np.pi).reshape(-1, 1) == np.arange(3).reshape(1, -1))] = np.nan\n",
    "ax.plot(momenta, energies, c=blue)\n",
    "energies = energy(momenta, 3)\n",
    "max_en = 60\n",
    "energies[energies > max_en] = np.nan\n",
    "energies[~((abs(momenta) // np.pi).reshape(-1, 1) == np.arange(3).reshape(1, -1))] = np.nan\n",
    "ax.plot(momenta, energies, c=orange)\n",
    "\n",
    "ax.set_xlabel(\"$ka$\")\n",
    "ax.set_ylabel(\"$E$\")\n",
    "ax.set_ylim(-.5, max_en + 5)\n",
    "ax.set_xticks(np.pi * np.arange(-3, 4))\n",
    "ax.set_xticklabels(fr\"${i}\\pi$\".replace(\"1\", \"\") if i else \"$0$\" for i in range(-3, 4))\n",
    "\n",
    "draw_classic_axes(ax, xlabeloffset=4)\n",
    "\n",
    "if True:\n",
    "    plt.savefig('5-1-extended.svg', facecolor='white', transparent=False, bbox_inches='tight')\n",
    "    \n",
    "plt.show()"
   ]
  }
 ],
 "metadata": {
  "kernelspec": {
   "display_name": "Python 3",
   "language": "python",
   "name": "python3"
  },
  "language_info": {
   "codemirror_mode": {
    "name": "ipython",
    "version": 3
   },
   "file_extension": ".py",
   "mimetype": "text/x-python",
   "name": "python",
   "nbconvert_exporter": "python",
   "pygments_lexer": "ipython3",
   "version": "3.8.5"
  }
 },
 "nbformat": 4,
 "nbformat_minor": 4
}
