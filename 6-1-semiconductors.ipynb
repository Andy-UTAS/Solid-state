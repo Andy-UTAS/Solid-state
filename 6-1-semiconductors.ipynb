{
 "cells": [
  {
   "cell_type": "markdown",
   "metadata": {},
   "source": [
    "# Semiconductors\n",
    "\n",
    "This notebook is to accompany the _Semiconductor physics_ content.\n",
    "\n",
    "Version 0.1, updated 03/10/2021 by AJM"
   ]
  },
  {
   "cell_type": "markdown",
   "metadata": {},
   "source": [
    "## Import packages\n",
    "\n",
    "To streamline operations in Python, packages can be imported to perform a host of various tasks. To make this process as simple as possible, all the required packages are included in the file _[SSP.py](https://github.com/Andy-UTAS/Solid-state/blob/master/SSP.py)_ and thus we can import all of the content: "
   ]
  },
  {
   "cell_type": "code",
   "execution_count": null,
   "metadata": {},
   "outputs": [],
   "source": [
    "from SSP import *"
   ]
  },
  {
   "cell_type": "code",
   "execution_count": null,
   "metadata": {},
   "outputs": [],
   "source": [
    "def sqrt_plus(x):\n",
    "    return np.sqrt(x * (x >= 0))\n",
    "\n",
    "# Band structure parameters.\n",
    "E_V, E_C, E_F = -1.2, 1.8, .4\n",
    "E_D, E_A = E_C - .7, E_V + .5\n",
    "m_h, m_e = 1, .5"
   ]
  },
  {
   "cell_type": "code",
   "execution_count": null,
   "metadata": {},
   "outputs": [],
   "source": [
    "E_C_1, E_V_1 = 1, -.5\n",
    "\n",
    "k = np.linspace(-1, 1)\n",
    "ax = plt.subplot(1, 1, 1)\n",
    "lines = plt.plot(k, E_C_1 + k**2/(2*.1), 'C0', k, E_V_1 - k**2/(2*m_h), 'C1')\n",
    "plt.xlabel('$k$')\n",
    "plt.ylabel('$E$')\n",
    "plt.ylim(-1.5, 3)\n",
    "plt.yticks([E_C_1 - .15, E_V_1 +.15], \"$E_C$ $E_V$\".split())\n",
    "plt.legend(lines, ['Conduction band', 'Valence band'])\n",
    "\n",
    "draw_classic_axes(ax)\n",
    "\n",
    "if True:\n",
    "    plt.savefig('6-1-bands.svg', facecolor='white', transparent=False, bbox_inches='tight')\n",
    "\n",
    "plt.show()"
   ]
  },
  {
   "cell_type": "code",
   "execution_count": null,
   "metadata": {},
   "outputs": [],
   "source": [
    "E = np.linspace(-3, 3, 1000)\n",
    "fig, ax = plt.subplots()\n",
    "\n",
    "n_F = 1/(np.exp(2*(E - E_F)) + 1)\n",
    "g_e = m_e * sqrt_plus(E - E_C)\n",
    "g_h = m_h * sqrt_plus(E_V - E)\n",
    "ax.plot(E, g_e, label=\"$g_e$\", c='C0')\n",
    "ax.plot(E, g_h, label=\"$g_h$\", c='C1')\n",
    "ax.fill_between(E, 10 * g_e * n_F, 0, alpha=.7, label=\"$n_e$\", color='C0')\n",
    "ax.fill_between(E, 10 * g_h * (1-n_F), 0, alpha=.7, label=\"$n_h$\", color='C1')\n",
    "ax.plot(E, n_F, label=\"$n_F$\", linestyle='dashed', c='k')\n",
    "ax.set_ylim(top=1.5)\n",
    "\n",
    "ax.set_xlabel('$E$')\n",
    "ax.set_ylabel('$g$')\n",
    "ax.set_xticks([E_V, E_C, E_F])\n",
    "ax.set_xticklabels(['$E_V$', '$E_C$', '$E_F$'])\n",
    "ax.legend()\n",
    "draw_classic_axes(ax, xlabeloffset=.2)\n",
    "\n",
    "if True:\n",
    "    plt.savefig('6-1-density.svg', facecolor='white', transparent=False, bbox_inches='tight')\n",
    "\n",
    "plt.show()"
   ]
  }
 ],
 "metadata": {
  "kernelspec": {
   "display_name": "Python 3",
   "language": "python",
   "name": "python3"
  },
  "language_info": {
   "codemirror_mode": {
    "name": "ipython",
    "version": 3
   },
   "file_extension": ".py",
   "mimetype": "text/x-python",
   "name": "python",
   "nbconvert_exporter": "python",
   "pygments_lexer": "ipython3",
   "version": "3.8.5"
  }
 },
 "nbformat": 4,
 "nbformat_minor": 4
}
