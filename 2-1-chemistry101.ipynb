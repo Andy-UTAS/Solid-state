{
 "cells": [
  {
   "cell_type": "markdown",
   "metadata": {},
   "source": [
    "# Chemistry 101\n",
    "\n",
    "This notebook is to accompany the _Chemistry 101_ content.\n",
    "\n",
    "Version 1.0, updated 22/08/2021 by AJM"
   ]
  },
  {
   "cell_type": "markdown",
   "metadata": {},
   "source": [
    "## Import packages\n",
    "\n",
    "To streamline operations in Python, packages can be imported to perform a host of various tasks. To make this process as simple as possible, all the required packages are included in the file _[SSP.py](https://github.com/Andy-UTAS/Solid-state/blob/master/SSP.py)_ and thus we can import all of the content: "
   ]
  },
  {
   "cell_type": "code",
   "execution_count": null,
   "metadata": {},
   "outputs": [],
   "source": [
    "from SSP import *"
   ]
  },
  {
   "cell_type": "markdown",
   "metadata": {},
   "source": [
    "# Particle in a box"
   ]
  },
  {
   "cell_type": "code",
   "execution_count": null,
   "metadata": {},
   "outputs": [],
   "source": [
    "def wavefunction(x, x_c, L, n=1):\n",
    "    if abs(x - x_c) <= L/2 :\n",
    "        k = n * np.pi / L\n",
    "        A = np.sqrt(2/L)\n",
    "        w = A * np.sin(k * (x - x_c + L/2))\n",
    "    else:\n",
    "        w = 0\n",
    "    \n",
    "    w = w ** 2\n",
    "    w += (n/L)**2\n",
    "    \n",
    "    return w\n",
    "\n",
    "def squarewell(x, x_c, L):\n",
    "    return -((1 - np.heaviside(x - x_c - L/2, 1/2)) + (np.heaviside(x - x_c + L/2, 1/2)))\n",
    "    \n",
    "\n",
    "separation = 4\n",
    "scale = 1\n",
    "pos = np.linspace(-scale * separation, scale * separation, 500)\n",
    "pr = [wavefunction(p, -separation/2, 1) + wavefunction(p, separation/2, 1) - 1 for p in pos]\n",
    "pot = [squarewell(p, -separation/2, 1) + squarewell(p, separation/2, 1) for p in pos]\n",
    "pot = (pot-min(pot)) * 1.25 * max(pr)\n",
    "\n",
    "y_max = 1.1 * max(pot)\n",
    "\n",
    "fig, ax = plt.subplots()\n",
    "ax.plot(pos, pr, label='$|\\psi|^2$')\n",
    "ax.plot(pos, pot, label='Potential')\n",
    "ax.set_xlabel('Position')\n",
    "ax.set_ylabel('Energy')\n",
    "# ax.set_ylim((0, y_max))\n",
    "ax.legend()\n",
    "\n",
    "draw_classic_axes(ax)\n",
    "# plt.savefig('05_twoboxes.svg', facecolor='white', transparent=False)\n",
    "\n",
    "plt.show()"
   ]
  },
  {
   "cell_type": "markdown",
   "metadata": {},
   "source": [
    "### Bonded states"
   ]
  },
  {
   "cell_type": "code",
   "execution_count": null,
   "metadata": {},
   "outputs": [],
   "source": [
    "Joined_well_L = 1.45\n",
    "\n",
    "# Bonding state\n",
    "\n",
    "pr_ = [wavefunction(p, 0, Joined_well_L) for p in pos]\n",
    "pot_ = [squarewell(p, 0, Joined_well_L) for p in pos]\n",
    "pot_ = (pot_-min(pot_)) * 1.25 * max(pr)\n",
    "\n",
    "fig, ax = plt.subplots()\n",
    "ax.plot(pos, pr_, label='$|\\psi|^2$')\n",
    "ax.plot(pos, pot_, label='Potential')\n",
    "ax.set_xlabel('Position')\n",
    "ax.set_ylabel('Energy')\n",
    "ax.set_ylim((0, y_max))\n",
    "ax.legend()\n",
    "\n",
    "draw_classic_axes(ax)\n",
    "plt.savefig('05_oneboxe.svg', facecolor='white', transparent=False)\n",
    "\n",
    "plt.show()\n",
    "\n",
    "# Anti-bonding state\n",
    "\n",
    "pr_a = [wavefunction(p, 0, Joined_well_L, 2) for p in pos]\n",
    "\n",
    "fig, ax = plt.subplots()\n",
    "ax.plot(pos, pr_a, label='$|\\psi|^2$')\n",
    "ax.plot(pos, pot_, label='Potential')\n",
    "ax.set_xlabel('Position')\n",
    "ax.set_ylabel('Energy')\n",
    "ax.set_ylim((0, y_max))\n",
    "ax.legend()\n",
    "\n",
    "draw_classic_axes(ax)\n",
    "# plt.savefig('05_onebox_anti.svg', facecolor='white', transparent=False)\n",
    "\n",
    "plt.show()"
   ]
  },
  {
   "cell_type": "markdown",
   "metadata": {},
   "source": [
    "## Covalanet bond party"
   ]
  },
  {
   "cell_type": "code",
   "execution_count": null,
   "metadata": {},
   "outputs": [],
   "source": [
    "fig, ax = plt.subplots()\n",
    "ax.plot(pos, pr, label='Individual')\n",
    "ax.plot(pos, pr_, label='$Bonding$', color ='C1')\n",
    "ax.plot(pos, pr_a, label='Anti-bonding', linestyle = '--', color ='C1', )\n",
    "ax.set_xlabel('Position')\n",
    "ax.set_ylabel('Energy')\n",
    "ax.set_ylim((0, y_max))\n",
    "ax.legend()\n",
    "\n",
    "draw_classic_axes(ax)\n",
    "# plt.savefig('05_allbox.svg', facecolor='white', transparent=False)\n",
    "\n",
    "plt.show()"
   ]
  },
  {
   "cell_type": "markdown",
   "metadata": {},
   "source": [
    "## Bonding/antiboding energy versus separation "
   ]
  },
  {
   "cell_type": "code",
   "execution_count": null,
   "metadata": {},
   "outputs": [],
   "source": [
    "def hopping(x):\n",
    "    return 1/x\n",
    "\n",
    "deltax = np.linspace(0, 1, 500)[1:] # drop element 0 because 1/0 is not great\n",
    "\n",
    "E_0 = 2\n",
    "yr = 6\n",
    "\n",
    "E_minus = E_0 + hopping(deltax)\n",
    "E_plus = E_0 - hopping(deltax)\n",
    "\n",
    "fig, ax = plt.subplots()\n",
    "ax.hlines(E_0,0,1, label = '$E_0$', linestyle = '--', color = 'C0')\n",
    "ax.plot(deltax, E_minus, label='$E_-$', color = 'C1')\n",
    "ax.plot(deltax, E_plus, label='$E_+$', color = 'C2')\n",
    "ax.set_xlabel('$\\Delta x$')\n",
    "ax.set_ylabel('Energy')\n",
    "ax.set_ylim((E_0 - yr, E_0 + yr))\n",
    "ax.legend()\n",
    "\n",
    "draw_classic_axes(ax)\n",
    "# plt.savefig('05_separation.svg', facecolor='white', transparent=False)\n",
    "\n",
    "plt.show()"
   ]
  }
 ],
 "metadata": {
  "kernelspec": {
   "display_name": "Python 3",
   "language": "python",
   "name": "python3"
  },
  "language_info": {
   "codemirror_mode": {
    "name": "ipython",
    "version": 3
   },
   "file_extension": ".py",
   "mimetype": "text/x-python",
   "name": "python",
   "nbconvert_exporter": "python",
   "pygments_lexer": "ipython3",
   "version": "3.8.5"
  }
 },
 "nbformat": 4,
 "nbformat_minor": 4
}
