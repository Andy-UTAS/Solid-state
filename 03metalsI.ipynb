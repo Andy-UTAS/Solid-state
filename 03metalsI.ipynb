{
 "cells": [
  {
   "cell_type": "markdown",
   "metadata": {},
   "source": [
    "# Electons in metal I: Drude theory\n",
    "\n",
    "This notebook is to accompany the _Electrons in metal I_ content.\n",
    "\n",
    "Version 1.0, updated 19/08/2021 by AJM"
   ]
  },
  {
   "cell_type": "markdown",
   "metadata": {},
   "source": [
    "## Import packages\n",
    "\n",
    "To streamline operations in Python, packages can be imported to perform a host of various tasks. To make this process as simple as possible, all the required packages are included in the file _[SSP.py](https://github.com/Andy-UTAS/Solid-state/blob/master/SSP.py)_ and thus we can import all of the content: "
   ]
  },
  {
   "cell_type": "code",
   "execution_count": null,
   "metadata": {},
   "outputs": [],
   "source": [
    "from SSP import *"
   ]
  },
  {
   "cell_type": "markdown",
   "metadata": {},
   "source": [
    "# Plot scattering of electrons in external field"
   ]
  },
  {
   "cell_type": "code",
   "execution_count": null,
   "metadata": {},
   "outputs": [],
   "source": [
    "# Use colors from the default color cycle\n",
    "default_colors = plt.rcParams['axes.prop_cycle'].by_key()['color']\n",
    "blue, red = default_colors[0], default_colors[3]\n",
    "\n",
    "walkers = 10 # number of particles\n",
    "tau = 1 # relaxation time\n",
    "gamma = .3 # dissipation strength\n",
    "a = 1 # acceleration\n",
    "dt = .05 # infinitesimal\n",
    "T = 25 # simulation time\n",
    "\n",
    "v = np.zeros((2, int(T // dt), walkers), dtype=float) #\n",
    "\n",
    "# Select random time steps and scattering angles\n",
    "np.random.seed(1)\n",
    "scattering_events = np.random.binomial(1, dt/tau, size=v.shape[1:])\n",
    "angles = np.random.uniform(high=2*np.pi, size=scattering_events.shape) * scattering_events\n",
    "rotations = np.array(\n",
    "    [[np.cos(angles), np.sin(angles)],\n",
    "     [-np.sin(angles), np.cos(angles)]]\n",
    ")\n",
    "\n",
    "for step in range(1, v.shape[1]):\n",
    "    v[:, step] = v[:, step-1]\n",
    "    v[0, step] += a * dt\n",
    "    v[:, step] = np.einsum(\n",
    "        'ijk,jk->ik',\n",
    "        rotations[:, :, step-1, :],\n",
    "        v[:, step, :]\n",
    "    ) * (1 - gamma * scattering_events[step-1])\n",
    "\n",
    "r = np.cumsum(v * dt, axis=1)\n",
    "\n",
    "scattering_positions = np.copy(r)\n",
    "scattering_positions[:, ~scattering_events.astype(bool)] = np.nan\n",
    "\n",
    "scatter_pts = scattering_positions\n",
    "\n",
    "r_min = np.min(r.reshape(2, -1), axis=1) - 1\n",
    "r_max = np.max(r.reshape(2, -1), axis=1) + 1\n",
    "\n",
    "fig = plt.figure(figsize=(9, 6))\n",
    "ax = fig.add_subplot(1, 1, 1)\n",
    "ax.axis(\"off\")\n",
    "ax.set(xlim=(r_min[0], r_max[0]), ylim=(r_min[1], r_max[1]))\n",
    "\n",
    "trajectories = ax.plot([],[], lw=1, color=blue, alpha=0.5)[0]\n",
    "scatterers = ax.scatter([], [], s=20, c=red)\n",
    "\n",
    "def frame(i):\n",
    "    concatenated_lines = np.concatenate(\n",
    "        (r[:, :i], np.nan * np.ones((2, 1, walkers))),\n",
    "        axis=1\n",
    "    ).transpose(0, 2, 1).reshape(2, -1)\n",
    "    trajectories.set_data(*concatenated_lines)\n",
    "    scatterers.set_offsets(scatter_pts[:, :i].reshape(2, -1).T)\n",
    "\n",
    "anim = animation.FuncAnimation(fig, frame, frames = len(v[0]), interval= 1/60 * 1000)\n",
    "\n",
    "plt.close()\n",
    "\n",
    "# with open(\"03_scattering.html\", \"w\") as f:\n",
    "#     print(anim.to_html5_video(), file=f)\n",
    "    \n",
    "HTML(anim.to_html5_video())"
   ]
  }
 ],
 "metadata": {
  "kernelspec": {
   "display_name": "Python 3",
   "language": "python",
   "name": "python3"
  },
  "language_info": {
   "codemirror_mode": {
    "name": "ipython",
    "version": 3
   },
   "file_extension": ".py",
   "mimetype": "text/x-python",
   "name": "python",
   "nbconvert_exporter": "python",
   "pygments_lexer": "ipython3",
   "version": "3.8.5"
  }
 },
 "nbformat": 4,
 "nbformat_minor": 4
}
