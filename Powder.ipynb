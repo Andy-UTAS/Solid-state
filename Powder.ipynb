{
 "cells": [
  {
   "cell_type": "markdown",
   "metadata": {},
   "source": [
    "# Power diffraction action"
   ]
  },
  {
   "cell_type": "code",
   "execution_count": null,
   "metadata": {},
   "outputs": [],
   "source": [
    "from SSP import *"
   ]
  },
  {
   "cell_type": "code",
   "execution_count": null,
   "metadata": {},
   "outputs": [],
   "source": [
    "# Import the data, noting the very nonstandard .x_y file format, which requires read engine specification\n",
    "data = pd.read_csv('neutronscatter.x_y', delim_whitespace=True, engine = 'python', names=['Angle', 'Intensity'])\n",
    "data['Intensity'] = data['Intensity']/data['Intensity'].max() # Normalise the intensity\n",
    "\n",
    "# Plot the data\n",
    "\n",
    "fig, ax = plt.subplots()\n",
    "\n",
    "ax.plot(data['Angle'], data['Intensity'], label = r'$mv^2/\\beta$: 7.47 keV', color = 'C0')\n",
    "ax.set_xlabel(r'Angle [2$\\theta$]')\n",
    "ax.set_ylabel('Intensity [arb]')\n",
    "ax.set_title('X-ray scattering of unknown material');\n",
    "plt.legend()\n",
    "\n",
    "ax.set_xlim((19,82))\n",
    "\n",
    "loc = matplotlib.ticker.MultipleLocator(1)\n",
    "ax.xaxis.set_minor_locator(loc)\n",
    "ax.tick_params(which='minor')\n",
    "\n",
    "ax.set_aspect(30) # if adjusting the aspect ratio, make sure to use bbox_inches='tight' when saving!\n",
    "\n",
    "if False:\n",
    "    plt.savefig('neutronscatter.pdf', facecolor='white', transparent=False, bbox_inches='tight')\n",
    "\n",
    "plt.show()"
   ]
  },
  {
   "cell_type": "code",
   "execution_count": null,
   "metadata": {},
   "outputs": [],
   "source": [
    "# Find the peaks\n",
    "peaks, _ = find_peaks(data['Intensity'], prominence = 0.01)\n",
    "\n",
    "# Plot the data with peaks\n",
    "\n",
    "fig, ax = plt.subplots()\n",
    "\n",
    "ax.plot(data['Angle'], data['Intensity'], label = r'$mv^2/\\beta$: 7.47 keV', color = 'C0')\n",
    "ax.plot(data['Angle'][peaks], data['Intensity'][peaks], \"x\", color = 'C1', label = 'Peaks')\n",
    "ax.set_xlabel(r'Angle [2$\\theta$]')\n",
    "ax.set_xlim((19,82))\n",
    "ax.set_ylabel('Intensity [arb]')\n",
    "ax.set_title('X-ray scattering of unknown material');\n",
    "plt.legend()\n",
    "\n",
    "plt.show()"
   ]
  },
  {
   "cell_type": "code",
   "execution_count": null,
   "metadata": {},
   "outputs": [],
   "source": [
    "analysis = pd.DataFrame() # Make a dataframe for the results\n",
    "\n",
    "analysis['2theta'] = data['Angle'][peaks] # Add the diffraction angles\n",
    "analysis.reset_index(drop = True, inplace = True) # Clean the index - just to make things pretty\n",
    "analysis.index += 1 # Make index the peak number\n",
    "\n",
    "momenergy = 7477.72 # momenergy - mv^2/\\beta of neutrons [eV]\n",
    "\n",
    "wl = const.h * const.c / (momenergy * e) # Convert energy to wavelength [m]\n",
    "analysis['d'] = wl / (2 * np.sin(np.deg2rad(analysis['2theta']/2))) # Calculate the plane spacing from Bragg condition [m]\n",
    "d_a = analysis['d'].iloc[0] # First diffraction peak (d_a)\n",
    "analysis['ratio'] = (d_a/analysis['d']) ** 2 # Ratio of angles of first peak to subsequent peaks\n",
    "analysis"
   ]
  },
  {
   "cell_type": "code",
   "execution_count": null,
   "metadata": {},
   "outputs": [],
   "source": [
    "# Look for Miller indices\n",
    "\n",
    "guess = 8\n",
    "analysis['N guess'] = (guess * analysis['ratio'])\n",
    "analysis['N int'] = analysis['N guess'].round(0).astype(int)\n",
    "analysis['N error'] = 100 * (analysis['N guess'] - analysis['N int'])/analysis['N guess']\n",
    "analysis"
   ]
  }
 ],
 "metadata": {
  "kernelspec": {
   "display_name": "Python 3",
   "language": "python",
   "name": "python3"
  },
  "language_info": {
   "codemirror_mode": {
    "name": "ipython",
    "version": 3
   },
   "file_extension": ".py",
   "mimetype": "text/x-python",
   "name": "python",
   "nbconvert_exporter": "python",
   "pygments_lexer": "ipython3",
   "version": "3.8.5"
  }
 },
 "nbformat": 4,
 "nbformat_minor": 4
}
