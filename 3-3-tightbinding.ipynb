{
 "cells": [
  {
   "cell_type": "markdown",
   "metadata": {},
   "source": [
    "# Electrons in one-dimensional solids \n",
    "\n",
    "This notebook is to accompany the _The tight binding model_ content.\n",
    "\n",
    "Version 1.0, updated 03/09/2021 by AJM"
   ]
  },
  {
   "cell_type": "markdown",
   "metadata": {},
   "source": [
    "## Import packages\n",
    "\n",
    "To streamline operations in Python, packages can be imported to perform a host of various tasks. To make this process as simple as possible, all the required packages are included in the file _[SSP.py](https://github.com/Andy-UTAS/Solid-state/blob/master/SSP.py)_ and thus we can import all of the content: "
   ]
  },
  {
   "cell_type": "code",
   "execution_count": null,
   "metadata": {},
   "outputs": [],
   "source": [
    "from SSP import *"
   ]
  },
  {
   "cell_type": "markdown",
   "metadata": {},
   "source": [
    "## Computation: solving for eigenvalues"
   ]
  },
  {
   "cell_type": "code",
   "execution_count": null,
   "metadata": {},
   "outputs": [],
   "source": [
    "# Define a function which returns the eigenvalues for a system on n atoms\n",
    "\n",
    "def DOS_finite_electron_chain(n, epsilon = 2, t = 1, plot = False, save = False):\n",
    "    \n",
    "    \"\"\"\n",
    "    Solve for the eignvalues of an n-atom molecule\n",
    "\n",
    "    Input:\n",
    "    ------\n",
    "    n: number of atoms\n",
    "    epsilon: energy\n",
    "    t: hopping\n",
    "    plot: True returns plot, False returns eigenvalues\n",
    "    save: True saves the plot\n",
    "\n",
    "    Returns:\n",
    "    --------\n",
    "    plot = False returns the eigenvalues\n",
    "\n",
    "    \"\"\"\n",
    "    \n",
    "    rhs = epsilon * np.eye(n, k = 0) - t * (np.eye(n, k = 1) + np.eye(n, k = -1)) # Construct the matrix\n",
    "    \n",
    "    evals = np.linalg.eigvalsh(rhs) # Calculate the eigenvalues\n",
    "    \n",
    "    if plot:\n",
    "        plt.figure()\n",
    "        plt.hist(evals, bins=30)\n",
    "        plt.xlabel(\"$E$\")\n",
    "        plt.ylabel(\"Number of eigenenergies\")\n",
    "        if save:\n",
    "            label = f'3-3-DOS-e{epsilon}t{t}'\n",
    "            plt.savefig(f'3-3-DOS-{n}.svg', facecolor='white', transparent=False, bbox_inches='tight')\n",
    "    elif plot == False:\n",
    "        return evals"
   ]
  },
  {
   "cell_type": "code",
   "execution_count": null,
   "metadata": {},
   "outputs": [],
   "source": [
    "# Find the eignevalues for a triatomic system with the default values of epsilon and t\n",
    "for i in DOS_finite_electron_chain(3):\n",
    "    print(f'{i:.2f}')"
   ]
  },
  {
   "cell_type": "code",
   "execution_count": null,
   "metadata": {},
   "outputs": [],
   "source": [
    "# Plot the density of states for a range of n values\n",
    "for n in [1,10,100,1000]:\n",
    "    DOS_finite_electron_chain(n, plot = True)"
   ]
  },
  {
   "cell_type": "markdown",
   "metadata": {},
   "source": [
    "## Chain potential"
   ]
  },
  {
   "cell_type": "code",
   "execution_count": null,
   "metadata": {},
   "outputs": [],
   "source": [
    "x = np.linspace(-1, 5, 200)\n",
    "\n",
    "fig, ax = plt.subplots(1, 1)\n",
    "ax.plot(x, 1.2-1/np.abs(np.sin(np.pi * x))**(1/2))\n",
    "ax.set_xlabel(\"$x$\")\n",
    "ax.set_ylabel(\"$V(x)$\")\n",
    "ax.set_xticks([-.1, 1, 2, 3, 4])\n",
    "ax.set_xticklabels([\"$0$\", \"$a$\", \"$2a$\", \"$3a$\", \"$4a$\"])\n",
    "ax.set_xlim(-.35, 4.35)\n",
    "ax.set_ylim(-.6, .4)\n",
    "ax.set_aspect(1.5) # if adjusting the aspect ratio, make sure to use bbox_inches='tight' when saving!\n",
    "\n",
    "draw_classic_axes(ax)\n",
    "plt.savefig('3-3-potential.svg', facecolor='white', transparent=False, bbox_inches='tight')\n",
    "\n",
    "\n",
    "plt.show()"
   ]
  },
  {
   "cell_type": "markdown",
   "metadata": {},
   "source": [
    "## Single electron dispersion"
   ]
  },
  {
   "cell_type": "code",
   "execution_count": null,
   "metadata": {},
   "outputs": [],
   "source": [
    "a = 1\n",
    "\n",
    "k = np.linspace(-np.pi/a, np.pi/a, 300)\n",
    "\n",
    "fig, ax = plt.subplots(1, 1)\n",
    "\n",
    "plt.plot(k, -np.cos(k*a))\n",
    "plt.xlabel('$k$')\n",
    "plt.ylabel('$E$')\n",
    "plt.xticks([-np.pi, 0, np.pi], [r'$-\\pi/a$', 0, r'$\\pi/a$'])\n",
    "plt.yticks([-1, 0, 1], ['$\\epsilon_0-2t$', '$\\epsilon_0$', '$\\epsilon_0+2t$'])\n",
    "ax.set_title('Electron dispersion')\n",
    "ax.set_aspect(1.75) # if adjusting the aspect ratio, make sure to use bbox_inches='tight' when saving!\n",
    "\n",
    "plt.savefig('3-3-edispersion.svg', facecolor='white', transparent=False, bbox_inches='tight')\n",
    "\n",
    "plt.show()"
   ]
  },
  {
   "cell_type": "markdown",
   "metadata": {},
   "source": [
    "### Band filling: divalent"
   ]
  },
  {
   "cell_type": "code",
   "execution_count": null,
   "metadata": {},
   "outputs": [],
   "source": [
    "a = 1\n",
    "\n",
    "k = np.linspace(-np.pi/a, np.pi/a, 300)\n",
    "k_fill = np.linspace(-np.pi/a, np.pi/a, 300)\n",
    "\n",
    "fig, ax = plt.subplots(1, 1)\n",
    "\n",
    "plt.plot(k, -np.cos(k*a), label = 'Band')\n",
    "plt.plot(k_fill, -np.cos(k_fill*a), linewidth=5, label = 'Filling')\n",
    "plt.xlabel('$k$')\n",
    "plt.ylabel('$E$')\n",
    "plt.xticks([-np.pi, 0, np.pi], [r'$-\\pi/a$', 0, r'$\\pi/a$'])\n",
    "plt.yticks([-1, 0, 1], ['$\\epsilon_0-2t$', '$\\epsilon_0$', '$\\epsilon_0+2t$'])\n",
    "ax.set_title('Band filling for divalent systems')\n",
    "ax.set_aspect(1.75) # if adjusting the aspect ratio, make sure to use bbox_inches='tight' when saving!\n",
    "plt.legend()\n",
    "\n",
    "plt.savefig('3-3-divalentband.svg', facecolor='white', transparent=False, bbox_inches='tight')\n",
    "\n",
    "plt.show()"
   ]
  },
  {
   "cell_type": "markdown",
   "metadata": {},
   "source": [
    "### Band filling: monovalent"
   ]
  },
  {
   "cell_type": "code",
   "execution_count": null,
   "metadata": {},
   "outputs": [],
   "source": [
    "a = 1\n",
    "\n",
    "k = np.linspace(-np.pi/a, np.pi/a, 300)\n",
    "k_fill = np.linspace(-np.pi/2*a, np.pi/2*a, 300)\n",
    "\n",
    "fig, ax = plt.subplots(1, 1)\n",
    "\n",
    "plt.plot(k, -np.cos(k*a), label = 'Band')\n",
    "plt.plot(k_fill, -np.cos(k_fill*a), linewidth=5, label = 'Filling')\n",
    "plt.xlabel('$k$')\n",
    "plt.ylabel('$E$')\n",
    "plt.xticks([-np.pi, 0, np.pi], [r'$-\\pi/a$', 0, r'$\\pi/a$'])\n",
    "plt.yticks([-1, 0, 1], ['$\\epsilon_0-2t$', '$\\epsilon_0$', '$\\epsilon_0+2t$'])\n",
    "ax.set_title('Band filling for monovalent systems')\n",
    "ax.set_aspect(1.75) # if adjusting the aspect ratio, make sure to use bbox_inches='tight' when saving!\n",
    "plt.legend()\n",
    "\n",
    "plt.savefig('3-3-monovalentband.svg', facecolor='white', transparent=False, bbox_inches='tight')\n",
    "\n",
    "plt.show()"
   ]
  },
  {
   "cell_type": "markdown",
   "metadata": {},
   "source": [
    "### Band filling: monovalent with electric field"
   ]
  },
  {
   "cell_type": "code",
   "execution_count": null,
   "metadata": {},
   "outputs": [],
   "source": [
    "a = 1\n",
    "\n",
    "k = np.linspace(-np.pi/a, np.pi/a, 300)\n",
    "k_fill = np.linspace(-np.pi/2*a, np.pi/2*a, 300) + .25\n",
    "\n",
    "fig, ax = plt.subplots(1, 1)\n",
    "\n",
    "plt.plot(k, -np.cos(k*a), label = 'Band')\n",
    "plt.plot(k_fill, -np.cos(k_fill*a), linewidth=5, label = 'Filling')\n",
    "plt.xlabel('$k$')\n",
    "plt.ylabel('$E$')\n",
    "plt.xticks([-np.pi, 0, np.pi], [r'$-\\pi/a$', 0, r'$\\pi/a$'])\n",
    "plt.yticks([-1, 0, 1], ['$\\epsilon_0-2t$', '$\\epsilon_0$', '$\\epsilon_0+2t$'])\n",
    "ax.set_title('Band filling for monovalent systems')\n",
    "ax.set_aspect(1.75) # if adjusting the aspect ratio, make sure to use bbox_inches='tight' when saving!\n",
    "plt.legend()\n",
    "\n",
    "plt.savefig('3-3-monovalentbandwithE.svg', facecolor='white', transparent=False, bbox_inches='tight')\n",
    "\n",
    "plt.show()"
   ]
  }
 ],
 "metadata": {
  "kernelspec": {
   "display_name": "Python 3",
   "language": "python",
   "name": "python3"
  },
  "language_info": {
   "codemirror_mode": {
    "name": "ipython",
    "version": 3
   },
   "file_extension": ".py",
   "mimetype": "text/x-python",
   "name": "python",
   "nbconvert_exporter": "python",
   "pygments_lexer": "ipython3",
   "version": "3.8.5"
  }
 },
 "nbformat": 4,
 "nbformat_minor": 4
}
