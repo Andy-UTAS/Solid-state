{
 "cells": [
  {
   "cell_type": "markdown",
   "metadata": {},
   "source": [
    "# The specific heat of solids II: The Debye model\n",
    "\n",
    "This notebook is to accompany the _The specific heat of solids II_ content.\n",
    "\n",
    "Version 1.0, updated 17/08/2021 by AJM"
   ]
  },
  {
   "cell_type": "markdown",
   "metadata": {},
   "source": [
    "## Import packages\n",
    "\n",
    "To streamline operations in Python, packages can be imported to perform a host of various tasks. To make this process as simple as possible, all the required packages are included in the file _[SSP.py](https://github.com/Andy-UTAS/Solid-state/blob/master/SSP.py)_ and thus we can import all of the content: "
   ]
  },
  {
   "cell_type": "code",
   "execution_count": null,
   "metadata": {},
   "outputs": [],
   "source": [
    "from SSP import *"
   ]
  },
  {
   "cell_type": "markdown",
   "metadata": {},
   "source": [
    "## Heat capacity of silver and diamond with Einstein model"
   ]
  },
  {
   "cell_type": "code",
   "execution_count": null,
   "metadata": {},
   "outputs": [],
   "source": [
    "T_c = np.array([222.4, 262.4, 283.7, 306.4, 331.3, 358.5, 413.0, 479.2, 520.0, 879.7, 1079.7, 1258.0])\n",
    "c_c = np.array([0.384, 0.578, 0.683, 0.798, 0.928, 1.069, 1.343, 1.656, 1.833, 2.671, 2.720, 2.781])\n",
    "\n",
    "T_cprime = np.array([203.157, 162.867, 120.283, 80.868, 41.319, 12.833])\n",
    "c_cprime = np.array([0.5881, 0.3083, 0.1124, 0.02762, .00313, 0.000115])\n",
    "c_cprime *= 4.1858 * 3/24.945 #24.954 is 3Nk_B\n",
    "\n",
    "T_diamond = np.concatenate((T_cprime, T_c))\n",
    "c_diamond = np.concatenate((c_cprime, c_c))\n",
    "\n",
    "T_ag = np.array([1.35,2.,3.,4.,5.,6.,7.,8.,10.,12.,14.,16.,20.,28.56,36.16,47.09,55.88,65.19,74.56,83.91,103.14,124.2,144.38,166.78,190.17,205.3])\n",
    "c_ag = np.array([0.,0.,0.,0.,0.,0.,0.0719648,0.1075288,0.2100368,0.364008,0.573208,0.866088,1.648496,4.242576,7.07096,10.8784,13.47248,15.60632,17.27992,18.6188,20.33424,21.63128,22.46808,23.05384,23.47224,23.68144])\n",
    "c_ag *= 3/24.945 #24.954 is 3Nk_B\n",
    "\n",
    "# Define a function to calculate the heat capacity\n",
    "def c_einstein(T, w):\n",
    "    \n",
    "    \"\"\"\n",
    "    Calculate the specific heat capacity according to the Einstein model of a solid\n",
    "    \n",
    "    Input:\n",
    "    ---\n",
    "    T: Temperature [K]\n",
    "    w: Einstein frequency \\omega [rad.s^-1]\n",
    "    \n",
    "    Returns:\n",
    "    ---\n",
    "    The heat capacity in units of k_B\n",
    "    \n",
    "    \"\"\"\n",
    "    \n",
    "    x = (hbar * w)/(T * kb) # scale the variable\n",
    "    return 3 * x**2 * np.exp(x) / (np.exp(x) - 1)**2 # compute the heat capacity\n",
    "\n",
    "# The range of temperatures over which the heat capity will be calculated\n",
    "# Note: overflow errors will occur is the x_min value is too small\n",
    "temp = np.linspace(10, 210, 100)\n",
    "\n",
    "fit = curve_fit(c_einstein, T_ag, c_ag, 1e12)\n",
    "w_ag = fit[0][0]\n",
    "\n",
    "fit = curve_fit(c_einstein, T_diamond, c_diamond, 1e12)\n",
    "w_diamond = fit[0][0]\n",
    "\n",
    "fig, ax = plt.subplots()\n",
    "ax.scatter(T_diamond, c_diamond, label='Diamond', color = 'C0')\n",
    "ax.plot(temp, c_einstein(temp, w_diamond), label=f'Einstein model, $\\omega={w_diamond/1e12:.0f}$ THz', color = 'C0')\n",
    "ax.scatter(T_ag, c_ag, label='Silver', color = 'C1')\n",
    "ax.plot(temp, c_einstein(temp, w_ag), label=f'Einstein model, $\\omega={w_ag/1e12:.0f}$ THz', color = 'C1')\n",
    "ax.set_xlabel('$T$ [K]')\n",
    "ax.set_ylabel('$C/k_\\mathrm{B}$')\n",
    "ax.set_ylim((0, 3))\n",
    "ax.set_xlim((0, 210))\n",
    "ax.set_title('Heat capacity of diamond versus silver');\n",
    "ax.legend()\n",
    "\n",
    "plt.savefig('02_heat_capacity_AgC.svg', facecolor='white', transparent=False)\n",
    "\n",
    "plt.show()"
   ]
  },
  {
   "cell_type": "markdown",
   "metadata": {},
   "source": [
    "# Heat capacity of silver at low temperature"
   ]
  },
  {
   "cell_type": "code",
   "execution_count": null,
   "metadata": {},
   "outputs": [],
   "source": [
    "# Import the data from the supplied .csv file\n",
    "data = pd.read_csv('Heat_capacity_Ag.csv')\n",
    "data = data[data['T']<25] # take only the low-temperature data\n",
    "\n",
    "# Define the function to fit (a cubic)\n",
    "def cubic(x, a):\n",
    "    return a * x**3 \n",
    "\n",
    "# The range of temperatures over which the fit will be calculated\n",
    "temp = np.linspace(0, 25, 100)\n",
    "\n",
    "fit = curve_fit(cubic, data['T'], data['C']) # perform the fit\n",
    "a_ag = fit[0][0] # extract the fit parameter\n",
    "\n",
    "# Make the plot\n",
    "fig, ax = plt.subplots()\n",
    "ax.scatter(data['T'], data['C'], label='Silver', color = 'C1')\n",
    "ax.plot(temp, cubic(temp, a_ag), label=f'Cubic fit', color = 'C1')\n",
    "ax.set_xlabel('$T$ [K]')\n",
    "ax.set_ylabel('$C/k_\\mathrm{B}$')\n",
    "ax.set_ylim((0, .3))\n",
    "ax.set_xlim((0, 25))\n",
    "ax.set_title('Heat capacity of silver at low temperature');\n",
    "ax.legend()\n",
    "\n",
    "plt.savefig('02_heat_capacity_cubic.svg', facecolor='white', transparent=False)\n",
    "\n",
    "plt.show()"
   ]
  },
  {
   "cell_type": "markdown",
   "metadata": {},
   "source": [
    "## Heat capacity of Silver using the Debye model"
   ]
  },
  {
   "cell_type": "code",
   "execution_count": null,
   "metadata": {},
   "outputs": [],
   "source": [
    "def integrand(y):\n",
    "    return y**4 * np.exp(y) / (np.exp(y) - 1)**2\n",
    "\n",
    "@np.vectorize\n",
    "def c_debye(T, T_D):\n",
    "    x = T / T_D\n",
    "    return 9 * x**3 * integrate.quad(integrand, 0, 1/x)[0]\n",
    "\n",
    "temp = np.linspace(1, 250, 100)\n",
    "\n",
    "fit = curve_fit(c_debye, T_ag, c_ag, 500)\n",
    "T_D = fit[0][0]\n",
    "w_D = kb * T_D/hbar\n",
    "\n",
    "fig, ax = plt.subplots()\n",
    "ax.scatter(T_ag, c_ag, label='Silver', color = 'C0')\n",
    "ax.plot(temp, c_einstein(temp, w_ag), label=f'Einstein model, $\\omega={w_ag/1e12:.0f}$ THz', color = 'C1')\n",
    "ax.plot(temp, c_debye(temp, T_D), label=f'Debye model, $\\omega_d={w_D/1e12:.0f}$ THz', color = 'C0')\n",
    "ax.set_xlabel('$T$ [K]')\n",
    "ax.set_ylabel('$C/k_\\mathrm{B}$')\n",
    "ax.set_ylim((0, 3))\n",
    "ax.set_xlim((0, 215))\n",
    "ax.set_title('Heat capacity of silver');\n",
    "ax.legend()\n",
    "\n",
    "plt.savefig('02_heat_capacity_Debye.svg', facecolor='white', transparent=False)\n",
    "\n",
    "plt.show()"
   ]
  }
 ],
 "metadata": {
  "kernelspec": {
   "display_name": "Python 3",
   "language": "python",
   "name": "python3"
  },
  "language_info": {
   "codemirror_mode": {
    "name": "ipython",
    "version": 3
   },
   "file_extension": ".py",
   "mimetype": "text/x-python",
   "name": "python",
   "nbconvert_exporter": "python",
   "pygments_lexer": "ipython3",
   "version": "3.8.5"
  }
 },
 "nbformat": 4,
 "nbformat_minor": 4
}
