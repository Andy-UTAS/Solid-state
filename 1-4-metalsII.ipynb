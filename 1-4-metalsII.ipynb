{
 "cells": [
  {
   "cell_type": "markdown",
   "metadata": {},
   "source": [
    "# Electrons in Metals II: The Sommerfeld model\n",
    "\n",
    "This notebook is to accompany the _electons in metal II_ content.\n",
    "\n",
    "Version 1.0, updated 14/08/2021 by AJM"
   ]
  },
  {
   "cell_type": "markdown",
   "metadata": {},
   "source": [
    "## Import packages\n",
    "\n",
    "To streamline operations in Python, packages can be imported to perform a host of various tasks. To make this process as simple as possible, all the required packages are included in the file _[SSP.py](https://github.com/Andy-UTAS/Solid-state/blob/master/SSP.py)_ and thus we can import all of the content: "
   ]
  },
  {
   "cell_type": "code",
   "execution_count": null,
   "metadata": {},
   "outputs": [],
   "source": [
    "from SSP import *"
   ]
  },
  {
   "cell_type": "markdown",
   "metadata": {},
   "source": [
    "## Energy of eigenstates"
   ]
  },
  {
   "cell_type": "code",
   "execution_count": null,
   "metadata": {},
   "outputs": [],
   "source": [
    "kf = 3;\n",
    "extrapol = 1.1;\n",
    "ks = np.arange(-kf, kf+1);\n",
    "kcont = np.linspace(-extrapol*kf, extrapol*kf, 200);\n",
    "\n",
    "Edis = ks**2;\n",
    "Econt = kcont**2;\n",
    "\n",
    "fig = plt.figure(figsize=(10,7));\n",
    "ax = fig.add_subplot(111);\n",
    "ax.plot(kcont, Econt);\n",
    "ax.plot(ks, Edis, 'k.', markersize=10);\n",
    "for i in range(2*kf + 1):\n",
    "    ax.plot([ks[i], ks[i]], [0.0, Edis[i]], 'k:');\n",
    "ax.set_xlim(-3.75, 3.75);\n",
    "ax.set_ylim(0.0, 11);\n",
    "\n",
    "ax.set_xlabel(r\"$k \\: \\left[ \\frac{2 \\pi}{L} \\right]$\");\n",
    "ax.set_ylabel(r\"$\\varepsilon$\");\n",
    "\n",
    "ax.set_xticklabels([\"\"] + ks.tolist() + [\"\"]);\n",
    "ax.set_yticks([]);\n",
    "\n",
    "draw_classic_axes(ax, xlabeloffset = .6);\n",
    "plt.savefig('04_energy.svg', facecolor='white', transparent=False)\n",
    "\n",
    "plt.show()"
   ]
  },
  {
   "cell_type": "markdown",
   "metadata": {},
   "source": [
    "## Reciprical space"
   ]
  },
  {
   "cell_type": "code",
   "execution_count": null,
   "metadata": {},
   "outputs": [],
   "source": [
    "N = 10\n",
    "x = np.linspace(-N//2, N//2, N+1)\n",
    "xx, yy = np.meshgrid(x,x)\n",
    "\n",
    "# Initialzing figure\n",
    "fig = plt.figure(figsize = (10,10));\n",
    "ax = fig.add_subplot(111);\n",
    "\n",
    "# Creating figure\n",
    "bound = N//3\n",
    "ax.scatter(xx[np.sqrt(xx**2+yy**2)<=bound],yy[np.sqrt(xx**2+yy**2)<=bound], color = 'k')\n",
    "ax.scatter(xx[np.sqrt(xx**2+yy**2)>bound],yy[np.sqrt(xx**2+yy**2)>bound], facecolors='none', edgecolors='k')\n",
    "ax.add_patch(plt.Circle((0, 0), bound+0.05, color='k', fill=False))\n",
    "ax.set_xlim([-N//2, N//2])\n",
    "ax.set_ylim([-N//2, N//2])\n",
    "ax.set_xticks([1,2,N//2-0.5]);\n",
    "ax.set_yticks([1,2,N//2-0.5]);\n",
    "ax.set_xticklabels([r'$\\frac{2 \\pi}{L}$',r'$\\frac{4 \\pi}{L}$',r\"$k_x$\"])\n",
    "ax.set_yticklabels([r'$\\frac{2 \\pi}{L}$',r'$\\frac{4 \\pi}{L}$',r\"$k_y$\"])\n",
    "draw_classic_axes(ax, xlabeloffset = .8, ylabeloffset = 0.2);\n",
    "\n",
    "plt.savefig('04_reciprical.svg', facecolor='white', transparent=False)\n",
    "\n",
    "plt.show()"
   ]
  },
  {
   "cell_type": "markdown",
   "metadata": {},
   "source": [
    "## Dispersion relation"
   ]
  },
  {
   "cell_type": "code",
   "execution_count": null,
   "metadata": {},
   "outputs": [],
   "source": [
    "kf = 3.0;\n",
    "extrapol = 4.0/3.0;\n",
    "kfilled = np.linspace(-extrapol*kf, extrapol*kf, 100);\n",
    "kstates = np.linspace(-extrapol*kf, extrapol*kf, 500);\n",
    "\n",
    "Efilled = kfilled**2;\n",
    "Estates = kstates**2;\n",
    "\n",
    "fig = plt.figure();\n",
    "ax = fig.add_subplot(111);\n",
    "\n",
    "# Creating plot\n",
    "trans = 1\n",
    "ax.plot([kf, kf], [0.0, kf*kf], 'k:');\n",
    "ax.plot(kstates, Estates, color = 'lightblue', linestyle = '-',alpha = trans);\n",
    "ax.scatter(kfilled[np.abs(kfilled)<=kf], Efilled[np.abs(kfilled)<=kf], color = 'k', s = 3.3**2, zorder = 10);\n",
    "ax.scatter(kfilled, Efilled, facecolors='none', edgecolors='k', s = 3.3**2, zorder = 10);\n",
    "ax.axhline(kf*kf, linestyle = \"dotted\", color='k');\n",
    "\n",
    "ax.set_xticks([kf]);\n",
    "ax.set_yticks([kf*kf + 0.4]);\n",
    "ax.set_xticklabels([r\"$k_F$\"]);\n",
    "ax.set_yticklabels([r\"$ε_F$\"]);\n",
    "\n",
    "ax.set_xlabel(r\"$k$\");\n",
    "ax.set_ylabel(r\"$ε$\");\n",
    "\n",
    "ax.set_xlim(-kf*extrapol, kf*extrapol)\n",
    "ax.set_ylim(0.0, kf*kf*extrapol);\n",
    "draw_classic_axes(ax, xlabeloffset=.6);\n",
    "\n",
    "plt.savefig('04_dispersion.svg', facecolor='white', transparent=False)\n",
    "\n",
    "plt.show()"
   ]
  },
  {
   "cell_type": "markdown",
   "metadata": {},
   "source": [
    "# Density of states"
   ]
  },
  {
   "cell_type": "code",
   "execution_count": null,
   "metadata": {},
   "outputs": [],
   "source": [
    "E = np.linspace(0.001, 2, 500)\n",
    "fig, ax = plt.subplots()\n",
    "\n",
    "# Plotting the figure\n",
    "ax.plot(E, 1/np.sqrt(E), label = '1D')\n",
    "ax.plot(E, 9*np.ones(len(E)), label = '2D')\n",
    "ax.plot(E, 15*np.sqrt(E), label = '3D')\n",
    "\n",
    "ax.set_ylabel(r\"$g(\\varepsilon)$\")\n",
    "ax.set_xlabel(r\"$\\varepsilon$\")\n",
    "ax.legend()\n",
    "draw_classic_axes(ax, xlabeloffset=.2)\n",
    "\n",
    "plt.savefig('04_density_dims.svg', facecolor='white', transparent=False)\n",
    "\n",
    "plt.show()"
   ]
  },
  {
   "cell_type": "markdown",
   "metadata": {},
   "source": [
    "# Fermi distribution "
   ]
  },
  {
   "cell_type": "code",
   "execution_count": null,
   "metadata": {},
   "outputs": [],
   "source": [
    "fig = plt.figure()\n",
    "ax = fig.add_subplot(1,1,1)\n",
    "xvals = np.linspace(0, 2, 200)\n",
    "mu = .75\n",
    "beta = 20\n",
    "ax.plot(xvals, xvals < mu, ls='dashed', label='$T=0$')\n",
    "ax.plot(xvals, 1/(np.exp(beta * (xvals-mu)) + 1),\n",
    "        ls='solid', label='$T>0$')\n",
    "ax.set_xlabel(r'$\\varepsilon$')\n",
    "ax.set_ylabel(r'$n_{F}(\\varepsilon, T)$')\n",
    "ax.set_yticks([0, 1])\n",
    "ax.set_yticklabels(['$0$', '$1$'])\n",
    "ax.set_xticks([mu])\n",
    "ax.set_xticklabels([r'$\\mu = \\varepsilon_{F}$'])\n",
    "ax.set_ylim(-.1, 1.1)\n",
    "ax.legend()\n",
    "draw_classic_axes(ax)\n",
    "plt.tight_layout()\n",
    "\n",
    "plt.savefig('04_fermi_dirac.svg', facecolor='white', transparent=False)\n",
    "\n",
    "plt.show()"
   ]
  },
  {
   "cell_type": "markdown",
   "metadata": {},
   "source": [
    "# Fermi occupation at finite temperature "
   ]
  },
  {
   "cell_type": "code",
   "execution_count": null,
   "metadata": {},
   "outputs": [],
   "source": [
    "E = np.linspace(0, 2, 500)\n",
    "fig, ax = plt.subplots()\n",
    "ax.plot(E, np.sqrt(E), linestyle='dashed')\n",
    "ax.text(1.7, 1.4, r'$g(ε)\\propto \\sqrt{ε}$', ha='center')\n",
    "ax.fill_between(E, np.sqrt(E) * (E < 1), alpha=.3)\n",
    "\n",
    "n = np.sqrt(E) / (1 + np.exp(20*(E-1)))\n",
    "ax.plot(E, n)\n",
    "ax.fill_between(E, n, alpha=.5)\n",
    "w = .17\n",
    "ax.annotate(text='', xy=(1, 1), xytext=(1-w, 1),\n",
    "            arrowprops=dict(arrowstyle='<->', shrinkA=0, shrinkB=0))\n",
    "ax.text(1-w/2, 1.1, r'$\\sim k_BT$', ha='center')\n",
    "ax.plot([1-w, 1+w], [1, 0], c='k', linestyle='dashed')\n",
    "ax.annotate(text='', xy=(1, 0), xytext=(1, 1),\n",
    "            arrowprops=dict(arrowstyle='<->', shrinkA=0, shrinkB=0))\n",
    "ax.text(1.2, .7, r'$g(ε_F)$', ha='center')\n",
    "ax.set_xticks([1])\n",
    "ax.set_xticklabels([r'$ε_F$'])\n",
    "\n",
    "ax.set_ylabel(r\"$g(ε)$\")\n",
    "ax.set_xlabel(r\"$ε$\")\n",
    "draw_classic_axes(ax, xlabeloffset=.2)\n",
    "\n",
    "plt.savefig('04_occupation.svg', facecolor='white', transparent=False)\n",
    "\n",
    "plt.show()"
   ]
  }
 ],
 "metadata": {
  "kernelspec": {
   "display_name": "Python 3",
   "language": "python",
   "name": "python3"
  },
  "language_info": {
   "codemirror_mode": {
    "name": "ipython",
    "version": 3
   },
   "file_extension": ".py",
   "mimetype": "text/x-python",
   "name": "python",
   "nbconvert_exporter": "python",
   "pygments_lexer": "ipython3",
   "version": "3.8.5"
  }
 },
 "nbformat": 4,
 "nbformat_minor": 4
}
