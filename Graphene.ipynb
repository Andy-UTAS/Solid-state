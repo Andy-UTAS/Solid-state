{
 "cells": [
  {
   "cell_type": "markdown",
   "metadata": {},
   "source": [
    "# Graphene\n",
    "\n",
    "This notebook is to look at the band structure of graphene\n",
    "\n",
    "Version 1.0, updated 15/10/2021 by AJM"
   ]
  },
  {
   "cell_type": "markdown",
   "metadata": {},
   "source": [
    "## Import packages\n",
    "\n",
    "To streamline operations in Python, packages can be imported to perform a host of various tasks. To make this process as simple as possible, all the required packages are included in the file _[SSP.py](https://github.com/Andy-UTAS/Solid-state/blob/master/SSP.py)_ and thus we can import all of the content: "
   ]
  },
  {
   "cell_type": "code",
   "execution_count": null,
   "metadata": {},
   "outputs": [],
   "source": [
    "from SSP import *"
   ]
  },
  {
   "cell_type": "markdown",
   "metadata": {},
   "source": [
    "## Tight binding model\n",
    "\n",
    "### Dispersion sufrace\n",
    "\n",
    "To look at the band strucutre, we need to somehow construct the dispersion relation. This is done using the tight binding model, with the result shown below:"
   ]
  },
  {
   "cell_type": "code",
   "execution_count": null,
   "metadata": {},
   "outputs": [],
   "source": [
    "from matplotlib import cm\n",
    "from mpl_toolkits.mplot3d import Axes3D \n",
    "# Axes3D import has side effects, it enables using projection='3d' in add_subplot\n",
    "\n",
    "a = 1 # unit cell length\n",
    "t = 4 # hopping\n",
    "\n",
    "# Eigenvalues (energies) of tight-binding bands\n",
    "def ep(kx, ky, excited = False):\n",
    "    f = 2 * np.cos(np.sqrt(3) * ky * a) + 4 * np.cos((3/2) * kx *a) * np.cos((np.sqrt(3)/2) * ky *a)\n",
    "    E = - t * np.sqrt(3 + f)\n",
    "    if excited:\n",
    "        E *= -1\n",
    "    return E\n",
    "\n",
    "\"\"\" Make a figure of band strucutre \"\"\"\n",
    "# Set up plot\n",
    "fig = plt.figure()\n",
    "ax = fig.add_subplot(111, projection='3d')\n",
    "\n",
    "# Create x, y points\n",
    "x = y = np.arange(-np.pi/a, np.pi/a, 0.01)\n",
    "X, Y = np.meshgrid(x, y)\n",
    "\n",
    "# Conduction band\n",
    "zs = np.array(ep(np.ravel(X), np.ravel(Y), True))\n",
    "Z = zs.reshape(X.shape)\n",
    "# Valence band\n",
    "zs_ = np.array(ep(np.ravel(X), np.ravel(Y)))\n",
    "Z_ = zs_.reshape(X.shape)\n",
    "\n",
    "# Set up aesthetics\n",
    "ax.view_init(azim=50, elev=25)\n",
    "zmax, zmin = max(zs), min(zs_)\n",
    "ax.set_xlabel(r'$k_x$')\n",
    "ax.set_ylabel(r'$k_y$')\n",
    "ax.set_zlabel(r'$\\epsilon$')\n",
    "\n",
    "# Plot the data\n",
    "surf = ax.plot_surface(X, Y, Z, cmap='plasma', vmin=zmin, vmax=zmax, alpha = .85)\n",
    "ax.plot_surface(X, Y, Z_, cmap='plasma', vmin=zmin, vmax=zmax, alpha = .85)\n",
    "\n",
    "# Include a legend\n",
    "fig.colorbar(surf, shrink=0.5, aspect=5)  \n",
    "\n",
    "# Save the figure\n",
    "if False:\n",
    "    plt.savefig('Graphene-disp.pdf', facecolor='white', transparent=False, bbox_inches='tight')\n",
    "\n",
    "plt.show()"
   ]
  },
  {
   "cell_type": "markdown",
   "metadata": {},
   "source": [
    "### Contour plot\n",
    "\n",
    "A contour plot of the valence band, with the unit cell in reciprocal space"
   ]
  },
  {
   "cell_type": "code",
   "execution_count": null,
   "metadata": {},
   "outputs": [],
   "source": [
    "fig,ax=plt.subplots(1,1)\n",
    "\n",
    "cp = ax.contourf(X, Y, Z_, 15, cmap=cm.coolwarm)\n",
    "fig.colorbar(cp) # Add a colorbar to a plot\n",
    "ax.set_title('Tight binding model dispersion')\n",
    "ax.set_xlabel('$k_x$')\n",
    "ax.set_ylabel('$k_y$')\n",
    "\n",
    "\"\"\" Draw the unit cell \"\"\"\n",
    "# wavevector magnitiude\n",
    "K = (2*np.pi)/(3*np.sqrt(3)*a)\n",
    "\n",
    "# Coordinates of the points of a hexagon with |x| = 2\n",
    "points = np.array([\n",
    "        (0,2),\n",
    "        (-np.sqrt(3),1),\n",
    "        (-np.sqrt(3),-1),\n",
    "        (0,-2),\n",
    "        (np.sqrt(3),-1),\n",
    "        (np.sqrt(3),1),\n",
    "        (0,2)\n",
    "])\n",
    "\n",
    "# Scale the points to get the unit cell in reciprocal space\n",
    "points *= K\n",
    "\n",
    "# uses _patches_ to draw the shape\n",
    "p = matplotlib.patches.Polygon(points, edgecolor = 'black', linewidth=4, fill = False)\n",
    "\n",
    "ax.add_patch(p)\n",
    "\n",
    "# Save the figure\n",
    "if False:\n",
    "    plt.savefig('Graphenecontour.pdf', facecolor='white', transparent=False, bbox_inches='tight')\n",
    "\n",
    "plt.show()"
   ]
  },
  {
   "cell_type": "markdown",
   "metadata": {},
   "source": [
    "## Band filling\n",
    "\n",
    "By setting the ratio of electrons to available states, one can look at how the band fill be filled"
   ]
  },
  {
   "cell_type": "code",
   "execution_count": null,
   "metadata": {},
   "outputs": [],
   "source": [
    "# Set the ratio of electrons to available states\n",
    "fillingfraction = 1 # states to electrons\n",
    "\n",
    "# The ration must be greater than 1\n",
    "if fillingfraction < 1:\n",
    "    fillingfraction = 1\n",
    "\n",
    "try:\n",
    "    maxfilled = np.sort(zs_)[int(len(zs_)/fillingfraction)-1]\n",
    "    for z in Z_:\n",
    "        z[z>round(maxfilled)] = None\n",
    "except ValueError:\n",
    "    # Valence band\n",
    "    zs_ = np.array(ep(np.ravel(X), np.ravel(Y)))\n",
    "    Z_ = zs_.reshape(X.shape)\n",
    "    \n",
    "    maxfilled = np.sort(zs_)[int(len(zs_)/statestoe)-1]\n",
    "    for z in Z_:\n",
    "        z[z>round(maxfilled)] = None\n",
    "\n",
    "fig,ax=plt.subplots(1,1)\n",
    "\n",
    "cp = ax.contourf(X, Y, Z_, 11, cmap='binary')\n",
    "fig.colorbar(cp) # Add a colorbar to a plot\n",
    "\n",
    "path = matplotlib.patches.Path(points)\n",
    "clip = matplotlib.patches.PathPatch(path, transform=ax.transData)\n",
    "for contour in cp.collections:\n",
    "        contour.set_clip_path(clip)\n",
    "     \n",
    "        \n",
    "ax.set_title('Monovalent tight binding system')\n",
    "ax.set_xlabel('$k_x$')\n",
    "ax.set_ylabel('$k_y$')\n",
    "\n",
    "if False:\n",
    "    plt.savefig('Graphene-monovalent.pdf', facecolor='white', transparent=False, bbox_inches='tight')\n",
    "\n",
    "plt.show()"
   ]
  }
 ],
 "metadata": {
  "kernelspec": {
   "display_name": "Python 3",
   "language": "python",
   "name": "python3"
  },
  "language_info": {
   "codemirror_mode": {
    "name": "ipython",
    "version": 3
   },
   "file_extension": ".py",
   "mimetype": "text/x-python",
   "name": "python",
   "nbconvert_exporter": "python",
   "pygments_lexer": "ipython3",
   "version": "3.8.5"
  }
 },
 "nbformat": 4,
 "nbformat_minor": 4
}
