{
 "cells": [
  {
   "cell_type": "markdown",
   "metadata": {},
   "source": [
    "# Scattering\n",
    "\n",
    "This notebook is to accompany the _Scattering_ content.\n",
    "\n",
    "Version 0.1, updated 26/09/2021 by AJM"
   ]
  },
  {
   "cell_type": "markdown",
   "metadata": {},
   "source": [
    "## Import packages\n",
    "\n",
    "To streamline operations in Python, packages can be imported to perform a host of various tasks. To make this process as simple as possible, all the required packages are included in the file _[SSP.py](https://github.com/Andy-UTAS/Solid-state/blob/master/SSP.py)_ and thus we can import all of the content: "
   ]
  },
  {
   "cell_type": "code",
   "execution_count": null,
   "metadata": {},
   "outputs": [],
   "source": [
    "from SSP import *"
   ]
  },
  {
   "cell_type": "code",
   "execution_count": null,
   "metadata": {},
   "outputs": [],
   "source": [
    "import matplotlib.patches as patches\n",
    "import matplotlib.transforms as mtransforms\n",
    "import matplotlib.image as img "
   ]
  },
  {
   "cell_type": "code",
   "execution_count": null,
   "metadata": {},
   "outputs": [],
   "source": [
    "def add_patch(ax, patches, *args,**kwargs):\n",
    "    for i in patches:\n",
    "        ax.add_patch(i,*args,**kwargs)\n",
    "\n",
    "def circle(radius,xy=(0,0),**kwargs):\n",
    "    return patches.Circle(xy,radius=radius, fill=False, edgecolor='r', lw = 2, **kwargs)\n",
    "\n",
    "fig, ax = plt.subplots(figsize=(7,7))\n",
    "\n",
    "transform=mtransforms.Affine2D().skew_deg(0,-25) + ax.transData\n",
    "# Create the screen\n",
    "rect = patches.Rectangle((-0.5,-0.5),1,1, edgecolor = 'k', lw = 2, facecolor = np.array([217, 217, 217])/255,transform = transform)\n",
    "circle_list = [circle(i,transform=transform) for i in np.array([0.001,0.02,0.08,0.15,0.2,0.22,0.25])*2]\n",
    "add_patch(ax,[rect]+circle_list)\n",
    "\n",
    "# Add sample\n",
    "sample_pos = np.array([-0.6,-0.6])\n",
    "ax.add_patch(patches.Circle(sample_pos,radius=0.1,color='k',zorder=10))\n",
    "plt.annotate('Powder Sample',sample_pos+[-0.1,-0.2],fontsize=14)\n",
    "#Reference line\n",
    "ax.plot([sample_pos[0],0],[sample_pos[1],0],color='k',ls='--')\n",
    "\n",
    "#X-Ray Beam\n",
    "d_xray = sample_pos-np.array([-1+0.05,-1+0.05])\n",
    "ax.add_patch(patches.Arrow(-1,-1, *d_xray, width=0.05, color='r'))\n",
    "plt.annotate('X-Ray Beam',(-1,-0.85),fontsize=14,rotation = 45)\n",
    "\n",
    "# Diffracted Beams\n",
    "ax.add_patch(patches.Arrow(*sample_pos, 0.1, 0.8, width=0.05, color='r'))\n",
    "ax.add_patch(patches.Arrow(*sample_pos, 0.8, 0.285, width=0.05, color='r'))\n",
    "\n",
    "#Angle Arcs\n",
    "ellipse_radius = 0.3\n",
    "ax.add_patch(patches.Arc(sample_pos, ellipse_radius, ellipse_radius, 80, theta1=325, theta2=0))\n",
    "plt.annotate('$ 2\\\\theta $',(-0.56,-0.44),fontsize=14)\n",
    "\n",
    "\n",
    "plt.xlim([-1,0.5])\n",
    "plt.ylim([-1,0.5])\n",
    "plt.axis('off')\n",
    "\n",
    "if True:\n",
    "    plt.savefig('4-3-powder.svg', facecolor='white', transparent=False, bbox_inches='tight')\n",
    "\n",
    "plt.show()"
   ]
  }
 ],
 "metadata": {
  "kernelspec": {
   "display_name": "Python 3",
   "language": "python",
   "name": "python3"
  },
  "language_info": {
   "codemirror_mode": {
    "name": "ipython",
    "version": 3
   },
   "file_extension": ".py",
   "mimetype": "text/x-python",
   "name": "python",
   "nbconvert_exporter": "python",
   "pygments_lexer": "ipython3",
   "version": "3.8.5"
  }
 },
 "nbformat": 4,
 "nbformat_minor": 4
}
